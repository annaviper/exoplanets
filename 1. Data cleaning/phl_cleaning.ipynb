{
 "cells": [
  {
   "cell_type": "code",
   "execution_count": 1,
   "metadata": {},
   "outputs": [],
   "source": [
    "import pandas as pd\n",
    "import numpy as np\n",
    "import matplotlib.pyplot as plt\n",
    "import seaborn as sns\n",
    "%matplotlib inline\n",
    "\n",
    "# Increasing the number of rows and columns shown to visualize everything\n",
    "pd.set_option('display.max_rows', 500)\n",
    "pd.set_option('display.max_columns', 500)\n",
    "pd.set_option('display.width', 1000)"
   ]
  },
  {
   "cell_type": "code",
   "execution_count": 2,
   "metadata": {},
   "outputs": [],
   "source": [
    "from sqlalchemy import create_engine\n",
    "\n",
    "driver = 'mysql+pymysql:'\n",
    "user = 'root'\n",
    "password = ''\n",
    "ip = '35.198.146.55'\n",
    "database = 'exoplanets'\n",
    "connection_string = f'{driver}//{user}:{password}@{ip}/{database}'\n",
    "engine = create_engine(connection_string)\n",
    "\n",
    "#pzone_class.to_sql('pzone_class', con=engine, if_exists='replace')"
   ]
  },
  {
   "cell_type": "code",
   "execution_count": 3,
   "metadata": {},
   "outputs": [
    {
     "name": "stderr",
     "output_type": "stream",
     "text": [
      "b'Skipping line 3742: expected 68 fields, saw 69\\nSkipping line 3743: expected 68 fields, saw 69\\n'\n"
     ]
    },
    {
     "data": {
      "text/html": [
       "<div>\n",
       "<style scoped>\n",
       "    .dataframe tbody tr th:only-of-type {\n",
       "        vertical-align: middle;\n",
       "    }\n",
       "\n",
       "    .dataframe tbody tr th {\n",
       "        vertical-align: top;\n",
       "    }\n",
       "\n",
       "    .dataframe thead th {\n",
       "        text-align: right;\n",
       "    }\n",
       "</style>\n",
       "<table border=\"1\" class=\"dataframe\">\n",
       "  <thead>\n",
       "    <tr style=\"text-align: right;\">\n",
       "      <th></th>\n",
       "      <th>P. Name</th>\n",
       "      <th>P. Name Kepler</th>\n",
       "      <th>P. Name KOI</th>\n",
       "      <th>P. Zone Class</th>\n",
       "      <th>P. Mass Class</th>\n",
       "      <th>P. Composition Class</th>\n",
       "      <th>P. Atmosphere Class</th>\n",
       "      <th>P. Habitable Class</th>\n",
       "      <th>P. Min Mass (EU)</th>\n",
       "      <th>P. Mass (EU)</th>\n",
       "      <th>P. Max Mass (EU)</th>\n",
       "      <th>P. Radius (EU)</th>\n",
       "      <th>P. Density (EU)</th>\n",
       "      <th>P. Gravity (EU)</th>\n",
       "      <th>P. Esc Vel (EU)</th>\n",
       "      <th>P. SFlux Min (EU)</th>\n",
       "      <th>P. SFlux Mean (EU)</th>\n",
       "      <th>P. SFlux Max (EU)</th>\n",
       "      <th>P. Teq Min (K)</th>\n",
       "      <th>P. Teq Mean (K)</th>\n",
       "      <th>P. Teq Max (K)</th>\n",
       "      <th>P. Ts Min (K)</th>\n",
       "      <th>P. Ts Mean (K)</th>\n",
       "      <th>P. Ts Max (K)</th>\n",
       "      <th>P. Surf Press (EU)</th>\n",
       "      <th>P. Mag</th>\n",
       "      <th>P. Appar Size (deg)</th>\n",
       "      <th>P. Period (days)</th>\n",
       "      <th>P. Sem Major Axis (AU)</th>\n",
       "      <th>P. Eccentricity</th>\n",
       "      <th>P. Mean Distance (AU)</th>\n",
       "      <th>P. Inclination (deg)</th>\n",
       "      <th>P. Omega (deg)</th>\n",
       "      <th>S. Name</th>\n",
       "      <th>S. Name HD</th>\n",
       "      <th>S. Name HIP</th>\n",
       "      <th>S. Constellation</th>\n",
       "      <th>S. Type</th>\n",
       "      <th>S. Mass (SU)</th>\n",
       "      <th>S. Radius (SU)</th>\n",
       "      <th>S. Teff (K)</th>\n",
       "      <th>S. Luminosity (SU)</th>\n",
       "      <th>S. [Fe/H]</th>\n",
       "      <th>S. Age (Gyrs)</th>\n",
       "      <th>S. Appar Mag</th>\n",
       "      <th>S. Distance (pc)</th>\n",
       "      <th>S. RA (hrs)</th>\n",
       "      <th>S. DEC (deg)</th>\n",
       "      <th>S. Mag from Planet</th>\n",
       "      <th>S. Size from Planet (deg)</th>\n",
       "      <th>S. No. Planets</th>\n",
       "      <th>S. No. Planets HZ</th>\n",
       "      <th>S. Hab Zone Min (AU)</th>\n",
       "      <th>S. Hab Zone Max (AU)</th>\n",
       "      <th>P. HZD</th>\n",
       "      <th>P. HZC</th>\n",
       "      <th>P. HZA</th>\n",
       "      <th>P. HZI</th>\n",
       "      <th>P. SPH</th>\n",
       "      <th>P. Int ESI</th>\n",
       "      <th>P. Surf ESI</th>\n",
       "      <th>P. ESI</th>\n",
       "      <th>S. HabCat</th>\n",
       "      <th>P. Habitable</th>\n",
       "      <th>P. Hab Moon</th>\n",
       "      <th>P. Confirmed</th>\n",
       "      <th>P. Disc. Method</th>\n",
       "      <th>P. Disc. Year</th>\n",
       "    </tr>\n",
       "  </thead>\n",
       "  <tbody>\n",
       "    <tr>\n",
       "      <th>0</th>\n",
       "      <td>1RXS 1609 b</td>\n",
       "      <td>NaN</td>\n",
       "      <td>NaN</td>\n",
       "      <td>Cold</td>\n",
       "      <td>Jovian</td>\n",
       "      <td>gas</td>\n",
       "      <td>hydrogen-rich</td>\n",
       "      <td>non-habitable</td>\n",
       "      <td>NaN</td>\n",
       "      <td>4451.16</td>\n",
       "      <td>NaN</td>\n",
       "      <td>19.04</td>\n",
       "      <td>0.64</td>\n",
       "      <td>12.28</td>\n",
       "      <td>15.29</td>\n",
       "      <td>4.079750e-06</td>\n",
       "      <td>4.079751e-06</td>\n",
       "      <td>4.079751e-06</td>\n",
       "      <td>11.4</td>\n",
       "      <td>11.4</td>\n",
       "      <td>11.4</td>\n",
       "      <td>NaN</td>\n",
       "      <td>NaN</td>\n",
       "      <td>NaN</td>\n",
       "      <td>2870.4</td>\n",
       "      <td>-10.06</td>\n",
       "      <td>36.81</td>\n",
       "      <td>NaN</td>\n",
       "      <td>330.0</td>\n",
       "      <td>0.0</td>\n",
       "      <td>330.0</td>\n",
       "      <td>NaN</td>\n",
       "      <td>0.0</td>\n",
       "      <td>1RXS 1609</td>\n",
       "      <td>NaN</td>\n",
       "      <td>NaN</td>\n",
       "      <td>Sco</td>\n",
       "      <td>K7V</td>\n",
       "      <td>0.73</td>\n",
       "      <td>1.35</td>\n",
       "      <td>4060.0</td>\n",
       "      <td>0.444285</td>\n",
       "      <td>NaN</td>\n",
       "      <td>0.011</td>\n",
       "      <td>NaN</td>\n",
       "      <td>145.0</td>\n",
       "      <td>16.1583</td>\n",
       "      <td>-21.0828</td>\n",
       "      <td>-13.2</td>\n",
       "      <td>0.0022</td>\n",
       "      <td>1</td>\n",
       "      <td>0</td>\n",
       "      <td>0.540</td>\n",
       "      <td>1.362</td>\n",
       "      <td>800.07</td>\n",
       "      <td>23.51</td>\n",
       "      <td>85.62</td>\n",
       "      <td>0.00</td>\n",
       "      <td>NaN</td>\n",
       "      <td>0.0</td>\n",
       "      <td>0.0</td>\n",
       "      <td>0.05</td>\n",
       "      <td>0</td>\n",
       "      <td>0</td>\n",
       "      <td>0</td>\n",
       "      <td>1</td>\n",
       "      <td>Imaging</td>\n",
       "      <td>2008.00</td>\n",
       "    </tr>\n",
       "    <tr>\n",
       "      <th>1</th>\n",
       "      <td>1SWASP J1407 b</td>\n",
       "      <td>NaN</td>\n",
       "      <td>NaN</td>\n",
       "      <td>Cold</td>\n",
       "      <td>Jovian</td>\n",
       "      <td>gas</td>\n",
       "      <td>hydrogen-rich</td>\n",
       "      <td>non-habitable</td>\n",
       "      <td>6358.80</td>\n",
       "      <td>6358.80</td>\n",
       "      <td>NaN</td>\n",
       "      <td>10.94</td>\n",
       "      <td>4.86</td>\n",
       "      <td>53.12</td>\n",
       "      <td>24.11</td>\n",
       "      <td>0.02166914</td>\n",
       "      <td>0.02166914</td>\n",
       "      <td>0.02166914</td>\n",
       "      <td>97.7</td>\n",
       "      <td>97.7</td>\n",
       "      <td>97.7</td>\n",
       "      <td>NaN</td>\n",
       "      <td>NaN</td>\n",
       "      <td>NaN</td>\n",
       "      <td>30873.8</td>\n",
       "      <td>-18.21</td>\n",
       "      <td>20.91</td>\n",
       "      <td>3725.0</td>\n",
       "      <td>3.9</td>\n",
       "      <td>0.0</td>\n",
       "      <td>3.9</td>\n",
       "      <td>NaN</td>\n",
       "      <td>0.0</td>\n",
       "      <td>1SWASP J1407</td>\n",
       "      <td>NaN</td>\n",
       "      <td>NaN</td>\n",
       "      <td>Cen</td>\n",
       "      <td>K</td>\n",
       "      <td>0.90</td>\n",
       "      <td>0.99</td>\n",
       "      <td>4400.0</td>\n",
       "      <td>0.329588</td>\n",
       "      <td>NaN</td>\n",
       "      <td>0.016</td>\n",
       "      <td>12.4</td>\n",
       "      <td>133.0</td>\n",
       "      <td>14.1300</td>\n",
       "      <td>-39.7619</td>\n",
       "      <td>-22.5</td>\n",
       "      <td>0.1353</td>\n",
       "      <td>1</td>\n",
       "      <td>0</td>\n",
       "      <td>0.461</td>\n",
       "      <td>1.143</td>\n",
       "      <td>9.07</td>\n",
       "      <td>15.30</td>\n",
       "      <td>45.41</td>\n",
       "      <td>0.02</td>\n",
       "      <td>NaN</td>\n",
       "      <td>0.0</td>\n",
       "      <td>0.0</td>\n",
       "      <td>0.07</td>\n",
       "      <td>0</td>\n",
       "      <td>0</td>\n",
       "      <td>0</td>\n",
       "      <td>1</td>\n",
       "      <td>Primary Transit</td>\n",
       "      <td>2012.00</td>\n",
       "    </tr>\n",
       "    <tr>\n",
       "      <th>2</th>\n",
       "      <td>2M 0103-55(AB) b</td>\n",
       "      <td>NaN</td>\n",
       "      <td>NaN</td>\n",
       "      <td>Cold</td>\n",
       "      <td>Jovian</td>\n",
       "      <td>gas</td>\n",
       "      <td>hydrogen-rich</td>\n",
       "      <td>non-habitable</td>\n",
       "      <td>4133.22</td>\n",
       "      <td>4133.22</td>\n",
       "      <td>NaN</td>\n",
       "      <td>11.40</td>\n",
       "      <td>2.79</td>\n",
       "      <td>31.79</td>\n",
       "      <td>19.04</td>\n",
       "      <td>3.961934e-06</td>\n",
       "      <td>3.961934e-06</td>\n",
       "      <td>3.961935e-06</td>\n",
       "      <td>11.4</td>\n",
       "      <td>11.4</td>\n",
       "      <td>11.4</td>\n",
       "      <td>NaN</td>\n",
       "      <td>NaN</td>\n",
       "      <td>NaN</td>\n",
       "      <td>11520.8</td>\n",
       "      <td>-8.91</td>\n",
       "      <td>21.80</td>\n",
       "      <td>NaN</td>\n",
       "      <td>84.0</td>\n",
       "      <td>0.0</td>\n",
       "      <td>84.0</td>\n",
       "      <td>NaN</td>\n",
       "      <td>0.0</td>\n",
       "      <td>2M 0103-55(AB)</td>\n",
       "      <td>NaN</td>\n",
       "      <td>NaN</td>\n",
       "      <td>Phe</td>\n",
       "      <td>M</td>\n",
       "      <td>0.40</td>\n",
       "      <td>0.38</td>\n",
       "      <td>3840.0</td>\n",
       "      <td>0.027955</td>\n",
       "      <td>NaN</td>\n",
       "      <td>0.030</td>\n",
       "      <td>NaN</td>\n",
       "      <td>47.2</td>\n",
       "      <td>1.0600</td>\n",
       "      <td>-55.2656</td>\n",
       "      <td>-13.2</td>\n",
       "      <td>0.0024</td>\n",
       "      <td>1</td>\n",
       "      <td>0</td>\n",
       "      <td>0.136</td>\n",
       "      <td>0.347</td>\n",
       "      <td>793.67</td>\n",
       "      <td>12.57</td>\n",
       "      <td>107.44</td>\n",
       "      <td>0.00</td>\n",
       "      <td>NaN</td>\n",
       "      <td>0.0</td>\n",
       "      <td>0.0</td>\n",
       "      <td>0.06</td>\n",
       "      <td>0</td>\n",
       "      <td>0</td>\n",
       "      <td>0</td>\n",
       "      <td>1</td>\n",
       "      <td>Imaging</td>\n",
       "      <td>2013.00</td>\n",
       "    </tr>\n",
       "    <tr>\n",
       "      <th>3</th>\n",
       "      <td>2M 0122-24 b</td>\n",
       "      <td>NaN</td>\n",
       "      <td>NaN</td>\n",
       "      <td>Cold</td>\n",
       "      <td>Jovian</td>\n",
       "      <td>gas</td>\n",
       "      <td>hydrogen-rich</td>\n",
       "      <td>non-habitable</td>\n",
       "      <td>NaN</td>\n",
       "      <td>6358.80</td>\n",
       "      <td>NaN</td>\n",
       "      <td>11.20</td>\n",
       "      <td>4.53</td>\n",
       "      <td>50.69</td>\n",
       "      <td>23.83</td>\n",
       "      <td>1.033854e-05</td>\n",
       "      <td>1.033854e-05</td>\n",
       "      <td>1.033854e-05</td>\n",
       "      <td>14.4</td>\n",
       "      <td>14.4</td>\n",
       "      <td>14.4</td>\n",
       "      <td>NaN</td>\n",
       "      <td>NaN</td>\n",
       "      <td>NaN</td>\n",
       "      <td>28780.4</td>\n",
       "      <td>-9.92</td>\n",
       "      <td>21.41</td>\n",
       "      <td>NaN</td>\n",
       "      <td>52.0</td>\n",
       "      <td>0.0</td>\n",
       "      <td>52.0</td>\n",
       "      <td>NaN</td>\n",
       "      <td>0.0</td>\n",
       "      <td>2M 0122-24</td>\n",
       "      <td>NaN</td>\n",
       "      <td>NaN</td>\n",
       "      <td>Cet</td>\n",
       "      <td>M3.5</td>\n",
       "      <td>0.40</td>\n",
       "      <td>0.38</td>\n",
       "      <td>3840.0</td>\n",
       "      <td>0.027955</td>\n",
       "      <td>NaN</td>\n",
       "      <td>0.120</td>\n",
       "      <td>NaN</td>\n",
       "      <td>36.0</td>\n",
       "      <td>1.3808</td>\n",
       "      <td>-24.6142</td>\n",
       "      <td>-14.2</td>\n",
       "      <td>0.0039</td>\n",
       "      <td>1</td>\n",
       "      <td>0</td>\n",
       "      <td>0.136</td>\n",
       "      <td>0.347</td>\n",
       "      <td>490.45</td>\n",
       "      <td>15.72</td>\n",
       "      <td>119.46</td>\n",
       "      <td>0.00</td>\n",
       "      <td>NaN</td>\n",
       "      <td>0.0</td>\n",
       "      <td>0.0</td>\n",
       "      <td>0.08</td>\n",
       "      <td>0</td>\n",
       "      <td>0</td>\n",
       "      <td>0</td>\n",
       "      <td>1</td>\n",
       "      <td>Imaging</td>\n",
       "      <td>2013.00</td>\n",
       "    </tr>\n",
       "    <tr>\n",
       "      <th>4</th>\n",
       "      <td>2M 0219-39 b</td>\n",
       "      <td>NaN</td>\n",
       "      <td>NaN</td>\n",
       "      <td>Cold</td>\n",
       "      <td>Jovian</td>\n",
       "      <td>gas</td>\n",
       "      <td>hydrogen-rich</td>\n",
       "      <td>non-habitable</td>\n",
       "      <td>NaN</td>\n",
       "      <td>4419.37</td>\n",
       "      <td>NaN</td>\n",
       "      <td>16.13</td>\n",
       "      <td>1.05</td>\n",
       "      <td>16.99</td>\n",
       "      <td>16.55</td>\n",
       "      <td>2.368772e-07</td>\n",
       "      <td>2.368772e-07</td>\n",
       "      <td>2.368773e-07</td>\n",
       "      <td>5.6</td>\n",
       "      <td>5.6</td>\n",
       "      <td>5.6</td>\n",
       "      <td>NaN</td>\n",
       "      <td>NaN</td>\n",
       "      <td>NaN</td>\n",
       "      <td>4655.6</td>\n",
       "      <td>-6.60</td>\n",
       "      <td>31.03</td>\n",
       "      <td>NaN</td>\n",
       "      <td>156.0</td>\n",
       "      <td>0.0</td>\n",
       "      <td>156.0</td>\n",
       "      <td>NaN</td>\n",
       "      <td>0.0</td>\n",
       "      <td>2M 0219-39</td>\n",
       "      <td>NaN</td>\n",
       "      <td>NaN</td>\n",
       "      <td>For</td>\n",
       "      <td>M6</td>\n",
       "      <td>0.11</td>\n",
       "      <td>0.27</td>\n",
       "      <td>3064.0</td>\n",
       "      <td>0.005765</td>\n",
       "      <td>NaN</td>\n",
       "      <td>NaN</td>\n",
       "      <td>NaN</td>\n",
       "      <td>39.4</td>\n",
       "      <td>2.3228</td>\n",
       "      <td>-39.4231</td>\n",
       "      <td>-10.1</td>\n",
       "      <td>0.0009</td>\n",
       "      <td>1</td>\n",
       "      <td>0</td>\n",
       "      <td>0.062</td>\n",
       "      <td>0.165</td>\n",
       "      <td>3028.82</td>\n",
       "      <td>19.46</td>\n",
       "      <td>133.25</td>\n",
       "      <td>0.00</td>\n",
       "      <td>NaN</td>\n",
       "      <td>0.0</td>\n",
       "      <td>0.0</td>\n",
       "      <td>0.06</td>\n",
       "      <td>0</td>\n",
       "      <td>0</td>\n",
       "      <td>0</td>\n",
       "      <td>1</td>\n",
       "      <td>Imaging</td>\n",
       "      <td>2015.00</td>\n",
       "    </tr>\n",
       "  </tbody>\n",
       "</table>\n",
       "</div>"
      ],
      "text/plain": [
       "            P. Name P. Name Kepler  P. Name KOI P. Zone Class P. Mass Class P. Composition Class P. Atmosphere Class P. Habitable Class  P. Min Mass (EU)  P. Mass (EU)  P. Max Mass (EU)  P. Radius (EU)  P. Density (EU)  P. Gravity (EU)  P. Esc Vel (EU) P. SFlux Min (EU) P. SFlux Mean (EU) P. SFlux Max (EU)  P. Teq Min (K)  P. Teq Mean (K)  P. Teq Max (K)  P. Ts Min (K)  P. Ts Mean (K)  P. Ts Max (K)  P. Surf Press (EU)  P. Mag  P. Appar Size (deg)  P. Period (days)  P. Sem Major Axis (AU)  P. Eccentricity  P. Mean Distance (AU)  P. Inclination (deg)  P. Omega (deg)         S. Name S. Name HD S. Name HIP S. Constellation S. Type  S. Mass (SU)  S. Radius (SU)  S. Teff (K)  S. Luminosity (SU)  S. [Fe/H]  S. Age (Gyrs)  S. Appar Mag  S. Distance (pc)  S. RA (hrs)  S. DEC (deg)  S. Mag from Planet  S. Size from Planet (deg)  S. No. Planets  S. No. Planets HZ  S. Hab Zone Min (AU)  S. Hab Zone Max (AU)   P. HZD  P. HZC  P. HZA  P. HZI  P. SPH  P. Int ESI  P. Surf ESI  P. ESI  S. HabCat  \\\n",
       "0       1RXS 1609 b            NaN          NaN          Cold        Jovian                  gas       hydrogen-rich      non-habitable               NaN       4451.16               NaN           19.04             0.64            12.28            15.29      4.079750e-06       4.079751e-06      4.079751e-06            11.4             11.4            11.4            NaN             NaN            NaN              2870.4  -10.06                36.81               NaN                   330.0              0.0                  330.0                   NaN             0.0       1RXS 1609        NaN         NaN              Sco     K7V          0.73            1.35       4060.0            0.444285        NaN          0.011           NaN             145.0      16.1583      -21.0828               -13.2                     0.0022               1                  0                 0.540                 1.362   800.07   23.51   85.62    0.00     NaN         0.0          0.0    0.05          0   \n",
       "1    1SWASP J1407 b            NaN          NaN          Cold        Jovian                  gas       hydrogen-rich      non-habitable           6358.80       6358.80               NaN           10.94             4.86            53.12            24.11        0.02166914         0.02166914        0.02166914            97.7             97.7            97.7            NaN             NaN            NaN             30873.8  -18.21                20.91            3725.0                     3.9              0.0                    3.9                   NaN             0.0    1SWASP J1407        NaN         NaN              Cen       K          0.90            0.99       4400.0            0.329588        NaN          0.016          12.4             133.0      14.1300      -39.7619               -22.5                     0.1353               1                  0                 0.461                 1.143     9.07   15.30   45.41    0.02     NaN         0.0          0.0    0.07          0   \n",
       "2  2M 0103-55(AB) b            NaN          NaN          Cold        Jovian                  gas       hydrogen-rich      non-habitable           4133.22       4133.22               NaN           11.40             2.79            31.79            19.04      3.961934e-06       3.961934e-06      3.961935e-06            11.4             11.4            11.4            NaN             NaN            NaN             11520.8   -8.91                21.80               NaN                    84.0              0.0                   84.0                   NaN             0.0  2M 0103-55(AB)        NaN         NaN              Phe       M          0.40            0.38       3840.0            0.027955        NaN          0.030           NaN              47.2       1.0600      -55.2656               -13.2                     0.0024               1                  0                 0.136                 0.347   793.67   12.57  107.44    0.00     NaN         0.0          0.0    0.06          0   \n",
       "3      2M 0122-24 b            NaN          NaN          Cold        Jovian                  gas       hydrogen-rich      non-habitable               NaN       6358.80               NaN           11.20             4.53            50.69            23.83      1.033854e-05       1.033854e-05      1.033854e-05            14.4             14.4            14.4            NaN             NaN            NaN             28780.4   -9.92                21.41               NaN                    52.0              0.0                   52.0                   NaN             0.0      2M 0122-24        NaN         NaN              Cet    M3.5          0.40            0.38       3840.0            0.027955        NaN          0.120           NaN              36.0       1.3808      -24.6142               -14.2                     0.0039               1                  0                 0.136                 0.347   490.45   15.72  119.46    0.00     NaN         0.0          0.0    0.08          0   \n",
       "4      2M 0219-39 b            NaN          NaN          Cold        Jovian                  gas       hydrogen-rich      non-habitable               NaN       4419.37               NaN           16.13             1.05            16.99            16.55      2.368772e-07       2.368772e-07      2.368773e-07             5.6              5.6             5.6            NaN             NaN            NaN              4655.6   -6.60                31.03               NaN                   156.0              0.0                  156.0                   NaN             0.0      2M 0219-39        NaN         NaN              For      M6          0.11            0.27       3064.0            0.005765        NaN            NaN           NaN              39.4       2.3228      -39.4231               -10.1                     0.0009               1                  0                 0.062                 0.165  3028.82   19.46  133.25    0.00     NaN         0.0          0.0    0.06          0   \n",
       "\n",
       "   P. Habitable  P. Hab Moon  P. Confirmed  P. Disc. Method  P. Disc. Year  \n",
       "0             0            0             1          Imaging        2008.00  \n",
       "1             0            0             1  Primary Transit        2012.00  \n",
       "2             0            0             1          Imaging        2013.00  \n",
       "3             0            0             1          Imaging        2013.00  \n",
       "4             0            0             1          Imaging        2015.00  "
      ]
     },
     "execution_count": 3,
     "metadata": {},
     "output_type": "execute_result"
    }
   ],
   "source": [
    "#Loading data\n",
    "phl = pd.read_csv('../datasets/phl_hec_all_confirmed.csv', error_bad_lines=False)\n",
    "phl.head()"
   ]
  },
  {
   "cell_type": "code",
   "execution_count": 4,
   "metadata": {},
   "outputs": [
    {
     "data": {
      "text/plain": [
       "(3873, 68)"
      ]
     },
     "execution_count": 4,
     "metadata": {},
     "output_type": "execute_result"
    }
   ],
   "source": [
    "phl.shape"
   ]
  },
  {
   "cell_type": "markdown",
   "metadata": {},
   "source": [
    "## Dropping information and dealing with NaN values"
   ]
  },
  {
   "cell_type": "code",
   "execution_count": 5,
   "metadata": {},
   "outputs": [],
   "source": [
    "# Removing columns with no valuable information for the project\n",
    "phl.drop(['P. Name Kepler', 'P. Int ESI', 'P. Surf ESI', 'S. HabCat', 'P. SPH', 'S. Size from Planet (deg)', 'S. Mag from Planet', 'S. Appar Mag', 'P. Omega (deg)', 'S. Name HIP', 'S. [Fe/H]', 'P. Inclination (deg)', 'P. Name KOI', 'S. Name HD', 'P. Min Mass (EU)', 'P. Max Mass (EU)', 'P. SFlux Min (EU)', 'P. SFlux Max (EU)', 'P. Teq Min (K)', 'P. Teq Max (K)', 'P. Ts Min (K)', 'S. Constellation', 'S. Name', 'P. Ts Max (K)'], axis=1, inplace=True)"
   ]
  },
  {
   "cell_type": "code",
   "execution_count": 6,
   "metadata": {},
   "outputs": [
    {
     "data": {
      "text/plain": [
       "P. Name                      0\n",
       "P. Zone Class               46\n",
       "P. Mass Class                6\n",
       "P. Composition Class        41\n",
       "P. Atmosphere Class         85\n",
       "P. Habitable Class           0\n",
       "P. Mass (EU)                33\n",
       "P. Radius (EU)              12\n",
       "P. Density (EU)             41\n",
       "P. Gravity (EU)             41\n",
       "P. Esc Vel (EU)             41\n",
       "P. SFlux Mean (EU)           0\n",
       "P. Teq Mean (K)             46\n",
       "P. Ts Mean (K)            2125\n",
       "P. Surf Press (EU)          41\n",
       "P. Mag                      56\n",
       "P. Appar Size (deg)         12\n",
       "P. Period (days)           150\n",
       "P. Sem Major Axis (AU)      35\n",
       "P. Eccentricity              0\n",
       "P. Mean Distance (AU)       35\n",
       "S. Type                     84\n",
       "S. Mass (SU)                47\n",
       "S. Radius (SU)             112\n",
       "S. Teff (K)                 99\n",
       "S. Luminosity (SU)          28\n",
       "S. Age (Gyrs)             1551\n",
       "S. Distance (pc)          1187\n",
       "S. RA (hrs)                  0\n",
       "S. DEC (deg)                 0\n",
       "S. No. Planets               0\n",
       "S. No. Planets HZ            0\n",
       "S. Hab Zone Min (AU)       115\n",
       "S. Hab Zone Max (AU)       115\n",
       "P. HZD                      46\n",
       "P. HZC                      41\n",
       "P. HZA                      85\n",
       "P. HZI                      85\n",
       "P. ESI                      48\n",
       "P. Habitable                 0\n",
       "P. Hab Moon                  0\n",
       "P. Confirmed                 0\n",
       "P. Disc. Method              0\n",
       "P. Disc. Year                0\n",
       "dtype: int64"
      ]
     },
     "execution_count": 6,
     "metadata": {},
     "output_type": "execute_result"
    }
   ],
   "source": [
    "# Checking the number of NaNs on the columns left\n",
    "phl.isnull().sum()"
   ]
  },
  {
   "cell_type": "code",
   "execution_count": 7,
   "metadata": {},
   "outputs": [
    {
     "data": {
      "text/plain": [
       "<matplotlib.axes._subplots.AxesSubplot at 0x1a234a20f0>"
      ]
     },
     "execution_count": 7,
     "metadata": {},
     "output_type": "execute_result"
    },
    {
     "data": {
      "image/png": "[encoded data removed]",
      "text/plain": [
       "<Figure size 720x504 with 1 Axes>"
      ]
     },
     "metadata": {
      "needs_background": "light"
     },
     "output_type": "display_data"
    }
   ],
   "source": [
    "# Visualizing the NaN values left\n",
    "plt.figure(figsize=(10,7))\n",
    "sns.heatmap(phl.isnull(), cbar = False, cmap='viridis')"
   ]
  },
  {
   "cell_type": "code",
   "execution_count": 8,
   "metadata": {},
   "outputs": [],
   "source": [
    "# Removing column with high volume of NaNs (>1K)\n",
    "phl.drop(['P. Ts Mean (K)', 'S. Age (Gyrs)', 'S. Distance (pc)'], axis=1, inplace=True)"
   ]
  },
  {
   "cell_type": "code",
   "execution_count": 9,
   "metadata": {},
   "outputs": [
    {
     "data": {
      "text/plain": [
       "P. Name                    object\n",
       "P. Zone Class              object\n",
       "P. Mass Class              object\n",
       "P. Composition Class       object\n",
       "P. Atmosphere Class        object\n",
       "P. Habitable Class         object\n",
       "P. Mass (EU)              float64\n",
       "P. Radius (EU)            float64\n",
       "P. Density (EU)           float64\n",
       "P. Gravity (EU)           float64\n",
       "P. Esc Vel (EU)           float64\n",
       "P. SFlux Mean (EU)         object\n",
       "P. Teq Mean (K)           float64\n",
       "P. Surf Press (EU)        float64\n",
       "P. Mag                    float64\n",
       "P. Appar Size (deg)       float64\n",
       "P. Period (days)          float64\n",
       "P. Sem Major Axis (AU)    float64\n",
       "P. Eccentricity           float64\n",
       "P. Mean Distance (AU)     float64\n",
       "S. Type                    object\n",
       "S. Mass (SU)              float64\n",
       "S. Radius (SU)            float64\n",
       "S. Teff (K)               float64\n",
       "S. Luminosity (SU)        float64\n",
       "S. RA (hrs)               float64\n",
       "S. DEC (deg)              float64\n",
       "S. No. Planets              int64\n",
       "S. No. Planets HZ           int64\n",
       "S. Hab Zone Min (AU)      float64\n",
       "S. Hab Zone Max (AU)      float64\n",
       "P. HZD                    float64\n",
       "P. HZC                    float64\n",
       "P. HZA                    float64\n",
       "P. HZI                    float64\n",
       "P. ESI                    float64\n",
       "P. Habitable                int64\n",
       "P. Hab Moon                 int64\n",
       "P. Confirmed                int64\n",
       "P. Disc. Method            object\n",
       "P. Disc. Year              object\n",
       "dtype: object"
      ]
     },
     "execution_count": 9,
     "metadata": {},
     "output_type": "execute_result"
    }
   ],
   "source": [
    "# Cheacking that the types of the columns are properly assigned\n",
    "phl.dtypes"
   ]
  },
  {
   "cell_type": "markdown",
   "metadata": {},
   "source": [
    "'P. SFlux Mean (EU)' and 'P. Disc. Year' are objects when they should be numeric."
   ]
  },
  {
   "cell_type": "code",
   "execution_count": 10,
   "metadata": {},
   "outputs": [
    {
     "name": "stdout",
     "output_type": "stream",
     "text": [
      "float64\n",
      "0    4.079751e-06\n",
      "1    2.166914e-02\n",
      "2    3.961934e-06\n",
      "3    1.033854e-05\n",
      "4    2.368772e-07\n",
      "Name: P. SFlux Mean (EU), dtype: float64\n",
      "float64\n",
      "0    2008.0\n",
      "1    2012.0\n",
      "2    2013.0\n",
      "3    2013.0\n",
      "4    2015.0\n",
      "Name: P. Disc. Year, dtype: float64\n"
     ]
    }
   ],
   "source": [
    "# Changing the type of the columns to float64\n",
    "phl['P. SFlux Mean (EU)'] = pd.to_numeric(phl['P. SFlux Mean (EU)'], errors='coerce')\n",
    "phl['P. Disc. Year'] = pd.to_numeric(phl['P. Disc. Year'], errors='coerce')\n",
    "\n",
    "print(phl['P. SFlux Mean (EU)'].dtype)\n",
    "print(phl['P. SFlux Mean (EU)'].head())\n",
    "\n",
    "print(phl['P. Disc. Year'].dtype)\n",
    "print(phl['P. Disc. Year'].head())"
   ]
  },
  {
   "cell_type": "markdown",
   "metadata": {},
   "source": [
    "### Renaming columns for better used on SQL"
   ]
  },
  {
   "cell_type": "code",
   "execution_count": 11,
   "metadata": {},
   "outputs": [
    {
     "data": {
      "text/plain": [
       "Index(['P. Name', 'P. Zone Class', 'P. Mass Class', 'P. Composition Class', 'P. Atmosphere Class', 'P. Habitable Class', 'P. Mass (EU)', 'P. Radius (EU)', 'P. Density (EU)', 'P. Gravity (EU)', 'P. Esc Vel (EU)', 'P. SFlux Mean (EU)', 'P. Teq Mean (K)', 'P. Surf Press (EU)', 'P. Mag', 'P. Appar Size (deg)', 'P. Period (days)', 'P. Sem Major Axis (AU)', 'P. Eccentricity', 'P. Mean Distance (AU)', 'S. Type', 'S. Mass (SU)', 'S. Radius (SU)', 'S. Teff (K)', 'S. Luminosity (SU)', 'S. RA (hrs)', 'S. DEC (deg)', 'S. No. Planets', 'S. No. Planets HZ', 'S. Hab Zone Min (AU)', 'S. Hab Zone Max (AU)', 'P. HZD', 'P. HZC', 'P. HZA', 'P. HZI', 'P. ESI', 'P. Habitable', 'P. Hab Moon', 'P. Confirmed', 'P. Disc. Method', 'P. Disc. Year'], dtype='object')"
      ]
     },
     "execution_count": 11,
     "metadata": {},
     "output_type": "execute_result"
    }
   ],
   "source": [
    "phl.columns"
   ]
  },
  {
   "cell_type": "code",
   "execution_count": 12,
   "metadata": {},
   "outputs": [],
   "source": [
    "cols = phl.columns\n",
    "new_cols = []\n",
    "\n",
    "for name in cols:\n",
    "    if (' ' in name) or ('.' in name) or ('(' in name) or (')' in name):\n",
    "        name = name.replace(' ', '_')\n",
    "        name = name.replace('.', '')\n",
    "        name = name.replace('(', '')\n",
    "        name = name.replace(')', '')\n",
    "        new_cols.append(name)\n",
    "    else:\n",
    "        new_cols.append(name)\n",
    "        \n",
    "phl.columns = new_cols"
   ]
  },
  {
   "cell_type": "code",
   "execution_count": 13,
   "metadata": {},
   "outputs": [
    {
     "data": {
      "text/plain": [
       "Index(['P_Name', 'P_Zone_Class', 'P_Mass_Class', 'P_Composition_Class', 'P_Atmosphere_Class', 'P_Habitable_Class', 'P_Mass_EU', 'P_Radius_EU', 'P_Density_EU', 'P_Gravity_EU', 'P_Esc_Vel_EU', 'P_SFlux_Mean_EU', 'P_Teq_Mean_K', 'P_Surf_Press_EU', 'P_Mag', 'P_Appar_Size_deg', 'P_Period_days', 'P_Sem_Major_Axis_AU', 'P_Eccentricity', 'P_Mean_Distance_AU', 'S_Type', 'S_Mass_SU', 'S_Radius_SU', 'S_Teff_K', 'S_Luminosity_SU', 'S_RA_hrs', 'S_DEC_deg', 'S_No_Planets', 'S_No_Planets_HZ', 'S_Hab_Zone_Min_AU', 'S_Hab_Zone_Max_AU', 'P_HZD', 'P_HZC', 'P_HZA', 'P_HZI', 'P_ESI', 'P_Habitable', 'P_Hab_Moon', 'P_Confirmed', 'P_Disc_Method', 'P_Disc_Year'], dtype='object')"
      ]
     },
     "execution_count": 13,
     "metadata": {},
     "output_type": "execute_result"
    }
   ],
   "source": [
    "phl.columns"
   ]
  },
  {
   "cell_type": "markdown",
   "metadata": {},
   "source": [
    "# Outliers"
   ]
  },
  {
   "cell_type": "code",
   "execution_count": null,
   "metadata": {
    "scrolled": true
   },
   "outputs": [],
   "source": []
  },
  {
   "cell_type": "markdown",
   "metadata": {},
   "source": [
    "### Boxplots"
   ]
  },
  {
   "cell_type": "code",
   "execution_count": 14,
   "metadata": {},
   "outputs": [
    {
     "data": {
      "image/png": "[encoded data removed]",
      "text/plain": [
       "<Figure size 1296x1008 with 33 Axes>"
      ]
     },
     "metadata": {
      "needs_background": "light"
     },
     "output_type": "display_data"
    }
   ],
   "source": [
    "# Visualizing the outliers with boxplots\n",
    "\n",
    "phl_o = phl._get_numeric_data() # Getting only numerical information from dataset\n",
    "\n",
    "f = plt.figure(figsize=(18, 14))\n",
    "i=1\n",
    "import math\n",
    "for col in phl_o.columns:\n",
    "    subplot = f.add_subplot(math.ceil(phl_o.shape[1]/3),3,i)\n",
    "    sns.boxplot(x=phl_o[col].dropna(),whis=10)\n",
    "    i=i+1\n",
    "plt.subplots_adjust(hspace=0.4)\n",
    "plt.show()"
   ]
  },
  {
   "cell_type": "markdown",
   "metadata": {},
   "source": [
    "### IQR\n",
    "\n",
    "Removing of outliers from the whole table"
   ]
  },
  {
   "cell_type": "code",
   "execution_count": 15,
   "metadata": {},
   "outputs": [],
   "source": [
    "# Selecting only the columns with numeric data\n",
    "#phl_numeric = phl._get_numeric_data()"
   ]
  },
  {
   "cell_type": "code",
   "execution_count": 16,
   "metadata": {
    "scrolled": true
   },
   "outputs": [],
   "source": [
    "# Calculating de IQR\n",
    "#Q1 = phl_numeric.quantile(.25)\n",
    "#Q3 = phl_numeric.quantile(.75)\n",
    "#IQR = Q3 - Q1\n",
    "#IQR\n",
    "\n",
    "#Checking how much information we have left\n",
    "#phl_o1 = phl_numeric[~((phl_numeric < (Q1 - 1.5 * IQR)) |(phl_numeric > (Q3 + 1.5 * IQR))).any(axis=1)]\n",
    "#phl_o1.shape"
   ]
  },
  {
   "cell_type": "code",
   "execution_count": 17,
   "metadata": {},
   "outputs": [],
   "source": [
    "#phl.shape"
   ]
  },
  {
   "cell_type": "markdown",
   "metadata": {},
   "source": [
    "Since we've lost too much information, from 3873 to 3873, we change from 1.5 to 3. "
   ]
  },
  {
   "cell_type": "code",
   "execution_count": 18,
   "metadata": {
    "scrolled": true
   },
   "outputs": [],
   "source": [
    "#phl_o3 = phl_numeric[~((phl_numeric < (Q1 - 3 * IQR)) |(phl_numeric > (Q3 + 3 * IQR))).any(axis=1)]\n",
    "#phl_o3.head()"
   ]
  },
  {
   "cell_type": "code",
   "execution_count": 19,
   "metadata": {},
   "outputs": [],
   "source": [
    "#phl_o3.shape"
   ]
  },
  {
   "cell_type": "markdown",
   "metadata": {},
   "source": [
    "## Saving clean data to CSV"
   ]
  },
  {
   "cell_type": "code",
   "execution_count": 20,
   "metadata": {},
   "outputs": [],
   "source": [
    "phl.to_csv('phl_categorical.csv', index=False)"
   ]
  },
  {
   "cell_type": "markdown",
   "metadata": {},
   "source": [
    "# Categorizing columns for SQL"
   ]
  },
  {
   "cell_type": "code",
   "execution_count": 21,
   "metadata": {},
   "outputs": [],
   "source": [
    "set(phl['P_Zone_Class'])\n",
    "\n",
    "zone_dict = {np.nan:0, 'Cold':1, 'Warm':2, 'Hot':3}\n",
    "\n",
    "phl['P_Zone_Class'] = phl['P_Zone_Class'].apply(lambda x: zone_dict[x])"
   ]
  },
  {
   "cell_type": "code",
   "execution_count": 22,
   "metadata": {},
   "outputs": [],
   "source": [
    "mass_dict = {'Jovian':6, 'Mercurian':1, 'Neptunian':5, 'Subterran':2, 'Superterran':4, 'Terran':3, np.nan:0}\n",
    "\n",
    "phl['P_Mass_Class'] = phl['P_Mass_Class'].apply(lambda x: mass_dict[x])"
   ]
  },
  {
   "cell_type": "code",
   "execution_count": 23,
   "metadata": {},
   "outputs": [
    {
     "data": {
      "text/plain": [
       "{'gas', 'iron', nan, 'rocky-iron', 'rocky-water', 'water-gas'}"
      ]
     },
     "execution_count": 23,
     "metadata": {},
     "output_type": "execute_result"
    }
   ],
   "source": [
    "set(phl['P_Composition_Class'])"
   ]
  },
  {
   "cell_type": "code",
   "execution_count": 24,
   "metadata": {},
   "outputs": [],
   "source": [
    "comp_dict = {'gas':5, 'iron':1, np.nan:0, 'rocky-iron':2, 'rocky-water':3, 'water-gas':4}\n",
    "\n",
    "phl['P_Composition_Class'] = phl['P_Composition_Class'].apply(lambda x: comp_dict[x])"
   ]
  },
  {
   "cell_type": "code",
   "execution_count": 25,
   "metadata": {
    "scrolled": false
   },
   "outputs": [
    {
     "data": {
      "text/plain": [
       "{'hypopsychroplanet',\n",
       " 'mesoplanet',\n",
       " 'non-habitable',\n",
       " 'psychroplanet',\n",
       " 'thermoplanet'}"
      ]
     },
     "execution_count": 25,
     "metadata": {},
     "output_type": "execute_result"
    }
   ],
   "source": [
    "set(phl['P_Habitable_Class'])"
   ]
  },
  {
   "cell_type": "code",
   "execution_count": 26,
   "metadata": {},
   "outputs": [],
   "source": [
    "hab_dict = {'hypopsychroplanet':1, 'mesoplanet':3, 'non-habitable':0, 'psychroplanet':2, 'thermoplanet':4}\n",
    "\n",
    "phl['P_Habitable_Class'] = phl['P_Habitable_Class'].apply(lambda x: hab_dict[x])"
   ]
  },
  {
   "cell_type": "code",
   "execution_count": 27,
   "metadata": {},
   "outputs": [
    {
     "data": {
      "text/html": [
       "<div>\n",
       "<style scoped>\n",
       "    .dataframe tbody tr th:only-of-type {\n",
       "        vertical-align: middle;\n",
       "    }\n",
       "\n",
       "    .dataframe tbody tr th {\n",
       "        vertical-align: top;\n",
       "    }\n",
       "\n",
       "    .dataframe thead th {\n",
       "        text-align: right;\n",
       "    }\n",
       "</style>\n",
       "<table border=\"1\" class=\"dataframe\">\n",
       "  <thead>\n",
       "    <tr style=\"text-align: right;\">\n",
       "      <th></th>\n",
       "      <th>P_Name</th>\n",
       "      <th>P_Zone_Class</th>\n",
       "      <th>P_Mass_Class</th>\n",
       "      <th>P_Composition_Class</th>\n",
       "      <th>P_Atmosphere_Class</th>\n",
       "      <th>P_Habitable_Class</th>\n",
       "      <th>P_Mass_EU</th>\n",
       "      <th>P_Radius_EU</th>\n",
       "      <th>P_Density_EU</th>\n",
       "      <th>P_Gravity_EU</th>\n",
       "      <th>P_Esc_Vel_EU</th>\n",
       "      <th>P_SFlux_Mean_EU</th>\n",
       "      <th>P_Teq_Mean_K</th>\n",
       "      <th>P_Surf_Press_EU</th>\n",
       "      <th>P_Mag</th>\n",
       "      <th>P_Appar_Size_deg</th>\n",
       "      <th>P_Period_days</th>\n",
       "      <th>P_Sem_Major_Axis_AU</th>\n",
       "      <th>P_Eccentricity</th>\n",
       "      <th>P_Mean_Distance_AU</th>\n",
       "      <th>S_Type</th>\n",
       "      <th>S_Mass_SU</th>\n",
       "      <th>S_Radius_SU</th>\n",
       "      <th>S_Teff_K</th>\n",
       "      <th>S_Luminosity_SU</th>\n",
       "      <th>S_RA_hrs</th>\n",
       "      <th>S_DEC_deg</th>\n",
       "      <th>S_No_Planets</th>\n",
       "      <th>S_No_Planets_HZ</th>\n",
       "      <th>S_Hab_Zone_Min_AU</th>\n",
       "      <th>S_Hab_Zone_Max_AU</th>\n",
       "      <th>P_HZD</th>\n",
       "      <th>P_HZC</th>\n",
       "      <th>P_HZA</th>\n",
       "      <th>P_HZI</th>\n",
       "      <th>P_ESI</th>\n",
       "      <th>P_Habitable</th>\n",
       "      <th>P_Hab_Moon</th>\n",
       "      <th>P_Confirmed</th>\n",
       "      <th>P_Disc_Method</th>\n",
       "      <th>P_Disc_Year</th>\n",
       "    </tr>\n",
       "  </thead>\n",
       "  <tbody>\n",
       "    <tr>\n",
       "      <th>0</th>\n",
       "      <td>1RXS 1609 b</td>\n",
       "      <td>1</td>\n",
       "      <td>6</td>\n",
       "      <td>5</td>\n",
       "      <td>hydrogen-rich</td>\n",
       "      <td>0</td>\n",
       "      <td>4451.16</td>\n",
       "      <td>19.04</td>\n",
       "      <td>0.64</td>\n",
       "      <td>12.28</td>\n",
       "      <td>15.29</td>\n",
       "      <td>4.079751e-06</td>\n",
       "      <td>11.4</td>\n",
       "      <td>2870.4</td>\n",
       "      <td>-10.06</td>\n",
       "      <td>36.81</td>\n",
       "      <td>NaN</td>\n",
       "      <td>330.0</td>\n",
       "      <td>0.0</td>\n",
       "      <td>330.0</td>\n",
       "      <td>K7V</td>\n",
       "      <td>0.73</td>\n",
       "      <td>1.35</td>\n",
       "      <td>4060.0</td>\n",
       "      <td>0.444285</td>\n",
       "      <td>16.1583</td>\n",
       "      <td>-21.0828</td>\n",
       "      <td>1</td>\n",
       "      <td>0</td>\n",
       "      <td>0.540</td>\n",
       "      <td>1.362</td>\n",
       "      <td>800.07</td>\n",
       "      <td>23.51</td>\n",
       "      <td>85.62</td>\n",
       "      <td>0.00</td>\n",
       "      <td>0.05</td>\n",
       "      <td>0</td>\n",
       "      <td>0</td>\n",
       "      <td>1</td>\n",
       "      <td>Imaging</td>\n",
       "      <td>2008.0</td>\n",
       "    </tr>\n",
       "    <tr>\n",
       "      <th>1</th>\n",
       "      <td>1SWASP J1407 b</td>\n",
       "      <td>1</td>\n",
       "      <td>6</td>\n",
       "      <td>5</td>\n",
       "      <td>hydrogen-rich</td>\n",
       "      <td>0</td>\n",
       "      <td>6358.80</td>\n",
       "      <td>10.94</td>\n",
       "      <td>4.86</td>\n",
       "      <td>53.12</td>\n",
       "      <td>24.11</td>\n",
       "      <td>2.166914e-02</td>\n",
       "      <td>97.7</td>\n",
       "      <td>30873.8</td>\n",
       "      <td>-18.21</td>\n",
       "      <td>20.91</td>\n",
       "      <td>3725.0</td>\n",
       "      <td>3.9</td>\n",
       "      <td>0.0</td>\n",
       "      <td>3.9</td>\n",
       "      <td>K</td>\n",
       "      <td>0.90</td>\n",
       "      <td>0.99</td>\n",
       "      <td>4400.0</td>\n",
       "      <td>0.329588</td>\n",
       "      <td>14.1300</td>\n",
       "      <td>-39.7619</td>\n",
       "      <td>1</td>\n",
       "      <td>0</td>\n",
       "      <td>0.461</td>\n",
       "      <td>1.143</td>\n",
       "      <td>9.07</td>\n",
       "      <td>15.30</td>\n",
       "      <td>45.41</td>\n",
       "      <td>0.02</td>\n",
       "      <td>0.07</td>\n",
       "      <td>0</td>\n",
       "      <td>0</td>\n",
       "      <td>1</td>\n",
       "      <td>Primary Transit</td>\n",
       "      <td>2012.0</td>\n",
       "    </tr>\n",
       "    <tr>\n",
       "      <th>2</th>\n",
       "      <td>2M 0103-55(AB) b</td>\n",
       "      <td>1</td>\n",
       "      <td>6</td>\n",
       "      <td>5</td>\n",
       "      <td>hydrogen-rich</td>\n",
       "      <td>0</td>\n",
       "      <td>4133.22</td>\n",
       "      <td>11.40</td>\n",
       "      <td>2.79</td>\n",
       "      <td>31.79</td>\n",
       "      <td>19.04</td>\n",
       "      <td>3.961934e-06</td>\n",
       "      <td>11.4</td>\n",
       "      <td>11520.8</td>\n",
       "      <td>-8.91</td>\n",
       "      <td>21.80</td>\n",
       "      <td>NaN</td>\n",
       "      <td>84.0</td>\n",
       "      <td>0.0</td>\n",
       "      <td>84.0</td>\n",
       "      <td>M</td>\n",
       "      <td>0.40</td>\n",
       "      <td>0.38</td>\n",
       "      <td>3840.0</td>\n",
       "      <td>0.027955</td>\n",
       "      <td>1.0600</td>\n",
       "      <td>-55.2656</td>\n",
       "      <td>1</td>\n",
       "      <td>0</td>\n",
       "      <td>0.136</td>\n",
       "      <td>0.347</td>\n",
       "      <td>793.67</td>\n",
       "      <td>12.57</td>\n",
       "      <td>107.44</td>\n",
       "      <td>0.00</td>\n",
       "      <td>0.06</td>\n",
       "      <td>0</td>\n",
       "      <td>0</td>\n",
       "      <td>1</td>\n",
       "      <td>Imaging</td>\n",
       "      <td>2013.0</td>\n",
       "    </tr>\n",
       "    <tr>\n",
       "      <th>3</th>\n",
       "      <td>2M 0122-24 b</td>\n",
       "      <td>1</td>\n",
       "      <td>6</td>\n",
       "      <td>5</td>\n",
       "      <td>hydrogen-rich</td>\n",
       "      <td>0</td>\n",
       "      <td>6358.80</td>\n",
       "      <td>11.20</td>\n",
       "      <td>4.53</td>\n",
       "      <td>50.69</td>\n",
       "      <td>23.83</td>\n",
       "      <td>1.033854e-05</td>\n",
       "      <td>14.4</td>\n",
       "      <td>28780.4</td>\n",
       "      <td>-9.92</td>\n",
       "      <td>21.41</td>\n",
       "      <td>NaN</td>\n",
       "      <td>52.0</td>\n",
       "      <td>0.0</td>\n",
       "      <td>52.0</td>\n",
       "      <td>M3.5</td>\n",
       "      <td>0.40</td>\n",
       "      <td>0.38</td>\n",
       "      <td>3840.0</td>\n",
       "      <td>0.027955</td>\n",
       "      <td>1.3808</td>\n",
       "      <td>-24.6142</td>\n",
       "      <td>1</td>\n",
       "      <td>0</td>\n",
       "      <td>0.136</td>\n",
       "      <td>0.347</td>\n",
       "      <td>490.45</td>\n",
       "      <td>15.72</td>\n",
       "      <td>119.46</td>\n",
       "      <td>0.00</td>\n",
       "      <td>0.08</td>\n",
       "      <td>0</td>\n",
       "      <td>0</td>\n",
       "      <td>1</td>\n",
       "      <td>Imaging</td>\n",
       "      <td>2013.0</td>\n",
       "    </tr>\n",
       "    <tr>\n",
       "      <th>4</th>\n",
       "      <td>2M 0219-39 b</td>\n",
       "      <td>1</td>\n",
       "      <td>6</td>\n",
       "      <td>5</td>\n",
       "      <td>hydrogen-rich</td>\n",
       "      <td>0</td>\n",
       "      <td>4419.37</td>\n",
       "      <td>16.13</td>\n",
       "      <td>1.05</td>\n",
       "      <td>16.99</td>\n",
       "      <td>16.55</td>\n",
       "      <td>2.368772e-07</td>\n",
       "      <td>5.6</td>\n",
       "      <td>4655.6</td>\n",
       "      <td>-6.60</td>\n",
       "      <td>31.03</td>\n",
       "      <td>NaN</td>\n",
       "      <td>156.0</td>\n",
       "      <td>0.0</td>\n",
       "      <td>156.0</td>\n",
       "      <td>M6</td>\n",
       "      <td>0.11</td>\n",
       "      <td>0.27</td>\n",
       "      <td>3064.0</td>\n",
       "      <td>0.005765</td>\n",
       "      <td>2.3228</td>\n",
       "      <td>-39.4231</td>\n",
       "      <td>1</td>\n",
       "      <td>0</td>\n",
       "      <td>0.062</td>\n",
       "      <td>0.165</td>\n",
       "      <td>3028.82</td>\n",
       "      <td>19.46</td>\n",
       "      <td>133.25</td>\n",
       "      <td>0.00</td>\n",
       "      <td>0.06</td>\n",
       "      <td>0</td>\n",
       "      <td>0</td>\n",
       "      <td>1</td>\n",
       "      <td>Imaging</td>\n",
       "      <td>2015.0</td>\n",
       "    </tr>\n",
       "  </tbody>\n",
       "</table>\n",
       "</div>"
      ],
      "text/plain": [
       "             P_Name  P_Zone_Class  P_Mass_Class  P_Composition_Class P_Atmosphere_Class  P_Habitable_Class  P_Mass_EU  P_Radius_EU  P_Density_EU  P_Gravity_EU  P_Esc_Vel_EU  P_SFlux_Mean_EU  P_Teq_Mean_K  P_Surf_Press_EU  P_Mag  P_Appar_Size_deg  P_Period_days  P_Sem_Major_Axis_AU  P_Eccentricity  P_Mean_Distance_AU S_Type  S_Mass_SU  S_Radius_SU  S_Teff_K  S_Luminosity_SU  S_RA_hrs  S_DEC_deg  S_No_Planets  S_No_Planets_HZ  S_Hab_Zone_Min_AU  S_Hab_Zone_Max_AU    P_HZD  P_HZC   P_HZA  P_HZI  P_ESI  P_Habitable  P_Hab_Moon  P_Confirmed    P_Disc_Method  P_Disc_Year\n",
       "0       1RXS 1609 b             1             6                    5      hydrogen-rich                  0    4451.16        19.04          0.64         12.28         15.29     4.079751e-06          11.4           2870.4 -10.06             36.81            NaN                330.0             0.0               330.0    K7V       0.73         1.35    4060.0         0.444285   16.1583   -21.0828             1                0              0.540              1.362   800.07  23.51   85.62   0.00   0.05            0           0            1          Imaging       2008.0\n",
       "1    1SWASP J1407 b             1             6                    5      hydrogen-rich                  0    6358.80        10.94          4.86         53.12         24.11     2.166914e-02          97.7          30873.8 -18.21             20.91         3725.0                  3.9             0.0                 3.9      K       0.90         0.99    4400.0         0.329588   14.1300   -39.7619             1                0              0.461              1.143     9.07  15.30   45.41   0.02   0.07            0           0            1  Primary Transit       2012.0\n",
       "2  2M 0103-55(AB) b             1             6                    5      hydrogen-rich                  0    4133.22        11.40          2.79         31.79         19.04     3.961934e-06          11.4          11520.8  -8.91             21.80            NaN                 84.0             0.0                84.0      M       0.40         0.38    3840.0         0.027955    1.0600   -55.2656             1                0              0.136              0.347   793.67  12.57  107.44   0.00   0.06            0           0            1          Imaging       2013.0\n",
       "3      2M 0122-24 b             1             6                    5      hydrogen-rich                  0    6358.80        11.20          4.53         50.69         23.83     1.033854e-05          14.4          28780.4  -9.92             21.41            NaN                 52.0             0.0                52.0   M3.5       0.40         0.38    3840.0         0.027955    1.3808   -24.6142             1                0              0.136              0.347   490.45  15.72  119.46   0.00   0.08            0           0            1          Imaging       2013.0\n",
       "4      2M 0219-39 b             1             6                    5      hydrogen-rich                  0    4419.37        16.13          1.05         16.99         16.55     2.368772e-07           5.6           4655.6  -6.60             31.03            NaN                156.0             0.0               156.0     M6       0.11         0.27    3064.0         0.005765    2.3228   -39.4231             1                0              0.062              0.165  3028.82  19.46  133.25   0.00   0.06            0           0            1          Imaging       2015.0"
      ]
     },
     "execution_count": 27,
     "metadata": {},
     "output_type": "execute_result"
    }
   ],
   "source": [
    "phl.head()"
   ]
  },
  {
   "cell_type": "markdown",
   "metadata": {},
   "source": [
    "# Saving to CSV"
   ]
  },
  {
   "cell_type": "code",
   "execution_count": 28,
   "metadata": {},
   "outputs": [],
   "source": [
    "# Saving clean df with the categorical columns changed\n",
    "phl.to_csv('../datasets/phl.csv', index=False)"
   ]
  },
  {
   "cell_type": "code",
   "execution_count": 29,
   "metadata": {},
   "outputs": [],
   "source": [
    "#phl.to_sql('phl', con=engine, if_exists='replace')"
   ]
  },
  {
   "cell_type": "code",
   "execution_count": null,
   "metadata": {},
   "outputs": [],
   "source": []
  }
 ],
 "metadata": {
  "kernelspec": {
   "display_name": "Python 3",
   "language": "python",
   "name": "python3"
  },
  "language_info": {
   "codemirror_mode": {
    "name": "ipython",
    "version": 3
   },
   "file_extension": ".py",
   "mimetype": "text/x-python",
   "name": "python",
   "nbconvert_exporter": "python",
   "pygments_lexer": "ipython3",
   "version": "3.7.1"
  }
 },
 "nbformat": 4,
 "nbformat_minor": 2
}
