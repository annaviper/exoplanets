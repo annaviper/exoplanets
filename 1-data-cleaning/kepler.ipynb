{
 "cells": [
  {
   "cell_type": "markdown",
   "metadata": {
    "toc": true
   },
   "source": [
    "<h1>Table of Contents<span class=\"tocSkip\"></span></h1>\n",
    "<div class=\"toc\"><ul class=\"toc-item\"><li><span><a href=\"#Kepler-Exoplanet-Search-Results\" data-toc-modified-id=\"Kepler-Exoplanet-Search-Results-1\"><span class=\"toc-item-num\">1&nbsp;&nbsp;</span>Kepler Exoplanet Search Results</a></span><ul class=\"toc-item\"><li><span><a href=\"#Column-selection\" data-toc-modified-id=\"Column-selection-1.1\"><span class=\"toc-item-num\">1.1&nbsp;&nbsp;</span>Column selection</a></span></li><li><span><a href=\"#NaN-values\" data-toc-modified-id=\"NaN-values-1.2\"><span class=\"toc-item-num\">1.2&nbsp;&nbsp;</span>NaN values</a></span><ul class=\"toc-item\"><li><span><a href=\"#Renaming-columns\" data-toc-modified-id=\"Renaming-columns-1.2.1\"><span class=\"toc-item-num\">1.2.1&nbsp;&nbsp;</span>Renaming columns</a></span></li></ul></li><li><span><a href=\"#Types\" data-toc-modified-id=\"Types-1.3\"><span class=\"toc-item-num\">1.3&nbsp;&nbsp;</span>Types</a></span></li></ul></li><li><span><a href=\"#Numerical-columns\" data-toc-modified-id=\"Numerical-columns-2\"><span class=\"toc-item-num\">2&nbsp;&nbsp;</span>Numerical columns</a></span><ul class=\"toc-item\"><li><span><a href=\"#Outliers\" data-toc-modified-id=\"Outliers-2.1\"><span class=\"toc-item-num\">2.1&nbsp;&nbsp;</span>Outliers</a></span></li></ul></li><li><span><a href=\"#Saving-processed-data\" data-toc-modified-id=\"Saving-processed-data-3\"><span class=\"toc-item-num\">3&nbsp;&nbsp;</span>Saving processed data</a></span></li></ul></div>"
   ]
  },
  {
   "cell_type": "code",
   "execution_count": 68,
   "metadata": {},
   "outputs": [
    {
     "data": {
      "text/html": [
       "<style>.container { width:90% !important; }</style>"
      ],
      "text/plain": [
       "<IPython.core.display.HTML object>"
      ]
     },
     "metadata": {},
     "output_type": "display_data"
    }
   ],
   "source": [
    "#Importing standard libraries\n",
    "import pandas as pd\n",
    "import numpy as np\n",
    "import math\n",
    "\n",
    "import matplotlib.pyplot as plt\n",
    "import seaborn as sns\n",
    "%matplotlib inline\n",
    "\n",
    "# Increasing the number of rows and columns shown since database has 65 columns\n",
    "pd.set_option('display.max_rows', 4000)\n",
    "pd.set_option('display.max_columns', 100)\n",
    "from IPython.core.display import display, HTML\n",
    "display(HTML(\"<style>.container { width:90% !important; }</style>\"))"
   ]
  },
  {
   "cell_type": "markdown",
   "metadata": {},
   "source": [
    "# Kepler Exoplanet Search Results"
   ]
  },
  {
   "cell_type": "code",
   "execution_count": 69,
   "metadata": {},
   "outputs": [
    {
     "data": {
      "text/html": [
       "<div>\n",
       "<style scoped>\n",
       "    .dataframe tbody tr th:only-of-type {\n",
       "        vertical-align: middle;\n",
       "    }\n",
       "\n",
       "    .dataframe tbody tr th {\n",
       "        vertical-align: top;\n",
       "    }\n",
       "\n",
       "    .dataframe thead th {\n",
       "        text-align: right;\n",
       "    }\n",
       "</style>\n",
       "<table border=\"1\" class=\"dataframe\">\n",
       "  <thead>\n",
       "    <tr style=\"text-align: right;\">\n",
       "      <th></th>\n",
       "      <th>rowid</th>\n",
       "      <th>kepid</th>\n",
       "      <th>kepoi_name</th>\n",
       "      <th>kepler_name</th>\n",
       "      <th>koi_disposition</th>\n",
       "      <th>koi_pdisposition</th>\n",
       "      <th>koi_score</th>\n",
       "      <th>koi_fpflag_nt</th>\n",
       "      <th>koi_fpflag_ss</th>\n",
       "      <th>koi_fpflag_co</th>\n",
       "      <th>koi_fpflag_ec</th>\n",
       "      <th>koi_period</th>\n",
       "      <th>koi_period_err1</th>\n",
       "      <th>koi_period_err2</th>\n",
       "      <th>koi_time0bk</th>\n",
       "      <th>koi_time0bk_err1</th>\n",
       "      <th>koi_time0bk_err2</th>\n",
       "      <th>koi_impact</th>\n",
       "      <th>koi_impact_err1</th>\n",
       "      <th>koi_impact_err2</th>\n",
       "      <th>koi_duration</th>\n",
       "      <th>koi_duration_err1</th>\n",
       "      <th>koi_duration_err2</th>\n",
       "      <th>koi_depth</th>\n",
       "      <th>koi_depth_err1</th>\n",
       "      <th>koi_depth_err2</th>\n",
       "      <th>koi_prad</th>\n",
       "      <th>koi_prad_err1</th>\n",
       "      <th>koi_prad_err2</th>\n",
       "      <th>koi_teq</th>\n",
       "      <th>koi_teq_err1</th>\n",
       "      <th>koi_teq_err2</th>\n",
       "      <th>koi_insol</th>\n",
       "      <th>koi_insol_err1</th>\n",
       "      <th>koi_insol_err2</th>\n",
       "      <th>koi_model_snr</th>\n",
       "      <th>koi_tce_plnt_num</th>\n",
       "      <th>koi_tce_delivname</th>\n",
       "      <th>koi_steff</th>\n",
       "      <th>koi_steff_err1</th>\n",
       "      <th>koi_steff_err2</th>\n",
       "      <th>koi_slogg</th>\n",
       "      <th>koi_slogg_err1</th>\n",
       "      <th>koi_slogg_err2</th>\n",
       "      <th>koi_srad</th>\n",
       "      <th>koi_srad_err1</th>\n",
       "      <th>koi_srad_err2</th>\n",
       "      <th>ra</th>\n",
       "      <th>dec</th>\n",
       "      <th>koi_kepmag</th>\n",
       "    </tr>\n",
       "  </thead>\n",
       "  <tbody>\n",
       "    <tr>\n",
       "      <th>0</th>\n",
       "      <td>1</td>\n",
       "      <td>10797460</td>\n",
       "      <td>K00752.01</td>\n",
       "      <td>Kepler-227 b</td>\n",
       "      <td>CONFIRMED</td>\n",
       "      <td>CANDIDATE</td>\n",
       "      <td>1.000</td>\n",
       "      <td>0</td>\n",
       "      <td>0</td>\n",
       "      <td>0</td>\n",
       "      <td>0</td>\n",
       "      <td>9.488036</td>\n",
       "      <td>2.775000e-05</td>\n",
       "      <td>-2.775000e-05</td>\n",
       "      <td>170.538750</td>\n",
       "      <td>0.002160</td>\n",
       "      <td>-0.002160</td>\n",
       "      <td>0.146</td>\n",
       "      <td>0.318</td>\n",
       "      <td>-0.146</td>\n",
       "      <td>2.95750</td>\n",
       "      <td>0.08190</td>\n",
       "      <td>-0.08190</td>\n",
       "      <td>615.8</td>\n",
       "      <td>19.5</td>\n",
       "      <td>-19.5</td>\n",
       "      <td>2.26</td>\n",
       "      <td>0.26</td>\n",
       "      <td>-0.15</td>\n",
       "      <td>793.0</td>\n",
       "      <td>NaN</td>\n",
       "      <td>NaN</td>\n",
       "      <td>93.59</td>\n",
       "      <td>29.45</td>\n",
       "      <td>-16.65</td>\n",
       "      <td>35.8</td>\n",
       "      <td>1.0</td>\n",
       "      <td>q1_q17_dr25_tce</td>\n",
       "      <td>5455.0</td>\n",
       "      <td>81.0</td>\n",
       "      <td>-81.0</td>\n",
       "      <td>4.467</td>\n",
       "      <td>0.064</td>\n",
       "      <td>-0.096</td>\n",
       "      <td>0.927</td>\n",
       "      <td>0.105</td>\n",
       "      <td>-0.061</td>\n",
       "      <td>291.93423</td>\n",
       "      <td>48.141651</td>\n",
       "      <td>15.347</td>\n",
       "    </tr>\n",
       "    <tr>\n",
       "      <th>1</th>\n",
       "      <td>2</td>\n",
       "      <td>10797460</td>\n",
       "      <td>K00752.02</td>\n",
       "      <td>Kepler-227 c</td>\n",
       "      <td>CONFIRMED</td>\n",
       "      <td>CANDIDATE</td>\n",
       "      <td>0.969</td>\n",
       "      <td>0</td>\n",
       "      <td>0</td>\n",
       "      <td>0</td>\n",
       "      <td>0</td>\n",
       "      <td>54.418383</td>\n",
       "      <td>2.479000e-04</td>\n",
       "      <td>-2.479000e-04</td>\n",
       "      <td>162.513840</td>\n",
       "      <td>0.003520</td>\n",
       "      <td>-0.003520</td>\n",
       "      <td>0.586</td>\n",
       "      <td>0.059</td>\n",
       "      <td>-0.443</td>\n",
       "      <td>4.50700</td>\n",
       "      <td>0.11600</td>\n",
       "      <td>-0.11600</td>\n",
       "      <td>874.8</td>\n",
       "      <td>35.5</td>\n",
       "      <td>-35.5</td>\n",
       "      <td>2.83</td>\n",
       "      <td>0.32</td>\n",
       "      <td>-0.19</td>\n",
       "      <td>443.0</td>\n",
       "      <td>NaN</td>\n",
       "      <td>NaN</td>\n",
       "      <td>9.11</td>\n",
       "      <td>2.87</td>\n",
       "      <td>-1.62</td>\n",
       "      <td>25.8</td>\n",
       "      <td>2.0</td>\n",
       "      <td>q1_q17_dr25_tce</td>\n",
       "      <td>5455.0</td>\n",
       "      <td>81.0</td>\n",
       "      <td>-81.0</td>\n",
       "      <td>4.467</td>\n",
       "      <td>0.064</td>\n",
       "      <td>-0.096</td>\n",
       "      <td>0.927</td>\n",
       "      <td>0.105</td>\n",
       "      <td>-0.061</td>\n",
       "      <td>291.93423</td>\n",
       "      <td>48.141651</td>\n",
       "      <td>15.347</td>\n",
       "    </tr>\n",
       "    <tr>\n",
       "      <th>2</th>\n",
       "      <td>3</td>\n",
       "      <td>10811496</td>\n",
       "      <td>K00753.01</td>\n",
       "      <td>NaN</td>\n",
       "      <td>FALSE POSITIVE</td>\n",
       "      <td>FALSE POSITIVE</td>\n",
       "      <td>0.000</td>\n",
       "      <td>0</td>\n",
       "      <td>1</td>\n",
       "      <td>0</td>\n",
       "      <td>0</td>\n",
       "      <td>19.899140</td>\n",
       "      <td>1.494000e-05</td>\n",
       "      <td>-1.494000e-05</td>\n",
       "      <td>175.850252</td>\n",
       "      <td>0.000581</td>\n",
       "      <td>-0.000581</td>\n",
       "      <td>0.969</td>\n",
       "      <td>5.126</td>\n",
       "      <td>-0.077</td>\n",
       "      <td>1.78220</td>\n",
       "      <td>0.03410</td>\n",
       "      <td>-0.03410</td>\n",
       "      <td>10829.0</td>\n",
       "      <td>171.0</td>\n",
       "      <td>-171.0</td>\n",
       "      <td>14.60</td>\n",
       "      <td>3.92</td>\n",
       "      <td>-1.31</td>\n",
       "      <td>638.0</td>\n",
       "      <td>NaN</td>\n",
       "      <td>NaN</td>\n",
       "      <td>39.30</td>\n",
       "      <td>31.04</td>\n",
       "      <td>-10.49</td>\n",
       "      <td>76.3</td>\n",
       "      <td>1.0</td>\n",
       "      <td>q1_q17_dr25_tce</td>\n",
       "      <td>5853.0</td>\n",
       "      <td>158.0</td>\n",
       "      <td>-176.0</td>\n",
       "      <td>4.544</td>\n",
       "      <td>0.044</td>\n",
       "      <td>-0.176</td>\n",
       "      <td>0.868</td>\n",
       "      <td>0.233</td>\n",
       "      <td>-0.078</td>\n",
       "      <td>297.00482</td>\n",
       "      <td>48.134129</td>\n",
       "      <td>15.436</td>\n",
       "    </tr>\n",
       "    <tr>\n",
       "      <th>3</th>\n",
       "      <td>4</td>\n",
       "      <td>10848459</td>\n",
       "      <td>K00754.01</td>\n",
       "      <td>NaN</td>\n",
       "      <td>FALSE POSITIVE</td>\n",
       "      <td>FALSE POSITIVE</td>\n",
       "      <td>0.000</td>\n",
       "      <td>0</td>\n",
       "      <td>1</td>\n",
       "      <td>0</td>\n",
       "      <td>0</td>\n",
       "      <td>1.736952</td>\n",
       "      <td>2.630000e-07</td>\n",
       "      <td>-2.630000e-07</td>\n",
       "      <td>170.307565</td>\n",
       "      <td>0.000115</td>\n",
       "      <td>-0.000115</td>\n",
       "      <td>1.276</td>\n",
       "      <td>0.115</td>\n",
       "      <td>-0.092</td>\n",
       "      <td>2.40641</td>\n",
       "      <td>0.00537</td>\n",
       "      <td>-0.00537</td>\n",
       "      <td>8079.2</td>\n",
       "      <td>12.8</td>\n",
       "      <td>-12.8</td>\n",
       "      <td>33.46</td>\n",
       "      <td>8.50</td>\n",
       "      <td>-2.83</td>\n",
       "      <td>1395.0</td>\n",
       "      <td>NaN</td>\n",
       "      <td>NaN</td>\n",
       "      <td>891.96</td>\n",
       "      <td>668.95</td>\n",
       "      <td>-230.35</td>\n",
       "      <td>505.6</td>\n",
       "      <td>1.0</td>\n",
       "      <td>q1_q17_dr25_tce</td>\n",
       "      <td>5805.0</td>\n",
       "      <td>157.0</td>\n",
       "      <td>-174.0</td>\n",
       "      <td>4.564</td>\n",
       "      <td>0.053</td>\n",
       "      <td>-0.168</td>\n",
       "      <td>0.791</td>\n",
       "      <td>0.201</td>\n",
       "      <td>-0.067</td>\n",
       "      <td>285.53461</td>\n",
       "      <td>48.285210</td>\n",
       "      <td>15.597</td>\n",
       "    </tr>\n",
       "    <tr>\n",
       "      <th>4</th>\n",
       "      <td>5</td>\n",
       "      <td>10854555</td>\n",
       "      <td>K00755.01</td>\n",
       "      <td>Kepler-664 b</td>\n",
       "      <td>CONFIRMED</td>\n",
       "      <td>CANDIDATE</td>\n",
       "      <td>1.000</td>\n",
       "      <td>0</td>\n",
       "      <td>0</td>\n",
       "      <td>0</td>\n",
       "      <td>0</td>\n",
       "      <td>2.525592</td>\n",
       "      <td>3.761000e-06</td>\n",
       "      <td>-3.761000e-06</td>\n",
       "      <td>171.595550</td>\n",
       "      <td>0.001130</td>\n",
       "      <td>-0.001130</td>\n",
       "      <td>0.701</td>\n",
       "      <td>0.235</td>\n",
       "      <td>-0.478</td>\n",
       "      <td>1.65450</td>\n",
       "      <td>0.04200</td>\n",
       "      <td>-0.04200</td>\n",
       "      <td>603.3</td>\n",
       "      <td>16.9</td>\n",
       "      <td>-16.9</td>\n",
       "      <td>2.75</td>\n",
       "      <td>0.88</td>\n",
       "      <td>-0.35</td>\n",
       "      <td>1406.0</td>\n",
       "      <td>NaN</td>\n",
       "      <td>NaN</td>\n",
       "      <td>926.16</td>\n",
       "      <td>874.33</td>\n",
       "      <td>-314.24</td>\n",
       "      <td>40.9</td>\n",
       "      <td>1.0</td>\n",
       "      <td>q1_q17_dr25_tce</td>\n",
       "      <td>6031.0</td>\n",
       "      <td>169.0</td>\n",
       "      <td>-211.0</td>\n",
       "      <td>4.438</td>\n",
       "      <td>0.070</td>\n",
       "      <td>-0.210</td>\n",
       "      <td>1.046</td>\n",
       "      <td>0.334</td>\n",
       "      <td>-0.133</td>\n",
       "      <td>288.75488</td>\n",
       "      <td>48.226200</td>\n",
       "      <td>15.509</td>\n",
       "    </tr>\n",
       "  </tbody>\n",
       "</table>\n",
       "</div>"
      ],
      "text/plain": [
       "   rowid     kepid kepoi_name   kepler_name koi_disposition koi_pdisposition  \\\n",
       "0      1  10797460  K00752.01  Kepler-227 b       CONFIRMED        CANDIDATE   \n",
       "1      2  10797460  K00752.02  Kepler-227 c       CONFIRMED        CANDIDATE   \n",
       "2      3  10811496  K00753.01           NaN  FALSE POSITIVE   FALSE POSITIVE   \n",
       "3      4  10848459  K00754.01           NaN  FALSE POSITIVE   FALSE POSITIVE   \n",
       "4      5  10854555  K00755.01  Kepler-664 b       CONFIRMED        CANDIDATE   \n",
       "\n",
       "   koi_score  koi_fpflag_nt  koi_fpflag_ss  koi_fpflag_co  koi_fpflag_ec  \\\n",
       "0      1.000              0              0              0              0   \n",
       "1      0.969              0              0              0              0   \n",
       "2      0.000              0              1              0              0   \n",
       "3      0.000              0              1              0              0   \n",
       "4      1.000              0              0              0              0   \n",
       "\n",
       "   koi_period  koi_period_err1  koi_period_err2  koi_time0bk  \\\n",
       "0    9.488036     2.775000e-05    -2.775000e-05   170.538750   \n",
       "1   54.418383     2.479000e-04    -2.479000e-04   162.513840   \n",
       "2   19.899140     1.494000e-05    -1.494000e-05   175.850252   \n",
       "3    1.736952     2.630000e-07    -2.630000e-07   170.307565   \n",
       "4    2.525592     3.761000e-06    -3.761000e-06   171.595550   \n",
       "\n",
       "   koi_time0bk_err1  koi_time0bk_err2  koi_impact  koi_impact_err1  \\\n",
       "0          0.002160         -0.002160       0.146            0.318   \n",
       "1          0.003520         -0.003520       0.586            0.059   \n",
       "2          0.000581         -0.000581       0.969            5.126   \n",
       "3          0.000115         -0.000115       1.276            0.115   \n",
       "4          0.001130         -0.001130       0.701            0.235   \n",
       "\n",
       "   koi_impact_err2  koi_duration  koi_duration_err1  koi_duration_err2  \\\n",
       "0           -0.146       2.95750            0.08190           -0.08190   \n",
       "1           -0.443       4.50700            0.11600           -0.11600   \n",
       "2           -0.077       1.78220            0.03410           -0.03410   \n",
       "3           -0.092       2.40641            0.00537           -0.00537   \n",
       "4           -0.478       1.65450            0.04200           -0.04200   \n",
       "\n",
       "   koi_depth  koi_depth_err1  koi_depth_err2  koi_prad  koi_prad_err1  \\\n",
       "0      615.8            19.5           -19.5      2.26           0.26   \n",
       "1      874.8            35.5           -35.5      2.83           0.32   \n",
       "2    10829.0           171.0          -171.0     14.60           3.92   \n",
       "3     8079.2            12.8           -12.8     33.46           8.50   \n",
       "4      603.3            16.9           -16.9      2.75           0.88   \n",
       "\n",
       "   koi_prad_err2  koi_teq  koi_teq_err1  koi_teq_err2  koi_insol  \\\n",
       "0          -0.15    793.0           NaN           NaN      93.59   \n",
       "1          -0.19    443.0           NaN           NaN       9.11   \n",
       "2          -1.31    638.0           NaN           NaN      39.30   \n",
       "3          -2.83   1395.0           NaN           NaN     891.96   \n",
       "4          -0.35   1406.0           NaN           NaN     926.16   \n",
       "\n",
       "   koi_insol_err1  koi_insol_err2  koi_model_snr  koi_tce_plnt_num  \\\n",
       "0           29.45          -16.65           35.8               1.0   \n",
       "1            2.87           -1.62           25.8               2.0   \n",
       "2           31.04          -10.49           76.3               1.0   \n",
       "3          668.95         -230.35          505.6               1.0   \n",
       "4          874.33         -314.24           40.9               1.0   \n",
       "\n",
       "  koi_tce_delivname  koi_steff  koi_steff_err1  koi_steff_err2  koi_slogg  \\\n",
       "0   q1_q17_dr25_tce     5455.0            81.0           -81.0      4.467   \n",
       "1   q1_q17_dr25_tce     5455.0            81.0           -81.0      4.467   \n",
       "2   q1_q17_dr25_tce     5853.0           158.0          -176.0      4.544   \n",
       "3   q1_q17_dr25_tce     5805.0           157.0          -174.0      4.564   \n",
       "4   q1_q17_dr25_tce     6031.0           169.0          -211.0      4.438   \n",
       "\n",
       "   koi_slogg_err1  koi_slogg_err2  koi_srad  koi_srad_err1  koi_srad_err2  \\\n",
       "0           0.064          -0.096     0.927          0.105         -0.061   \n",
       "1           0.064          -0.096     0.927          0.105         -0.061   \n",
       "2           0.044          -0.176     0.868          0.233         -0.078   \n",
       "3           0.053          -0.168     0.791          0.201         -0.067   \n",
       "4           0.070          -0.210     1.046          0.334         -0.133   \n",
       "\n",
       "          ra        dec  koi_kepmag  \n",
       "0  291.93423  48.141651      15.347  \n",
       "1  291.93423  48.141651      15.347  \n",
       "2  297.00482  48.134129      15.436  \n",
       "3  285.53461  48.285210      15.597  \n",
       "4  288.75488  48.226200      15.509  "
      ]
     },
     "execution_count": 69,
     "metadata": {},
     "output_type": "execute_result"
    }
   ],
   "source": [
    "# Importing data\n",
    "kepler = pd.read_csv('../datasets/kepler_detections.csv')\n",
    "kepler.head()"
   ]
  },
  {
   "cell_type": "markdown",
   "metadata": {},
   "source": [
    "Since there is a lot of columns, we'll first see which ones we need to work with and which ones we can drop. Once that is done, we can start looking at the cleaning the data."
   ]
  },
  {
   "cell_type": "markdown",
   "metadata": {},
   "source": [
    "## Column selection"
   ]
  },
  {
   "cell_type": "code",
   "execution_count": 70,
   "metadata": {},
   "outputs": [
    {
     "name": "stdout",
     "output_type": "stream",
     "text": [
      "The dataframe has 9564 rows and 50 columns.\n"
     ]
    }
   ],
   "source": [
    "print(f\"The dataframe has {kepler.shape[0]} rows and {kepler.shape[1]} columns.\")"
   ]
  },
  {
   "cell_type": "markdown",
   "metadata": {},
   "source": [
    "First, we will delete the columns that contain:\n",
    "- `err`: Matrix covariances are adopted as errors to the fit parameters; they therefore ignore the effects of correlation between the fit parameters and are likely to be underestimates.\n",
    "- `flag`."
   ]
  },
  {
   "cell_type": "code",
   "execution_count": 71,
   "metadata": {},
   "outputs": [],
   "source": [
    "to_drop = [col for col in kepler.columns if ('flag' in col) | ('err1' in col) | ('err2' in col)]\n",
    "kepler.drop(to_drop, axis=1, inplace=True)"
   ]
  },
  {
   "cell_type": "code",
   "execution_count": 72,
   "metadata": {},
   "outputs": [
    {
     "data": {
      "text/plain": [
       "(9564, 24)"
      ]
     },
     "execution_count": 72,
     "metadata": {},
     "output_type": "execute_result"
    }
   ],
   "source": [
    "kepler.shape"
   ]
  },
  {
   "cell_type": "markdown",
   "metadata": {},
   "source": [
    "We have gone from 50 columns to 24."
   ]
  },
  {
   "cell_type": "markdown",
   "metadata": {},
   "source": [
    "## NaN values"
   ]
  },
  {
   "cell_type": "markdown",
   "metadata": {},
   "source": [
    "Checking what percentage of NaNs we have in each column and visualizing them:"
   ]
  },
  {
   "cell_type": "code",
   "execution_count": 73,
   "metadata": {},
   "outputs": [
    {
     "data": {
      "text/plain": [
       "kepler_name          76.014220\n",
       "koi_score            15.788373\n",
       "koi_depth             3.795483\n",
       "koi_impact            3.795483\n",
       "koi_srad              3.795483\n",
       "koi_slogg             3.795483\n",
       "koi_steff             3.795483\n",
       "koi_model_snr         3.795483\n",
       "koi_teq               3.795483\n",
       "koi_prad              3.795483\n",
       "koi_tce_delivname     3.617733\n",
       "koi_tce_plnt_num      3.617733\n",
       "koi_insol             3.356336\n",
       "koi_kepmag            0.010456\n",
       "koi_duration          0.000000\n",
       "koi_time0bk           0.000000\n",
       "koi_period            0.000000\n",
       "dec                   0.000000\n",
       "koi_pdisposition      0.000000\n",
       "koi_disposition       0.000000\n",
       "ra                    0.000000\n",
       "kepoi_name            0.000000\n",
       "kepid                 0.000000\n",
       "rowid                 0.000000\n",
       "dtype: float64"
      ]
     },
     "execution_count": 73,
     "metadata": {},
     "output_type": "execute_result"
    }
   ],
   "source": [
    "((kepler.isnull().sum()) / kepler.shape[0]*100).sort_values(ascending=False)"
   ]
  },
  {
   "cell_type": "code",
   "execution_count": 74,
   "metadata": {},
   "outputs": [
    {
     "data": {
      "image/png": "[encoded data removed]",
      "text/plain": [
       "<Figure size 720x504 with 1 Axes>"
      ]
     },
     "metadata": {
      "needs_background": "light"
     },
     "output_type": "display_data"
    }
   ],
   "source": [
    "plt.figure(figsize=(10,7))\n",
    "sns.heatmap(kepler.isnull(), cbar=False, cmap='viridis');"
   ]
  },
  {
   "cell_type": "markdown",
   "metadata": {},
   "source": [
    "First, we will remove the colum kepler_name and koi_score with 76% and 15% of NaNs present, since we have other columns to identify the KOI (kepid and kepoi_name) and we don't really need the koi_score column. We will also remove the columns 'koi_tce_delivname' and 'koi_tce_plnt_num' because we don't need their information:\n",
    "\n",
    "- koi_tce_plnt_num:\tTCE Planet Number federated to the KOI.\n",
    "- koi_tce_delivname: TCE delivery name corresponding to the TCE data federated to the KOI."
   ]
  },
  {
   "cell_type": "code",
   "execution_count": 75,
   "metadata": {},
   "outputs": [
    {
     "ename": "SyntaxError",
     "evalue": "invalid syntax (<ipython-input-75-7d8c04339303>, line 1)",
     "output_type": "error",
     "traceback": [
      "\u001b[0;36m  File \u001b[0;32m\"<ipython-input-75-7d8c04339303>\"\u001b[0;36m, line \u001b[0;32m1\u001b[0m\n\u001b[0;31m    kepler.drop(['kepler_name', 'koi_score', 'koi_tce_delivname', 'koi_tce_plnt_num', 'rowid', 'kepid', 'kepoi_name', axis=1, inplace=True)], axis=1, inplace=True)\u001b[0m\n\u001b[0m                                                                                                                          ^\u001b[0m\n\u001b[0;31mSyntaxError\u001b[0m\u001b[0;31m:\u001b[0m invalid syntax\n"
     ]
    }
   ],
   "source": [
    "kepler.drop(['kepler_name', 'koi_score', 'koi_tce_delivname', 'koi_tce_plnt_num', 'rowid', 'kepid', 'kepoi_name', axis=1, inplace=True)], axis=1, inplace=True)"
   ]
  },
  {
   "cell_type": "markdown",
   "metadata": {},
   "source": [
    "Let's see how the dataframe looks now:"
   ]
  },
  {
   "cell_type": "code",
   "execution_count": null,
   "metadata": {},
   "outputs": [],
   "source": [
    "plt.figure(figsize=(10,7))\n",
    "sns.heatmap(kepler.isnull(), cbar=False, cmap='viridis')\n",
    "plt.show()"
   ]
  },
  {
   "cell_type": "code",
   "execution_count": null,
   "metadata": {},
   "outputs": [],
   "source": [
    "kepler[kepler.isnull().any(axis=1)].head()"
   ]
  },
  {
   "cell_type": "markdown",
   "metadata": {},
   "source": [
    "The NaNs are all on the same rows, so we delete them."
   ]
  },
  {
   "cell_type": "code",
   "execution_count": null,
   "metadata": {},
   "outputs": [],
   "source": [
    "kepler = kepler.dropna()"
   ]
  },
  {
   "cell_type": "code",
   "execution_count": null,
   "metadata": {},
   "outputs": [],
   "source": [
    "kepler.head()"
   ]
  },
  {
   "cell_type": "markdown",
   "metadata": {},
   "source": [
    "Let's have a look at how many confirmed and false positives we have after dropping all NaNs:"
   ]
  },
  {
   "cell_type": "code",
   "execution_count": null,
   "metadata": {},
   "outputs": [],
   "source": [
    "kepler.groupby('koi_disposition').count()"
   ]
  },
  {
   "cell_type": "code",
   "execution_count": null,
   "metadata": {},
   "outputs": [],
   "source": [
    "kepler.shape"
   ]
  },
  {
   "cell_type": "markdown",
   "metadata": {},
   "source": [
    "We've gone from 9564 rows to 9200."
   ]
  },
  {
   "cell_type": "markdown",
   "metadata": {},
   "source": [
    "### Renaming columns"
   ]
  },
  {
   "cell_type": "code",
   "execution_count": null,
   "metadata": {},
   "outputs": [],
   "source": [
    "# For better understanding\n",
    "kepler.rename(columns={'ra': 'right_ascension', 'dec': 'declination', 'koi_period': 'orb_period'}, inplace=True)"
   ]
  },
  {
   "cell_type": "code",
   "execution_count": null,
   "metadata": {},
   "outputs": [],
   "source": [
    "# Removing 'koi' from all the column names to make it easier to read\n",
    "new_cols = []\n",
    "\n",
    "for name in kepler.columns:\n",
    "    if name.startswith('koi_'):\n",
    "        name = name.replace('koi_', '')\n",
    "        new_cols.append(name)\n",
    "    else:\n",
    "        new_cols.append(name)\n",
    "        \n",
    "kepler.columns = new_cols"
   ]
  },
  {
   "cell_type": "code",
   "execution_count": null,
   "metadata": {
    "scrolled": false
   },
   "outputs": [],
   "source": [
    "kepler.head()"
   ]
  },
  {
   "cell_type": "markdown",
   "metadata": {},
   "source": [
    "Now that we've removed all the information we didn't want, let's check if the information left is the right **type**."
   ]
  },
  {
   "cell_type": "markdown",
   "metadata": {},
   "source": [
    "## Types"
   ]
  },
  {
   "cell_type": "code",
   "execution_count": null,
   "metadata": {},
   "outputs": [],
   "source": [
    "kepler.dtypes"
   ]
  },
  {
   "cell_type": "markdown",
   "metadata": {},
   "source": [
    "All the columns expected to be numeric are float64 and the ones expected to be strings are object, so everything is correct.  \n",
    "Next, we will get only the numeric data of the dataframe to visualize outliers with boxplots."
   ]
  },
  {
   "cell_type": "markdown",
   "metadata": {},
   "source": [
    "# Numerical columns"
   ]
  },
  {
   "cell_type": "code",
   "execution_count": null,
   "metadata": {},
   "outputs": [],
   "source": [
    "kepler_numeric = kepler._get_numeric_data()\n",
    "kepler_numeric.head()"
   ]
  },
  {
   "cell_type": "markdown",
   "metadata": {},
   "source": [
    "## Outliers"
   ]
  },
  {
   "cell_type": "code",
   "execution_count": null,
   "metadata": {
    "scrolled": false
   },
   "outputs": [],
   "source": [
    "# Visualizing the outliers with boxplots\n",
    "f = plt.figure(figsize=(18, 12))\n",
    "i=1\n",
    "\n",
    "for col in kepler_numeric.columns:\n",
    "    subplot = f.add_subplot(math.ceil(kepler_numeric.shape[1]/3),3,i)\n",
    "    sns.boxplot(x=kepler_numeric[col],whis=10)\n",
    "    i=i+1\n",
    "plt.subplots_adjust(hspace=0.4)\n",
    "plt.show()"
   ]
  },
  {
   "cell_type": "markdown",
   "metadata": {},
   "source": [
    "Since the information on the dataset has already been through scientific review to enter the dataset, we won't remove the outliers. If they interfere with anything at any point in the future, then we will deal with them."
   ]
  },
  {
   "cell_type": "markdown",
   "metadata": {},
   "source": [
    "# Saving processed data"
   ]
  },
  {
   "cell_type": "code",
   "execution_count": null,
   "metadata": {},
   "outputs": [],
   "source": [
    "kepler.head()"
   ]
  },
  {
   "cell_type": "code",
   "execution_count": null,
   "metadata": {},
   "outputs": [],
   "source": [
    "kepler.groupby('disposition').count()"
   ]
  },
  {
   "cell_type": "code",
   "execution_count": null,
   "metadata": {},
   "outputs": [],
   "source": [
    "kepler.to_csv('../datasets/kepler_processed.csv', index=False)"
   ]
  }
 ],
 "metadata": {
  "hide_input": false,
  "kernelspec": {
   "display_name": "Python 3",
   "language": "python",
   "name": "python3"
  },
  "language_info": {
   "codemirror_mode": {
    "name": "ipython",
    "version": 3
   },
   "file_extension": ".py",
   "mimetype": "text/x-python",
   "name": "python",
   "nbconvert_exporter": "python",
   "pygments_lexer": "ipython3",
   "version": "3.7.6"
  },
  "toc": {
   "base_numbering": 1,
   "nav_menu": {},
   "number_sections": true,
   "sideBar": true,
   "skip_h1_title": false,
   "title_cell": "Table of Contents",
   "title_sidebar": "Contents",
   "toc_cell": true,
   "toc_position": {},
   "toc_section_display": true,
   "toc_window_display": false
  }
 },
 "nbformat": 4,
 "nbformat_minor": 2
}
