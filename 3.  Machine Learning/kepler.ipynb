{
 "cells": [
  {
   "cell_type": "markdown",
   "metadata": {
    "toc": true
   },
   "source": [
    "<h1>Table of Contents<span class=\"tocSkip\"></span></h1>\n",
    "<div class=\"toc\"><ul class=\"toc-item\"><li><span><a href=\"#Dataset-&amp;-environment\" data-toc-modified-id=\"Dataset-&amp;-environment-1\"><span class=\"toc-item-num\">1&nbsp;&nbsp;</span>Dataset &amp; environment</a></span></li><li><span><a href=\"#Preprocessing\" data-toc-modified-id=\"Preprocessing-2\"><span class=\"toc-item-num\">2&nbsp;&nbsp;</span>Preprocessing</a></span><ul class=\"toc-item\"><li><span><a href=\"#High-collinearity\" data-toc-modified-id=\"High-collinearity-2.1\"><span class=\"toc-item-num\">2.1&nbsp;&nbsp;</span>High collinearity</a></span></li><li><span><a href=\"#Categorical-values\" data-toc-modified-id=\"Categorical-values-2.2\"><span class=\"toc-item-num\">2.2&nbsp;&nbsp;</span>Categorical values</a></span></li><li><span><a href=\"#Normalization\" data-toc-modified-id=\"Normalization-2.3\"><span class=\"toc-item-num\">2.3&nbsp;&nbsp;</span>Normalization</a></span></li><li><span><a href=\"#Train-and-set\" data-toc-modified-id=\"Train-and-set-2.4\"><span class=\"toc-item-num\">2.4&nbsp;&nbsp;</span>Train and set</a></span></li></ul></li><li><span><a href=\"#KNN\" data-toc-modified-id=\"KNN-3\"><span class=\"toc-item-num\">3&nbsp;&nbsp;</span>KNN</a></span></li><li><span><a href=\"#Logistic-Regression\" data-toc-modified-id=\"Logistic-Regression-4\"><span class=\"toc-item-num\">4&nbsp;&nbsp;</span>Logistic Regression</a></span></li><li><span><a href=\"#Random-Forest\" data-toc-modified-id=\"Random-Forest-5\"><span class=\"toc-item-num\">5&nbsp;&nbsp;</span>Random Forest</a></span><ul class=\"toc-item\"><li><span><a href=\"#Random-Forest-(100--estimators)\" data-toc-modified-id=\"Random-Forest-(100--estimators)-5.1\"><span class=\"toc-item-num\">5.1&nbsp;&nbsp;</span>Random Forest (100  estimators)</a></span></li></ul></li></ul></div>"
   ]
  },
  {
   "cell_type": "markdown",
   "metadata": {},
   "source": [
    "# Dataset & environment"
   ]
  },
  {
   "cell_type": "code",
   "execution_count": 1,
   "metadata": {},
   "outputs": [],
   "source": [
    "import pandas as pd\n",
    "import numpy as np\n",
    "import matplotlib.pyplot as plt\n",
    "import seaborn as sns\n",
    "%matplotlib inline\n",
    "\n",
    "# from IPython.core.display import display, HTML\n",
    "# display(HTML(\"<style>.container { width:100% !important; }</style>\"))"
   ]
  },
  {
   "cell_type": "code",
   "execution_count": 2,
   "metadata": {},
   "outputs": [
    {
     "data": {
      "text/html": [
       "<div>\n",
       "<style scoped>\n",
       "    .dataframe tbody tr th:only-of-type {\n",
       "        vertical-align: middle;\n",
       "    }\n",
       "\n",
       "    .dataframe tbody tr th {\n",
       "        vertical-align: top;\n",
       "    }\n",
       "\n",
       "    .dataframe thead th {\n",
       "        text-align: right;\n",
       "    }\n",
       "</style>\n",
       "<table border=\"1\" class=\"dataframe\">\n",
       "  <thead>\n",
       "    <tr style=\"text-align: right;\">\n",
       "      <th></th>\n",
       "      <th>disposition</th>\n",
       "      <th>pdisposition</th>\n",
       "      <th>orb_period</th>\n",
       "      <th>time0bk</th>\n",
       "      <th>impact</th>\n",
       "      <th>duration</th>\n",
       "      <th>depth</th>\n",
       "      <th>prad</th>\n",
       "      <th>teq</th>\n",
       "      <th>insol</th>\n",
       "      <th>model_snr</th>\n",
       "      <th>steff</th>\n",
       "      <th>slogg</th>\n",
       "      <th>srad</th>\n",
       "      <th>right_ascension</th>\n",
       "      <th>declination</th>\n",
       "      <th>kepmag</th>\n",
       "    </tr>\n",
       "  </thead>\n",
       "  <tbody>\n",
       "    <tr>\n",
       "      <td>0</td>\n",
       "      <td>CONFIRMED</td>\n",
       "      <td>CANDIDATE</td>\n",
       "      <td>9.488036</td>\n",
       "      <td>170.538750</td>\n",
       "      <td>0.146</td>\n",
       "      <td>2.95750</td>\n",
       "      <td>615.8</td>\n",
       "      <td>2.26</td>\n",
       "      <td>793.0</td>\n",
       "      <td>93.59</td>\n",
       "      <td>35.8</td>\n",
       "      <td>5455.0</td>\n",
       "      <td>4.467</td>\n",
       "      <td>0.927</td>\n",
       "      <td>291.93423</td>\n",
       "      <td>48.141651</td>\n",
       "      <td>15.347</td>\n",
       "    </tr>\n",
       "    <tr>\n",
       "      <td>1</td>\n",
       "      <td>CONFIRMED</td>\n",
       "      <td>CANDIDATE</td>\n",
       "      <td>54.418383</td>\n",
       "      <td>162.513840</td>\n",
       "      <td>0.586</td>\n",
       "      <td>4.50700</td>\n",
       "      <td>874.8</td>\n",
       "      <td>2.83</td>\n",
       "      <td>443.0</td>\n",
       "      <td>9.11</td>\n",
       "      <td>25.8</td>\n",
       "      <td>5455.0</td>\n",
       "      <td>4.467</td>\n",
       "      <td>0.927</td>\n",
       "      <td>291.93423</td>\n",
       "      <td>48.141651</td>\n",
       "      <td>15.347</td>\n",
       "    </tr>\n",
       "    <tr>\n",
       "      <td>2</td>\n",
       "      <td>FALSE POSITIVE</td>\n",
       "      <td>FALSE POSITIVE</td>\n",
       "      <td>19.899140</td>\n",
       "      <td>175.850252</td>\n",
       "      <td>0.969</td>\n",
       "      <td>1.78220</td>\n",
       "      <td>10829.0</td>\n",
       "      <td>14.60</td>\n",
       "      <td>638.0</td>\n",
       "      <td>39.30</td>\n",
       "      <td>76.3</td>\n",
       "      <td>5853.0</td>\n",
       "      <td>4.544</td>\n",
       "      <td>0.868</td>\n",
       "      <td>297.00482</td>\n",
       "      <td>48.134129</td>\n",
       "      <td>15.436</td>\n",
       "    </tr>\n",
       "    <tr>\n",
       "      <td>3</td>\n",
       "      <td>FALSE POSITIVE</td>\n",
       "      <td>FALSE POSITIVE</td>\n",
       "      <td>1.736952</td>\n",
       "      <td>170.307565</td>\n",
       "      <td>1.276</td>\n",
       "      <td>2.40641</td>\n",
       "      <td>8079.2</td>\n",
       "      <td>33.46</td>\n",
       "      <td>1395.0</td>\n",
       "      <td>891.96</td>\n",
       "      <td>505.6</td>\n",
       "      <td>5805.0</td>\n",
       "      <td>4.564</td>\n",
       "      <td>0.791</td>\n",
       "      <td>285.53461</td>\n",
       "      <td>48.285210</td>\n",
       "      <td>15.597</td>\n",
       "    </tr>\n",
       "    <tr>\n",
       "      <td>4</td>\n",
       "      <td>CONFIRMED</td>\n",
       "      <td>CANDIDATE</td>\n",
       "      <td>2.525592</td>\n",
       "      <td>171.595550</td>\n",
       "      <td>0.701</td>\n",
       "      <td>1.65450</td>\n",
       "      <td>603.3</td>\n",
       "      <td>2.75</td>\n",
       "      <td>1406.0</td>\n",
       "      <td>926.16</td>\n",
       "      <td>40.9</td>\n",
       "      <td>6031.0</td>\n",
       "      <td>4.438</td>\n",
       "      <td>1.046</td>\n",
       "      <td>288.75488</td>\n",
       "      <td>48.226200</td>\n",
       "      <td>15.509</td>\n",
       "    </tr>\n",
       "  </tbody>\n",
       "</table>\n",
       "</div>"
      ],
      "text/plain": [
       "      disposition    pdisposition  orb_period     time0bk  impact  duration  \\\n",
       "0       CONFIRMED       CANDIDATE    9.488036  170.538750   0.146   2.95750   \n",
       "1       CONFIRMED       CANDIDATE   54.418383  162.513840   0.586   4.50700   \n",
       "2  FALSE POSITIVE  FALSE POSITIVE   19.899140  175.850252   0.969   1.78220   \n",
       "3  FALSE POSITIVE  FALSE POSITIVE    1.736952  170.307565   1.276   2.40641   \n",
       "4       CONFIRMED       CANDIDATE    2.525592  171.595550   0.701   1.65450   \n",
       "\n",
       "     depth   prad     teq   insol  model_snr   steff  slogg   srad  \\\n",
       "0    615.8   2.26   793.0   93.59       35.8  5455.0  4.467  0.927   \n",
       "1    874.8   2.83   443.0    9.11       25.8  5455.0  4.467  0.927   \n",
       "2  10829.0  14.60   638.0   39.30       76.3  5853.0  4.544  0.868   \n",
       "3   8079.2  33.46  1395.0  891.96      505.6  5805.0  4.564  0.791   \n",
       "4    603.3   2.75  1406.0  926.16       40.9  6031.0  4.438  1.046   \n",
       "\n",
       "   right_ascension  declination  kepmag  \n",
       "0        291.93423    48.141651  15.347  \n",
       "1        291.93423    48.141651  15.347  \n",
       "2        297.00482    48.134129  15.436  \n",
       "3        285.53461    48.285210  15.597  \n",
       "4        288.75488    48.226200  15.509  "
      ]
     },
     "execution_count": 2,
     "metadata": {},
     "output_type": "execute_result"
    }
   ],
   "source": [
    "data = pd.read_csv('../datasets/kepler.csv')\n",
    "data.head()"
   ]
  },
  {
   "cell_type": "code",
   "execution_count": 3,
   "metadata": {},
   "outputs": [
    {
     "data": {
      "text/html": [
       "<div>\n",
       "<style scoped>\n",
       "    .dataframe tbody tr th:only-of-type {\n",
       "        vertical-align: middle;\n",
       "    }\n",
       "\n",
       "    .dataframe tbody tr th {\n",
       "        vertical-align: top;\n",
       "    }\n",
       "\n",
       "    .dataframe thead th {\n",
       "        text-align: right;\n",
       "    }\n",
       "</style>\n",
       "<table border=\"1\" class=\"dataframe\">\n",
       "  <thead>\n",
       "    <tr style=\"text-align: right;\">\n",
       "      <th></th>\n",
       "      <th>pdisposition</th>\n",
       "      <th>orb_period</th>\n",
       "      <th>time0bk</th>\n",
       "      <th>impact</th>\n",
       "      <th>duration</th>\n",
       "      <th>depth</th>\n",
       "      <th>prad</th>\n",
       "      <th>teq</th>\n",
       "      <th>insol</th>\n",
       "      <th>model_snr</th>\n",
       "      <th>steff</th>\n",
       "      <th>slogg</th>\n",
       "      <th>srad</th>\n",
       "      <th>right_ascension</th>\n",
       "      <th>declination</th>\n",
       "      <th>kepmag</th>\n",
       "    </tr>\n",
       "    <tr>\n",
       "      <th>disposition</th>\n",
       "      <th></th>\n",
       "      <th></th>\n",
       "      <th></th>\n",
       "      <th></th>\n",
       "      <th></th>\n",
       "      <th></th>\n",
       "      <th></th>\n",
       "      <th></th>\n",
       "      <th></th>\n",
       "      <th></th>\n",
       "      <th></th>\n",
       "      <th></th>\n",
       "      <th></th>\n",
       "      <th></th>\n",
       "      <th></th>\n",
       "      <th></th>\n",
       "    </tr>\n",
       "  </thead>\n",
       "  <tbody>\n",
       "    <tr>\n",
       "      <td>CANDIDATE</td>\n",
       "      <td>2185</td>\n",
       "      <td>2185</td>\n",
       "      <td>2185</td>\n",
       "      <td>2185</td>\n",
       "      <td>2185</td>\n",
       "      <td>2185</td>\n",
       "      <td>2185</td>\n",
       "      <td>2185</td>\n",
       "      <td>2185</td>\n",
       "      <td>2185</td>\n",
       "      <td>2185</td>\n",
       "      <td>2185</td>\n",
       "      <td>2185</td>\n",
       "      <td>2185</td>\n",
       "      <td>2185</td>\n",
       "      <td>2185</td>\n",
       "    </tr>\n",
       "    <tr>\n",
       "      <td>CONFIRMED</td>\n",
       "      <td>2292</td>\n",
       "      <td>2292</td>\n",
       "      <td>2292</td>\n",
       "      <td>2292</td>\n",
       "      <td>2292</td>\n",
       "      <td>2292</td>\n",
       "      <td>2292</td>\n",
       "      <td>2292</td>\n",
       "      <td>2292</td>\n",
       "      <td>2292</td>\n",
       "      <td>2292</td>\n",
       "      <td>2292</td>\n",
       "      <td>2292</td>\n",
       "      <td>2292</td>\n",
       "      <td>2292</td>\n",
       "      <td>2292</td>\n",
       "    </tr>\n",
       "    <tr>\n",
       "      <td>FALSE POSITIVE</td>\n",
       "      <td>4723</td>\n",
       "      <td>4723</td>\n",
       "      <td>4723</td>\n",
       "      <td>4723</td>\n",
       "      <td>4723</td>\n",
       "      <td>4723</td>\n",
       "      <td>4723</td>\n",
       "      <td>4723</td>\n",
       "      <td>4723</td>\n",
       "      <td>4723</td>\n",
       "      <td>4723</td>\n",
       "      <td>4723</td>\n",
       "      <td>4723</td>\n",
       "      <td>4723</td>\n",
       "      <td>4723</td>\n",
       "      <td>4723</td>\n",
       "    </tr>\n",
       "  </tbody>\n",
       "</table>\n",
       "</div>"
      ],
      "text/plain": [
       "                pdisposition  orb_period  time0bk  impact  duration  depth  \\\n",
       "disposition                                                                  \n",
       "CANDIDATE               2185        2185     2185    2185      2185   2185   \n",
       "CONFIRMED               2292        2292     2292    2292      2292   2292   \n",
       "FALSE POSITIVE          4723        4723     4723    4723      4723   4723   \n",
       "\n",
       "                prad   teq  insol  model_snr  steff  slogg  srad  \\\n",
       "disposition                                                        \n",
       "CANDIDATE       2185  2185   2185       2185   2185   2185  2185   \n",
       "CONFIRMED       2292  2292   2292       2292   2292   2292  2292   \n",
       "FALSE POSITIVE  4723  4723   4723       4723   4723   4723  4723   \n",
       "\n",
       "                right_ascension  declination  kepmag  \n",
       "disposition                                           \n",
       "CANDIDATE                  2185         2185    2185  \n",
       "CONFIRMED                  2292         2292    2292  \n",
       "FALSE POSITIVE             4723         4723    4723  "
      ]
     },
     "execution_count": 3,
     "metadata": {},
     "output_type": "execute_result"
    }
   ],
   "source": [
    "data.groupby('disposition').count()"
   ]
  },
  {
   "cell_type": "markdown",
   "metadata": {},
   "source": [
    "# Preprocessing"
   ]
  },
  {
   "cell_type": "markdown",
   "metadata": {},
   "source": [
    "## High collinearity"
   ]
  },
  {
   "cell_type": "code",
   "execution_count": 4,
   "metadata": {},
   "outputs": [
    {
     "data": {
      "image/png": "[encoded data removed]",
      "text/plain": [
       "<Figure size 720x576 with 2 Axes>"
      ]
     },
     "metadata": {
      "needs_background": "light"
     },
     "output_type": "display_data"
    }
   ],
   "source": [
    "# Masking\n",
    "corr = data.corr()\n",
    "fig, ax = plt.subplots(figsize=(10, 8))\n",
    "mask = np.zeros_like(corr)\n",
    "mask[np.triu_indices_from(mask)]=True\n",
    "\n",
    "# Heatmap\n",
    "sns.heatmap(corr, cmap=sns.diverging_palette(220, 10, as_cmap=True), annot=True, fmt=\".2f\", mask=mask) \n",
    "plt.show()"
   ]
  },
  {
   "cell_type": "markdown",
   "metadata": {},
   "source": [
    "## Categorical values\n",
    "We need to one-hot encode the oject columns.  \n",
    "First, we will drop the categorical columns that we don't need (names) and just leave the disposition of the KOI."
   ]
  },
  {
   "cell_type": "code",
   "execution_count": 5,
   "metadata": {},
   "outputs": [
    {
     "data": {
      "text/html": [
       "<div>\n",
       "<style scoped>\n",
       "    .dataframe tbody tr th:only-of-type {\n",
       "        vertical-align: middle;\n",
       "    }\n",
       "\n",
       "    .dataframe tbody tr th {\n",
       "        vertical-align: top;\n",
       "    }\n",
       "\n",
       "    .dataframe thead th {\n",
       "        text-align: right;\n",
       "    }\n",
       "</style>\n",
       "<table border=\"1\" class=\"dataframe\">\n",
       "  <thead>\n",
       "    <tr style=\"text-align: right;\">\n",
       "      <th></th>\n",
       "      <th>disposition</th>\n",
       "      <th>pdisposition</th>\n",
       "      <th>orb_period</th>\n",
       "      <th>time0bk</th>\n",
       "      <th>impact</th>\n",
       "      <th>duration</th>\n",
       "      <th>depth</th>\n",
       "      <th>prad</th>\n",
       "      <th>teq</th>\n",
       "      <th>insol</th>\n",
       "      <th>model_snr</th>\n",
       "      <th>steff</th>\n",
       "      <th>slogg</th>\n",
       "      <th>srad</th>\n",
       "      <th>right_ascension</th>\n",
       "      <th>declination</th>\n",
       "      <th>kepmag</th>\n",
       "    </tr>\n",
       "  </thead>\n",
       "  <tbody>\n",
       "    <tr>\n",
       "      <td>0</td>\n",
       "      <td>CONFIRMED</td>\n",
       "      <td>CANDIDATE</td>\n",
       "      <td>9.488036</td>\n",
       "      <td>170.538750</td>\n",
       "      <td>0.146</td>\n",
       "      <td>2.95750</td>\n",
       "      <td>615.8</td>\n",
       "      <td>2.26</td>\n",
       "      <td>793.0</td>\n",
       "      <td>93.59</td>\n",
       "      <td>35.8</td>\n",
       "      <td>5455.0</td>\n",
       "      <td>4.467</td>\n",
       "      <td>0.927</td>\n",
       "      <td>291.93423</td>\n",
       "      <td>48.141651</td>\n",
       "      <td>15.347</td>\n",
       "    </tr>\n",
       "    <tr>\n",
       "      <td>1</td>\n",
       "      <td>CONFIRMED</td>\n",
       "      <td>CANDIDATE</td>\n",
       "      <td>54.418383</td>\n",
       "      <td>162.513840</td>\n",
       "      <td>0.586</td>\n",
       "      <td>4.50700</td>\n",
       "      <td>874.8</td>\n",
       "      <td>2.83</td>\n",
       "      <td>443.0</td>\n",
       "      <td>9.11</td>\n",
       "      <td>25.8</td>\n",
       "      <td>5455.0</td>\n",
       "      <td>4.467</td>\n",
       "      <td>0.927</td>\n",
       "      <td>291.93423</td>\n",
       "      <td>48.141651</td>\n",
       "      <td>15.347</td>\n",
       "    </tr>\n",
       "    <tr>\n",
       "      <td>2</td>\n",
       "      <td>FALSE POSITIVE</td>\n",
       "      <td>FALSE POSITIVE</td>\n",
       "      <td>19.899140</td>\n",
       "      <td>175.850252</td>\n",
       "      <td>0.969</td>\n",
       "      <td>1.78220</td>\n",
       "      <td>10829.0</td>\n",
       "      <td>14.60</td>\n",
       "      <td>638.0</td>\n",
       "      <td>39.30</td>\n",
       "      <td>76.3</td>\n",
       "      <td>5853.0</td>\n",
       "      <td>4.544</td>\n",
       "      <td>0.868</td>\n",
       "      <td>297.00482</td>\n",
       "      <td>48.134129</td>\n",
       "      <td>15.436</td>\n",
       "    </tr>\n",
       "    <tr>\n",
       "      <td>3</td>\n",
       "      <td>FALSE POSITIVE</td>\n",
       "      <td>FALSE POSITIVE</td>\n",
       "      <td>1.736952</td>\n",
       "      <td>170.307565</td>\n",
       "      <td>1.276</td>\n",
       "      <td>2.40641</td>\n",
       "      <td>8079.2</td>\n",
       "      <td>33.46</td>\n",
       "      <td>1395.0</td>\n",
       "      <td>891.96</td>\n",
       "      <td>505.6</td>\n",
       "      <td>5805.0</td>\n",
       "      <td>4.564</td>\n",
       "      <td>0.791</td>\n",
       "      <td>285.53461</td>\n",
       "      <td>48.285210</td>\n",
       "      <td>15.597</td>\n",
       "    </tr>\n",
       "    <tr>\n",
       "      <td>4</td>\n",
       "      <td>CONFIRMED</td>\n",
       "      <td>CANDIDATE</td>\n",
       "      <td>2.525592</td>\n",
       "      <td>171.595550</td>\n",
       "      <td>0.701</td>\n",
       "      <td>1.65450</td>\n",
       "      <td>603.3</td>\n",
       "      <td>2.75</td>\n",
       "      <td>1406.0</td>\n",
       "      <td>926.16</td>\n",
       "      <td>40.9</td>\n",
       "      <td>6031.0</td>\n",
       "      <td>4.438</td>\n",
       "      <td>1.046</td>\n",
       "      <td>288.75488</td>\n",
       "      <td>48.226200</td>\n",
       "      <td>15.509</td>\n",
       "    </tr>\n",
       "  </tbody>\n",
       "</table>\n",
       "</div>"
      ],
      "text/plain": [
       "      disposition    pdisposition  orb_period     time0bk  impact  duration  \\\n",
       "0       CONFIRMED       CANDIDATE    9.488036  170.538750   0.146   2.95750   \n",
       "1       CONFIRMED       CANDIDATE   54.418383  162.513840   0.586   4.50700   \n",
       "2  FALSE POSITIVE  FALSE POSITIVE   19.899140  175.850252   0.969   1.78220   \n",
       "3  FALSE POSITIVE  FALSE POSITIVE    1.736952  170.307565   1.276   2.40641   \n",
       "4       CONFIRMED       CANDIDATE    2.525592  171.595550   0.701   1.65450   \n",
       "\n",
       "     depth   prad     teq   insol  model_snr   steff  slogg   srad  \\\n",
       "0    615.8   2.26   793.0   93.59       35.8  5455.0  4.467  0.927   \n",
       "1    874.8   2.83   443.0    9.11       25.8  5455.0  4.467  0.927   \n",
       "2  10829.0  14.60   638.0   39.30       76.3  5853.0  4.544  0.868   \n",
       "3   8079.2  33.46  1395.0  891.96      505.6  5805.0  4.564  0.791   \n",
       "4    603.3   2.75  1406.0  926.16       40.9  6031.0  4.438  1.046   \n",
       "\n",
       "   right_ascension  declination  kepmag  \n",
       "0        291.93423    48.141651  15.347  \n",
       "1        291.93423    48.141651  15.347  \n",
       "2        297.00482    48.134129  15.436  \n",
       "3        285.53461    48.285210  15.597  \n",
       "4        288.75488    48.226200  15.509  "
      ]
     },
     "execution_count": 5,
     "metadata": {},
     "output_type": "execute_result"
    }
   ],
   "source": [
    "data.head()"
   ]
  },
  {
   "cell_type": "code",
   "execution_count": 6,
   "metadata": {
    "scrolled": true
   },
   "outputs": [],
   "source": [
    "encoded = pd.get_dummies(data)"
   ]
  },
  {
   "cell_type": "code",
   "execution_count": 7,
   "metadata": {},
   "outputs": [
    {
     "data": {
      "text/html": [
       "<div>\n",
       "<style scoped>\n",
       "    .dataframe tbody tr th:only-of-type {\n",
       "        vertical-align: middle;\n",
       "    }\n",
       "\n",
       "    .dataframe tbody tr th {\n",
       "        vertical-align: top;\n",
       "    }\n",
       "\n",
       "    .dataframe thead th {\n",
       "        text-align: right;\n",
       "    }\n",
       "</style>\n",
       "<table border=\"1\" class=\"dataframe\">\n",
       "  <thead>\n",
       "    <tr style=\"text-align: right;\">\n",
       "      <th></th>\n",
       "      <th>orb_period</th>\n",
       "      <th>time0bk</th>\n",
       "      <th>impact</th>\n",
       "      <th>duration</th>\n",
       "      <th>depth</th>\n",
       "      <th>prad</th>\n",
       "      <th>teq</th>\n",
       "      <th>insol</th>\n",
       "      <th>model_snr</th>\n",
       "      <th>steff</th>\n",
       "      <th>slogg</th>\n",
       "      <th>srad</th>\n",
       "      <th>right_ascension</th>\n",
       "      <th>declination</th>\n",
       "      <th>kepmag</th>\n",
       "      <th>disposition_CANDIDATE</th>\n",
       "      <th>disposition_FALSE POSITIVE</th>\n",
       "      <th>pdisposition_CANDIDATE</th>\n",
       "      <th>pdisposition_FALSE POSITIVE</th>\n",
       "    </tr>\n",
       "    <tr>\n",
       "      <th>disposition_CONFIRMED</th>\n",
       "      <th></th>\n",
       "      <th></th>\n",
       "      <th></th>\n",
       "      <th></th>\n",
       "      <th></th>\n",
       "      <th></th>\n",
       "      <th></th>\n",
       "      <th></th>\n",
       "      <th></th>\n",
       "      <th></th>\n",
       "      <th></th>\n",
       "      <th></th>\n",
       "      <th></th>\n",
       "      <th></th>\n",
       "      <th></th>\n",
       "      <th></th>\n",
       "      <th></th>\n",
       "      <th></th>\n",
       "      <th></th>\n",
       "    </tr>\n",
       "  </thead>\n",
       "  <tbody>\n",
       "    <tr>\n",
       "      <td>0</td>\n",
       "      <td>6908</td>\n",
       "      <td>6908</td>\n",
       "      <td>6908</td>\n",
       "      <td>6908</td>\n",
       "      <td>6908</td>\n",
       "      <td>6908</td>\n",
       "      <td>6908</td>\n",
       "      <td>6908</td>\n",
       "      <td>6908</td>\n",
       "      <td>6908</td>\n",
       "      <td>6908</td>\n",
       "      <td>6908</td>\n",
       "      <td>6908</td>\n",
       "      <td>6908</td>\n",
       "      <td>6908</td>\n",
       "      <td>6908</td>\n",
       "      <td>6908</td>\n",
       "      <td>6908</td>\n",
       "      <td>6908</td>\n",
       "    </tr>\n",
       "    <tr>\n",
       "      <td>1</td>\n",
       "      <td>2292</td>\n",
       "      <td>2292</td>\n",
       "      <td>2292</td>\n",
       "      <td>2292</td>\n",
       "      <td>2292</td>\n",
       "      <td>2292</td>\n",
       "      <td>2292</td>\n",
       "      <td>2292</td>\n",
       "      <td>2292</td>\n",
       "      <td>2292</td>\n",
       "      <td>2292</td>\n",
       "      <td>2292</td>\n",
       "      <td>2292</td>\n",
       "      <td>2292</td>\n",
       "      <td>2292</td>\n",
       "      <td>2292</td>\n",
       "      <td>2292</td>\n",
       "      <td>2292</td>\n",
       "      <td>2292</td>\n",
       "    </tr>\n",
       "  </tbody>\n",
       "</table>\n",
       "</div>"
      ],
      "text/plain": [
       "                       orb_period  time0bk  impact  duration  depth  prad  \\\n",
       "disposition_CONFIRMED                                                       \n",
       "0                            6908     6908    6908      6908   6908  6908   \n",
       "1                            2292     2292    2292      2292   2292  2292   \n",
       "\n",
       "                        teq  insol  model_snr  steff  slogg  srad  \\\n",
       "disposition_CONFIRMED                                               \n",
       "0                      6908   6908       6908   6908   6908  6908   \n",
       "1                      2292   2292       2292   2292   2292  2292   \n",
       "\n",
       "                       right_ascension  declination  kepmag  \\\n",
       "disposition_CONFIRMED                                         \n",
       "0                                 6908         6908    6908   \n",
       "1                                 2292         2292    2292   \n",
       "\n",
       "                       disposition_CANDIDATE  disposition_FALSE POSITIVE  \\\n",
       "disposition_CONFIRMED                                                      \n",
       "0                                       6908                        6908   \n",
       "1                                       2292                        2292   \n",
       "\n",
       "                       pdisposition_CANDIDATE  pdisposition_FALSE POSITIVE  \n",
       "disposition_CONFIRMED                                                       \n",
       "0                                        6908                         6908  \n",
       "1                                        2292                         2292  "
      ]
     },
     "execution_count": 7,
     "metadata": {},
     "output_type": "execute_result"
    }
   ],
   "source": [
    "encoded.groupby('disposition_CONFIRMED').count()"
   ]
  },
  {
   "cell_type": "markdown",
   "metadata": {},
   "source": [
    "## Normalization"
   ]
  },
  {
   "cell_type": "code",
   "execution_count": 8,
   "metadata": {},
   "outputs": [
    {
     "data": {
      "text/html": [
       "<div>\n",
       "<style scoped>\n",
       "    .dataframe tbody tr th:only-of-type {\n",
       "        vertical-align: middle;\n",
       "    }\n",
       "\n",
       "    .dataframe tbody tr th {\n",
       "        vertical-align: top;\n",
       "    }\n",
       "\n",
       "    .dataframe thead th {\n",
       "        text-align: right;\n",
       "    }\n",
       "</style>\n",
       "<table border=\"1\" class=\"dataframe\">\n",
       "  <thead>\n",
       "    <tr style=\"text-align: right;\">\n",
       "      <th></th>\n",
       "      <th>orb_period</th>\n",
       "      <th>time0bk</th>\n",
       "      <th>impact</th>\n",
       "      <th>duration</th>\n",
       "      <th>depth</th>\n",
       "      <th>prad</th>\n",
       "      <th>teq</th>\n",
       "      <th>insol</th>\n",
       "      <th>model_snr</th>\n",
       "      <th>steff</th>\n",
       "      <th>slogg</th>\n",
       "      <th>srad</th>\n",
       "      <th>right_ascension</th>\n",
       "      <th>declination</th>\n",
       "      <th>kepmag</th>\n",
       "      <th>disposition_CANDIDATE</th>\n",
       "      <th>disposition_CONFIRMED</th>\n",
       "      <th>disposition_FALSE POSITIVE</th>\n",
       "      <th>pdisposition_CANDIDATE</th>\n",
       "      <th>pdisposition_FALSE POSITIVE</th>\n",
       "    </tr>\n",
       "  </thead>\n",
       "  <tbody>\n",
       "    <tr>\n",
       "      <td>0</td>\n",
       "      <td>0.000071</td>\n",
       "      <td>0.036999</td>\n",
       "      <td>0.001448</td>\n",
       "      <td>0.020980</td>\n",
       "      <td>0.000400</td>\n",
       "      <td>0.000011</td>\n",
       "      <td>0.052452</td>\n",
       "      <td>8.548941e-06</td>\n",
       "      <td>0.003954</td>\n",
       "      <td>0.211107</td>\n",
       "      <td>0.831296</td>\n",
       "      <td>0.003560</td>\n",
       "      <td>0.552473</td>\n",
       "      <td>0.733837</td>\n",
       "      <td>0.642863</td>\n",
       "      <td>0.0</td>\n",
       "      <td>1.0</td>\n",
       "      <td>0.0</td>\n",
       "      <td>1.0</td>\n",
       "      <td>0.0</td>\n",
       "    </tr>\n",
       "    <tr>\n",
       "      <td>1</td>\n",
       "      <td>0.000417</td>\n",
       "      <td>0.031063</td>\n",
       "      <td>0.005813</td>\n",
       "      <td>0.032169</td>\n",
       "      <td>0.000568</td>\n",
       "      <td>0.000014</td>\n",
       "      <td>0.028548</td>\n",
       "      <td>8.321493e-07</td>\n",
       "      <td>0.002849</td>\n",
       "      <td>0.211107</td>\n",
       "      <td>0.831296</td>\n",
       "      <td>0.003560</td>\n",
       "      <td>0.552473</td>\n",
       "      <td>0.733837</td>\n",
       "      <td>0.642863</td>\n",
       "      <td>0.0</td>\n",
       "      <td>1.0</td>\n",
       "      <td>0.0</td>\n",
       "      <td>1.0</td>\n",
       "      <td>0.0</td>\n",
       "    </tr>\n",
       "    <tr>\n",
       "      <td>2</td>\n",
       "      <td>0.000151</td>\n",
       "      <td>0.040928</td>\n",
       "      <td>0.009613</td>\n",
       "      <td>0.012494</td>\n",
       "      <td>0.007025</td>\n",
       "      <td>0.000072</td>\n",
       "      <td>0.041866</td>\n",
       "      <td>3.589843e-06</td>\n",
       "      <td>0.008427</td>\n",
       "      <td>0.241179</td>\n",
       "      <td>0.845778</td>\n",
       "      <td>0.003303</td>\n",
       "      <td>0.784346</td>\n",
       "      <td>0.733360</td>\n",
       "      <td>0.649689</td>\n",
       "      <td>0.0</td>\n",
       "      <td>0.0</td>\n",
       "      <td>1.0</td>\n",
       "      <td>0.0</td>\n",
       "      <td>1.0</td>\n",
       "    </tr>\n",
       "    <tr>\n",
       "      <td>3</td>\n",
       "      <td>0.000012</td>\n",
       "      <td>0.036828</td>\n",
       "      <td>0.012658</td>\n",
       "      <td>0.017001</td>\n",
       "      <td>0.005241</td>\n",
       "      <td>0.000167</td>\n",
       "      <td>0.093566</td>\n",
       "      <td>8.147573e-05</td>\n",
       "      <td>0.055838</td>\n",
       "      <td>0.237552</td>\n",
       "      <td>0.849539</td>\n",
       "      <td>0.002968</td>\n",
       "      <td>0.259826</td>\n",
       "      <td>0.742947</td>\n",
       "      <td>0.662039</td>\n",
       "      <td>0.0</td>\n",
       "      <td>0.0</td>\n",
       "      <td>1.0</td>\n",
       "      <td>0.0</td>\n",
       "      <td>1.0</td>\n",
       "    </tr>\n",
       "    <tr>\n",
       "      <td>4</td>\n",
       "      <td>0.000018</td>\n",
       "      <td>0.037781</td>\n",
       "      <td>0.006954</td>\n",
       "      <td>0.011571</td>\n",
       "      <td>0.000391</td>\n",
       "      <td>0.000013</td>\n",
       "      <td>0.094318</td>\n",
       "      <td>8.459972e-05</td>\n",
       "      <td>0.004517</td>\n",
       "      <td>0.254628</td>\n",
       "      <td>0.825842</td>\n",
       "      <td>0.004077</td>\n",
       "      <td>0.407085</td>\n",
       "      <td>0.739203</td>\n",
       "      <td>0.655289</td>\n",
       "      <td>0.0</td>\n",
       "      <td>1.0</td>\n",
       "      <td>0.0</td>\n",
       "      <td>1.0</td>\n",
       "      <td>0.0</td>\n",
       "    </tr>\n",
       "  </tbody>\n",
       "</table>\n",
       "</div>"
      ],
      "text/plain": [
       "   orb_period   time0bk    impact  duration     depth      prad       teq  \\\n",
       "0    0.000071  0.036999  0.001448  0.020980  0.000400  0.000011  0.052452   \n",
       "1    0.000417  0.031063  0.005813  0.032169  0.000568  0.000014  0.028548   \n",
       "2    0.000151  0.040928  0.009613  0.012494  0.007025  0.000072  0.041866   \n",
       "3    0.000012  0.036828  0.012658  0.017001  0.005241  0.000167  0.093566   \n",
       "4    0.000018  0.037781  0.006954  0.011571  0.000391  0.000013  0.094318   \n",
       "\n",
       "          insol  model_snr     steff     slogg      srad  right_ascension  \\\n",
       "0  8.548941e-06   0.003954  0.211107  0.831296  0.003560         0.552473   \n",
       "1  8.321493e-07   0.002849  0.211107  0.831296  0.003560         0.552473   \n",
       "2  3.589843e-06   0.008427  0.241179  0.845778  0.003303         0.784346   \n",
       "3  8.147573e-05   0.055838  0.237552  0.849539  0.002968         0.259826   \n",
       "4  8.459972e-05   0.004517  0.254628  0.825842  0.004077         0.407085   \n",
       "\n",
       "   declination    kepmag  disposition_CANDIDATE  disposition_CONFIRMED  \\\n",
       "0     0.733837  0.642863                    0.0                    1.0   \n",
       "1     0.733837  0.642863                    0.0                    1.0   \n",
       "2     0.733360  0.649689                    0.0                    0.0   \n",
       "3     0.742947  0.662039                    0.0                    0.0   \n",
       "4     0.739203  0.655289                    0.0                    1.0   \n",
       "\n",
       "   disposition_FALSE POSITIVE  pdisposition_CANDIDATE  \\\n",
       "0                         0.0                     1.0   \n",
       "1                         0.0                     1.0   \n",
       "2                         1.0                     0.0   \n",
       "3                         1.0                     0.0   \n",
       "4                         0.0                     1.0   \n",
       "\n",
       "   pdisposition_FALSE POSITIVE  \n",
       "0                          0.0  \n",
       "1                          0.0  \n",
       "2                          1.0  \n",
       "3                          1.0  \n",
       "4                          0.0  "
      ]
     },
     "execution_count": 8,
     "metadata": {},
     "output_type": "execute_result"
    }
   ],
   "source": [
    "from sklearn.preprocessing import MinMaxScaler\n",
    "\n",
    "scaler = MinMaxScaler()\n",
    "scaled_df = scaler.fit_transform(encoded)\n",
    "scaled_df = pd.DataFrame(scaled_df, columns=encoded.columns)\n",
    "scaled_df.head()\n",
    "\n",
    "# fig, (ax1, ax2) = plt.subplots(ncols=2, figsize=(6, 5))\n",
    "# ax1.set_title('Before Scaling')\n",
    "# sns.kdeplot(data['steff'], ax=ax1)\n",
    "# sns.kdeplot(data['depth'], ax=ax1)\n",
    "# sns.kdeplot(data['impact'], ax=ax1)\n",
    "# ax2.set_title('After Min-Max Scaling')\n",
    "# sns.kdeplot(encoded['steff'], ax=ax2)\n",
    "# sns.kdeplot(encoded['depth'], ax=ax2)\n",
    "# sns.kdeplot(encoded['impact'], ax=ax2)\n",
    "# plt.show()"
   ]
  },
  {
   "cell_type": "markdown",
   "metadata": {},
   "source": [
    "## Train and set"
   ]
  },
  {
   "cell_type": "code",
   "execution_count": 9,
   "metadata": {},
   "outputs": [
    {
     "data": {
      "text/plain": [
       "Index(['orb_period', 'time0bk', 'impact', 'duration', 'depth', 'prad', 'teq',\n",
       "       'insol', 'model_snr', 'steff', 'slogg', 'srad', 'right_ascension',\n",
       "       'declination', 'kepmag', 'disposition_CANDIDATE',\n",
       "       'disposition_CONFIRMED', 'disposition_FALSE POSITIVE',\n",
       "       'pdisposition_CANDIDATE', 'pdisposition_FALSE POSITIVE'],\n",
       "      dtype='object')"
      ]
     },
     "execution_count": 9,
     "metadata": {},
     "output_type": "execute_result"
    }
   ],
   "source": [
    "scaled_df.columns"
   ]
  },
  {
   "cell_type": "code",
   "execution_count": 10,
   "metadata": {},
   "outputs": [],
   "source": [
    "scaled_df.drop(['disposition_CANDIDATE', 'disposition_FALSE POSITIVE'], axis=1, inplace=True)"
   ]
  },
  {
   "cell_type": "code",
   "execution_count": 11,
   "metadata": {},
   "outputs": [
    {
     "data": {
      "text/html": [
       "<div>\n",
       "<style scoped>\n",
       "    .dataframe tbody tr th:only-of-type {\n",
       "        vertical-align: middle;\n",
       "    }\n",
       "\n",
       "    .dataframe tbody tr th {\n",
       "        vertical-align: top;\n",
       "    }\n",
       "\n",
       "    .dataframe thead th {\n",
       "        text-align: right;\n",
       "    }\n",
       "</style>\n",
       "<table border=\"1\" class=\"dataframe\">\n",
       "  <thead>\n",
       "    <tr style=\"text-align: right;\">\n",
       "      <th></th>\n",
       "      <th>orb_period</th>\n",
       "      <th>time0bk</th>\n",
       "      <th>impact</th>\n",
       "      <th>duration</th>\n",
       "      <th>depth</th>\n",
       "      <th>prad</th>\n",
       "      <th>teq</th>\n",
       "      <th>insol</th>\n",
       "      <th>model_snr</th>\n",
       "      <th>steff</th>\n",
       "      <th>slogg</th>\n",
       "      <th>srad</th>\n",
       "      <th>right_ascension</th>\n",
       "      <th>declination</th>\n",
       "      <th>kepmag</th>\n",
       "      <th>pdisposition_CANDIDATE</th>\n",
       "      <th>pdisposition_FALSE POSITIVE</th>\n",
       "    </tr>\n",
       "    <tr>\n",
       "      <th>disposition_CONFIRMED</th>\n",
       "      <th></th>\n",
       "      <th></th>\n",
       "      <th></th>\n",
       "      <th></th>\n",
       "      <th></th>\n",
       "      <th></th>\n",
       "      <th></th>\n",
       "      <th></th>\n",
       "      <th></th>\n",
       "      <th></th>\n",
       "      <th></th>\n",
       "      <th></th>\n",
       "      <th></th>\n",
       "      <th></th>\n",
       "      <th></th>\n",
       "      <th></th>\n",
       "      <th></th>\n",
       "    </tr>\n",
       "  </thead>\n",
       "  <tbody>\n",
       "    <tr>\n",
       "      <td>0.0</td>\n",
       "      <td>6908</td>\n",
       "      <td>6908</td>\n",
       "      <td>6908</td>\n",
       "      <td>6908</td>\n",
       "      <td>6908</td>\n",
       "      <td>6908</td>\n",
       "      <td>6908</td>\n",
       "      <td>6908</td>\n",
       "      <td>6908</td>\n",
       "      <td>6908</td>\n",
       "      <td>6908</td>\n",
       "      <td>6908</td>\n",
       "      <td>6908</td>\n",
       "      <td>6908</td>\n",
       "      <td>6908</td>\n",
       "      <td>6908</td>\n",
       "      <td>6908</td>\n",
       "    </tr>\n",
       "    <tr>\n",
       "      <td>1.0</td>\n",
       "      <td>2292</td>\n",
       "      <td>2292</td>\n",
       "      <td>2292</td>\n",
       "      <td>2292</td>\n",
       "      <td>2292</td>\n",
       "      <td>2292</td>\n",
       "      <td>2292</td>\n",
       "      <td>2292</td>\n",
       "      <td>2292</td>\n",
       "      <td>2292</td>\n",
       "      <td>2292</td>\n",
       "      <td>2292</td>\n",
       "      <td>2292</td>\n",
       "      <td>2292</td>\n",
       "      <td>2292</td>\n",
       "      <td>2292</td>\n",
       "      <td>2292</td>\n",
       "    </tr>\n",
       "  </tbody>\n",
       "</table>\n",
       "</div>"
      ],
      "text/plain": [
       "                       orb_period  time0bk  impact  duration  depth  prad  \\\n",
       "disposition_CONFIRMED                                                       \n",
       "0.0                          6908     6908    6908      6908   6908  6908   \n",
       "1.0                          2292     2292    2292      2292   2292  2292   \n",
       "\n",
       "                        teq  insol  model_snr  steff  slogg  srad  \\\n",
       "disposition_CONFIRMED                                               \n",
       "0.0                    6908   6908       6908   6908   6908  6908   \n",
       "1.0                    2292   2292       2292   2292   2292  2292   \n",
       "\n",
       "                       right_ascension  declination  kepmag  \\\n",
       "disposition_CONFIRMED                                         \n",
       "0.0                               6908         6908    6908   \n",
       "1.0                               2292         2292    2292   \n",
       "\n",
       "                       pdisposition_CANDIDATE  pdisposition_FALSE POSITIVE  \n",
       "disposition_CONFIRMED                                                       \n",
       "0.0                                      6908                         6908  \n",
       "1.0                                      2292                         2292  "
      ]
     },
     "execution_count": 11,
     "metadata": {},
     "output_type": "execute_result"
    }
   ],
   "source": [
    "scaled_df.groupby('disposition_CONFIRMED').count()"
   ]
  },
  {
   "cell_type": "code",
   "execution_count": 12,
   "metadata": {},
   "outputs": [],
   "source": [
    "y = scaled_df['disposition_CONFIRMED'] # What we want to predict\n",
    "X = scaled_df.drop(['disposition_CONFIRMED'], axis = 1)\n",
    "#X = np.array(X)"
   ]
  },
  {
   "cell_type": "code",
   "execution_count": 13,
   "metadata": {},
   "outputs": [
    {
     "name": "stdout",
     "output_type": "stream",
     "text": [
      "(9200,)\n",
      "(9200, 17)\n"
     ]
    }
   ],
   "source": [
    "print(y.shape)\n",
    "print(X.shape)"
   ]
  },
  {
   "cell_type": "markdown",
   "metadata": {},
   "source": [
    "# KNN"
   ]
  },
  {
   "cell_type": "code",
   "execution_count": 17,
   "metadata": {},
   "outputs": [],
   "source": [
    "# Splitting data into training and testing sets\n",
    "from sklearn.model_selection import train_test_split\n",
    "\n",
    "X_train, X_test, y_train, y_test = train_test_split(X, y, test_size = 0.20, random_state = 42)"
   ]
  },
  {
   "cell_type": "code",
   "execution_count": 18,
   "metadata": {},
   "outputs": [
    {
     "data": {
      "image/png": "[encoded data removed]",
      "text/plain": [
       "<Figure size 864x576 with 1 Axes>"
      ]
     },
     "metadata": {
      "needs_background": "light"
     },
     "output_type": "display_data"
    }
   ],
   "source": [
    "from sklearn.model_selection import train_test_split\n",
    "from sklearn.neighbors import KNeighborsClassifier\n",
    "\n",
    "# Setup arrays to store train and test accuracies\n",
    "neighbors = np.arange(1, 9)\n",
    "train_accuracy = np.empty(len(neighbors))\n",
    "test_accuracy = np.empty(len(neighbors))\n",
    "\n",
    "# Loop over different values of k\n",
    "for i, k in enumerate(neighbors):\n",
    "    # Setup a k-NN Classifier with k neighbors: knn\n",
    "    knn = KNeighborsClassifier(n_neighbors=k)\n",
    "\n",
    "    # Fit the classifier to the training data\n",
    "    knn.fit(X_train, y_train)\n",
    "\n",
    "    #Compute accuracy on the training set\n",
    "    train_accuracy[i] = knn.score(X_train, y_train)\n",
    "\n",
    "    #Compute accuracy on the testing set\n",
    "    test_accuracy[i] = knn.score(X_test, y_test)\n",
    "\n",
    "# Generate plot\n",
    "plt.figure(figsize=(12,8))\n",
    "plt.title('k-NN: Varying Number of Neighbors')\n",
    "plt.plot(neighbors, test_accuracy, label = 'Testing Accuracy')\n",
    "plt.plot(neighbors, train_accuracy, label = 'Training Accuracy')\n",
    "plt.legend()\n",
    "plt.xlabel('Number of Neighbors')\n",
    "plt.ylabel('Accuracy')\n",
    "plt.show()"
   ]
  },
  {
   "cell_type": "code",
   "execution_count": 19,
   "metadata": {},
   "outputs": [
    {
     "name": "stdout",
     "output_type": "stream",
     "text": [
      "Test set predictions:\n",
      " [1. 0. 0. ... 0. 0. 0.]\n",
      "\n",
      "Score: 0.8115942028985508\n"
     ]
    }
   ],
   "source": [
    "X_train, X_test, y_train, y_test = train_test_split(X, y, test_size=0.3, random_state=21)\n",
    "\n",
    "knn = KNeighborsClassifier(n_neighbors=1)\n",
    "\n",
    "knn.fit(X_train, y_train)\n",
    "\n",
    "y_pred = knn.predict(X_test)\n",
    "\n",
    "print(f\"Test set predictions:\\n {y_pred}\")\n",
    "\n",
    "print(f\"\\nScore: {knn.score(X_test, y_test)}\")"
   ]
  },
  {
   "cell_type": "markdown",
   "metadata": {},
   "source": [
    "# Logistic Regression"
   ]
  },
  {
   "cell_type": "code",
   "execution_count": 20,
   "metadata": {},
   "outputs": [
    {
     "name": "stdout",
     "output_type": "stream",
     "text": [
      "Confusion matrix\n",
      " [[1795  281]\n",
      " [ 285  399]]\n",
      "\n",
      "Accuracy score: 0.7949\n",
      "\n"
     ]
    },
    {
     "name": "stderr",
     "output_type": "stream",
     "text": [
      "/Library/Frameworks/Python.framework/Versions/3.7/lib/python3.7/site-packages/sklearn/linear_model/logistic.py:432: FutureWarning: Default solver will be changed to 'lbfgs' in 0.22. Specify a solver to silence this warning.\n",
      "  FutureWarning)\n"
     ]
    }
   ],
   "source": [
    "from sklearn.linear_model import LogisticRegression\n",
    "\n",
    "logreg = LogisticRegression()\n",
    "\n",
    "logreg.fit(X_train, y_train)\n",
    "\n",
    "from sklearn.metrics import confusion_matrix, accuracy_score\n",
    "\n",
    "y_pred = logreg.predict(X_test)\n",
    "\n",
    "confusion = confusion_matrix(y_test, y_pred)\n",
    "print('Confusion matrix\\n', confusion)\n",
    "print('\\nAccuracy score: {:.4f}\\n'.format(accuracy_score(y_test, y_pred)))"
   ]
  },
  {
   "cell_type": "markdown",
   "metadata": {},
   "source": [
    "# Random Forest"
   ]
  },
  {
   "cell_type": "code",
   "execution_count": 21,
   "metadata": {},
   "outputs": [
    {
     "name": "stderr",
     "output_type": "stream",
     "text": [
      "/Library/Frameworks/Python.framework/Versions/3.7/lib/python3.7/site-packages/sklearn/ensemble/forest.py:245: FutureWarning: The default value of n_estimators will change from 10 in version 0.20 to 100 in 0.22.\n",
      "  \"10 in version 0.20 to 100 in 0.22.\", FutureWarning)\n"
     ]
    }
   ],
   "source": [
    "from sklearn.ensemble import RandomForestClassifier\n",
    "\n",
    "clf = RandomForestClassifier()\n",
    "clf.fit(X_train, y_train)\n",
    "\n",
    "y_pred = clf.predict(X_test)"
   ]
  },
  {
   "cell_type": "code",
   "execution_count": 22,
   "metadata": {},
   "outputs": [
    {
     "name": "stdout",
     "output_type": "stream",
     "text": [
      "The accuracy is: 0.8916666666666667\n"
     ]
    }
   ],
   "source": [
    "from sklearn import metrics\n",
    "print(\"The accuracy is:\",metrics.accuracy_score(y_test, y_pred))"
   ]
  },
  {
   "cell_type": "code",
   "execution_count": 23,
   "metadata": {},
   "outputs": [
    {
     "data": {
      "text/plain": [
       "array([[1952,  124],\n",
       "       [ 175,  509]])"
      ]
     },
     "execution_count": 23,
     "metadata": {},
     "output_type": "execute_result"
    }
   ],
   "source": [
    "metrics.confusion_matrix(y_test, y_pred)"
   ]
  },
  {
   "cell_type": "code",
   "execution_count": 24,
   "metadata": {
    "scrolled": false
   },
   "outputs": [
    {
     "name": "stdout",
     "output_type": "stream",
     "text": [
      "              precision    recall  f1-score   support\n",
      "\n",
      "         0.0       0.92      0.94      0.93      2076\n",
      "         1.0       0.80      0.74      0.77       684\n",
      "\n",
      "    accuracy                           0.89      2760\n",
      "   macro avg       0.86      0.84      0.85      2760\n",
      "weighted avg       0.89      0.89      0.89      2760\n",
      "\n"
     ]
    }
   ],
   "source": [
    "from sklearn.metrics import confusion_matrix, classification_report\n",
    "print(classification_report(y_test, y_pred))"
   ]
  },
  {
   "cell_type": "markdown",
   "metadata": {},
   "source": [
    "## Random Forest (100  estimators)"
   ]
  },
  {
   "cell_type": "code",
   "execution_count": 26,
   "metadata": {},
   "outputs": [],
   "source": [
    "from sklearn.ensemble import RandomForestClassifier\n",
    "\n",
    "clf = RandomForestClassifier(n_estimators=100)\n",
    "clf.fit(X_train, y_train)\n",
    "\n",
    "y_pred = clf.predict(X_test)"
   ]
  },
  {
   "cell_type": "code",
   "execution_count": 27,
   "metadata": {},
   "outputs": [
    {
     "name": "stdout",
     "output_type": "stream",
     "text": [
      "The accuracy is: 0.9043478260869565\n"
     ]
    }
   ],
   "source": [
    "from sklearn import metrics\n",
    "print(\"The accuracy is:\",metrics.accuracy_score(y_test, y_pred))"
   ]
  },
  {
   "cell_type": "code",
   "execution_count": 28,
   "metadata": {},
   "outputs": [
    {
     "data": {
      "text/plain": [
       "array([[1946,  130],\n",
       "       [ 134,  550]])"
      ]
     },
     "execution_count": 28,
     "metadata": {},
     "output_type": "execute_result"
    }
   ],
   "source": [
    "metrics.confusion_matrix(y_test, y_pred)"
   ]
  },
  {
   "cell_type": "code",
   "execution_count": 29,
   "metadata": {
    "scrolled": true
   },
   "outputs": [
    {
     "name": "stdout",
     "output_type": "stream",
     "text": [
      "              precision    recall  f1-score   support\n",
      "\n",
      "         0.0       0.94      0.94      0.94      2076\n",
      "         1.0       0.81      0.80      0.81       684\n",
      "\n",
      "    accuracy                           0.90      2760\n",
      "   macro avg       0.87      0.87      0.87      2760\n",
      "weighted avg       0.90      0.90      0.90      2760\n",
      "\n"
     ]
    }
   ],
   "source": [
    "from sklearn.metrics import confusion_matrix, classification_report\n",
    "print(classification_report(y_test, y_pred))"
   ]
  },
  {
   "cell_type": "code",
   "execution_count": null,
   "metadata": {},
   "outputs": [],
   "source": []
  }
 ],
 "metadata": {
  "hide_input": false,
  "kernelspec": {
   "display_name": "Python 3",
   "language": "python",
   "name": "python3"
  },
  "language_info": {
   "codemirror_mode": {
    "name": "ipython",
    "version": 3
   },
   "file_extension": ".py",
   "mimetype": "text/x-python",
   "name": "python",
   "nbconvert_exporter": "python",
   "pygments_lexer": "ipython3",
   "version": "3.7.2"
  },
  "toc": {
   "base_numbering": 1,
   "nav_menu": {},
   "number_sections": true,
   "sideBar": true,
   "skip_h1_title": false,
   "title_cell": "Table of Contents",
   "title_sidebar": "Contents",
   "toc_cell": true,
   "toc_position": {},
   "toc_section_display": true,
   "toc_window_display": true
  }
 },
 "nbformat": 4,
 "nbformat_minor": 2
}
