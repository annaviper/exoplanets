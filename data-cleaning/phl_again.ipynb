{
 "nbformat": 4,
 "nbformat_minor": 2,
 "metadata": {
  "language_info": {
   "name": "python",
   "codemirror_mode": {
    "name": "ipython",
    "version": 3
   },
   "version": "3.7.6-final"
  },
  "orig_nbformat": 2,
  "file_extension": ".py",
  "mimetype": "text/x-python",
  "name": "python",
  "npconvert_exporter": "python",
  "pygments_lexer": "ipython3",
  "version": 3,
  "kernelspec": {
   "name": "python37664bit3107a21d2f224fe39f89f5b0bc2a3507",
   "display_name": "Python 3.7.6 64-bit"
  }
 },
 "cells": [
  {
   "cell_type": "code",
   "execution_count": 106,
   "metadata": {},
   "outputs": [
    {
     "output_type": "display_data",
     "data": {
      "text/plain": "<IPython.core.display.HTML object>",
      "text/html": "<style>.container { width:90% !important; }</style>"
     },
     "metadata": {}
    }
   ],
   "source": [
    "#Importing standard libraries\n",
    "import pandas as pd\n",
    "import numpy as np\n",
    "import math\n",
    "\n",
    "import matplotlib.pyplot as plt\n",
    "import seaborn as sns\n",
    "%matplotlib inline\n",
    "\n",
    "# Increasing the number of rows and columns shown\n",
    "pd.set_option('display.max_rows', None)\n",
    "pd.set_option('display.max_columns', None)\n",
    "from IPython.core.display import display, HTML\n",
    "display(HTML(\"<style>.container { width:90% !important; }</style>\"))"
   ]
  },
  {
   "cell_type": "code",
   "execution_count": 107,
   "metadata": {},
   "outputs": [
    {
     "output_type": "stream",
     "name": "stderr",
     "text": "b'Skipping line 3742: expected 68 fields, saw 69\\nSkipping line 3743: expected 68 fields, saw 69\\n'\n"
    },
    {
     "output_type": "execute_result",
     "data": {
      "text/plain": "            P. Name P. Name Kepler  P. Name KOI P. Zone Class P. Mass Class  \\\n0       1RXS 1609 b            NaN          NaN          Cold        Jovian   \n1    1SWASP J1407 b            NaN          NaN          Cold        Jovian   \n2  2M 0103-55(AB) b            NaN          NaN          Cold        Jovian   \n3      2M 0122-24 b            NaN          NaN          Cold        Jovian   \n4      2M 0219-39 b            NaN          NaN          Cold        Jovian   \n\n  P. Composition Class P. Atmosphere Class P. Habitable Class  \\\n0                  gas       hydrogen-rich      non-habitable   \n1                  gas       hydrogen-rich      non-habitable   \n2                  gas       hydrogen-rich      non-habitable   \n3                  gas       hydrogen-rich      non-habitable   \n4                  gas       hydrogen-rich      non-habitable   \n\n   P. Min Mass (EU)  P. Mass (EU)  P. Max Mass (EU)  P. Radius (EU)  \\\n0               NaN       4451.16               NaN           19.04   \n1           6358.80       6358.80               NaN           10.94   \n2           4133.22       4133.22               NaN           11.40   \n3               NaN       6358.80               NaN           11.20   \n4               NaN       4419.37               NaN           16.13   \n\n   P. Density (EU)  P. Gravity (EU)  P. Esc Vel (EU) P. SFlux Min (EU)  \\\n0             0.64            12.28            15.29      4.079750e-06   \n1             4.86            53.12            24.11        0.02166914   \n2             2.79            31.79            19.04      3.961934e-06   \n3             4.53            50.69            23.83      1.033854e-05   \n4             1.05            16.99            16.55      2.368772e-07   \n\n  P. SFlux Mean (EU) P. SFlux Max (EU)  P. Teq Min (K)  P. Teq Mean (K)  \\\n0       4.079751e-06      4.079751e-06            11.4             11.4   \n1         0.02166914        0.02166914            97.7             97.7   \n2       3.961934e-06      3.961935e-06            11.4             11.4   \n3       1.033854e-05      1.033854e-05            14.4             14.4   \n4       2.368772e-07      2.368773e-07             5.6              5.6   \n\n   P. Teq Max (K)  P. Ts Min (K)  P. Ts Mean (K)  P. Ts Max (K)  \\\n0            11.4            NaN             NaN            NaN   \n1            97.7            NaN             NaN            NaN   \n2            11.4            NaN             NaN            NaN   \n3            14.4            NaN             NaN            NaN   \n4             5.6            NaN             NaN            NaN   \n\n   P. Surf Press (EU)  P. Mag  P. Appar Size (deg)  P. Period (days)  \\\n0              2870.4  -10.06                36.81               NaN   \n1             30873.8  -18.21                20.91            3725.0   \n2             11520.8   -8.91                21.80               NaN   \n3             28780.4   -9.92                21.41               NaN   \n4              4655.6   -6.60                31.03               NaN   \n\n   P. Sem Major Axis (AU)  P. Eccentricity  P. Mean Distance (AU)  \\\n0                   330.0              0.0                  330.0   \n1                     3.9              0.0                    3.9   \n2                    84.0              0.0                   84.0   \n3                    52.0              0.0                   52.0   \n4                   156.0              0.0                  156.0   \n\n   P. Inclination (deg)  P. Omega (deg)         S. Name S. Name HD  \\\n0                   NaN             0.0       1RXS 1609        NaN   \n1                   NaN             0.0    1SWASP J1407        NaN   \n2                   NaN             0.0  2M 0103-55(AB)        NaN   \n3                   NaN             0.0      2M 0122-24        NaN   \n4                   NaN             0.0      2M 0219-39        NaN   \n\n  S. Name HIP S. Constellation S. Type  S. Mass (SU)  S. Radius (SU)  \\\n0         NaN              Sco     K7V          0.73            1.35   \n1         NaN              Cen       K          0.90            0.99   \n2         NaN              Phe       M          0.40            0.38   \n3         NaN              Cet    M3.5          0.40            0.38   \n4         NaN              For      M6          0.11            0.27   \n\n   S. Teff (K)  S. Luminosity (SU)  S. [Fe/H]  S. Age (Gyrs)  S. Appar Mag  \\\n0       4060.0            0.444285        NaN          0.011           NaN   \n1       4400.0            0.329588        NaN          0.016          12.4   \n2       3840.0            0.027955        NaN          0.030           NaN   \n3       3840.0            0.027955        NaN          0.120           NaN   \n4       3064.0            0.005765        NaN            NaN           NaN   \n\n   S. Distance (pc)  S. RA (hrs)  S. DEC (deg)  S. Mag from Planet  \\\n0             145.0      16.1583      -21.0828               -13.2   \n1             133.0      14.1300      -39.7619               -22.5   \n2              47.2       1.0600      -55.2656               -13.2   \n3              36.0       1.3808      -24.6142               -14.2   \n4              39.4       2.3228      -39.4231               -10.1   \n\n   S. Size from Planet (deg)  S. No. Planets  S. No. Planets HZ  \\\n0                     0.0022               1                  0   \n1                     0.1353               1                  0   \n2                     0.0024               1                  0   \n3                     0.0039               1                  0   \n4                     0.0009               1                  0   \n\n   S. Hab Zone Min (AU)  S. Hab Zone Max (AU)   P. HZD  P. HZC  P. HZA  \\\n0                 0.540                 1.362   800.07   23.51   85.62   \n1                 0.461                 1.143     9.07   15.30   45.41   \n2                 0.136                 0.347   793.67   12.57  107.44   \n3                 0.136                 0.347   490.45   15.72  119.46   \n4                 0.062                 0.165  3028.82   19.46  133.25   \n\n   P. HZI  P. SPH  P. Int ESI  P. Surf ESI  P. ESI  S. HabCat  P. Habitable  \\\n0    0.00     NaN         0.0          0.0    0.05          0             0   \n1    0.02     NaN         0.0          0.0    0.07          0             0   \n2    0.00     NaN         0.0          0.0    0.06          0             0   \n3    0.00     NaN         0.0          0.0    0.08          0             0   \n4    0.00     NaN         0.0          0.0    0.06          0             0   \n\n   P. Hab Moon  P. Confirmed  P. Disc. Method  P. Disc. Year  \n0            0             1          Imaging        2008.00  \n1            0             1  Primary Transit        2012.00  \n2            0             1          Imaging        2013.00  \n3            0             1          Imaging        2013.00  \n4            0             1          Imaging        2015.00  ",
      "text/html": "<div>\n<style scoped>\n    .dataframe tbody tr th:only-of-type {\n        vertical-align: middle;\n    }\n\n    .dataframe tbody tr th {\n        vertical-align: top;\n    }\n\n    .dataframe thead th {\n        text-align: right;\n    }\n</style>\n<table border=\"1\" class=\"dataframe\">\n  <thead>\n    <tr style=\"text-align: right;\">\n      <th></th>\n      <th>P. Name</th>\n      <th>P. Name Kepler</th>\n      <th>P. Name KOI</th>\n      <th>P. Zone Class</th>\n      <th>P. Mass Class</th>\n      <th>P. Composition Class</th>\n      <th>P. Atmosphere Class</th>\n      <th>P. Habitable Class</th>\n      <th>P. Min Mass (EU)</th>\n      <th>P. Mass (EU)</th>\n      <th>P. Max Mass (EU)</th>\n      <th>P. Radius (EU)</th>\n      <th>P. Density (EU)</th>\n      <th>P. Gravity (EU)</th>\n      <th>P. Esc Vel (EU)</th>\n      <th>P. SFlux Min (EU)</th>\n      <th>P. SFlux Mean (EU)</th>\n      <th>P. SFlux Max (EU)</th>\n      <th>P. Teq Min (K)</th>\n      <th>P. Teq Mean (K)</th>\n      <th>P. Teq Max (K)</th>\n      <th>P. Ts Min (K)</th>\n      <th>P. Ts Mean (K)</th>\n      <th>P. Ts Max (K)</th>\n      <th>P. Surf Press (EU)</th>\n      <th>P. Mag</th>\n      <th>P. Appar Size (deg)</th>\n      <th>P. Period (days)</th>\n      <th>P. Sem Major Axis (AU)</th>\n      <th>P. Eccentricity</th>\n      <th>P. Mean Distance (AU)</th>\n      <th>P. Inclination (deg)</th>\n      <th>P. Omega (deg)</th>\n      <th>S. Name</th>\n      <th>S. Name HD</th>\n      <th>S. Name HIP</th>\n      <th>S. Constellation</th>\n      <th>S. Type</th>\n      <th>S. Mass (SU)</th>\n      <th>S. Radius (SU)</th>\n      <th>S. Teff (K)</th>\n      <th>S. Luminosity (SU)</th>\n      <th>S. [Fe/H]</th>\n      <th>S. Age (Gyrs)</th>\n      <th>S. Appar Mag</th>\n      <th>S. Distance (pc)</th>\n      <th>S. RA (hrs)</th>\n      <th>S. DEC (deg)</th>\n      <th>S. Mag from Planet</th>\n      <th>S. Size from Planet (deg)</th>\n      <th>S. No. Planets</th>\n      <th>S. No. Planets HZ</th>\n      <th>S. Hab Zone Min (AU)</th>\n      <th>S. Hab Zone Max (AU)</th>\n      <th>P. HZD</th>\n      <th>P. HZC</th>\n      <th>P. HZA</th>\n      <th>P. HZI</th>\n      <th>P. SPH</th>\n      <th>P. Int ESI</th>\n      <th>P. Surf ESI</th>\n      <th>P. ESI</th>\n      <th>S. HabCat</th>\n      <th>P. Habitable</th>\n      <th>P. Hab Moon</th>\n      <th>P. Confirmed</th>\n      <th>P. Disc. Method</th>\n      <th>P. Disc. Year</th>\n    </tr>\n  </thead>\n  <tbody>\n    <tr>\n      <th>0</th>\n      <td>1RXS 1609 b</td>\n      <td>NaN</td>\n      <td>NaN</td>\n      <td>Cold</td>\n      <td>Jovian</td>\n      <td>gas</td>\n      <td>hydrogen-rich</td>\n      <td>non-habitable</td>\n      <td>NaN</td>\n      <td>4451.16</td>\n      <td>NaN</td>\n      <td>19.04</td>\n      <td>0.64</td>\n      <td>12.28</td>\n      <td>15.29</td>\n      <td>4.079750e-06</td>\n      <td>4.079751e-06</td>\n      <td>4.079751e-06</td>\n      <td>11.4</td>\n      <td>11.4</td>\n      <td>11.4</td>\n      <td>NaN</td>\n      <td>NaN</td>\n      <td>NaN</td>\n      <td>2870.4</td>\n      <td>-10.06</td>\n      <td>36.81</td>\n      <td>NaN</td>\n      <td>330.0</td>\n      <td>0.0</td>\n      <td>330.0</td>\n      <td>NaN</td>\n      <td>0.0</td>\n      <td>1RXS 1609</td>\n      <td>NaN</td>\n      <td>NaN</td>\n      <td>Sco</td>\n      <td>K7V</td>\n      <td>0.73</td>\n      <td>1.35</td>\n      <td>4060.0</td>\n      <td>0.444285</td>\n      <td>NaN</td>\n      <td>0.011</td>\n      <td>NaN</td>\n      <td>145.0</td>\n      <td>16.1583</td>\n      <td>-21.0828</td>\n      <td>-13.2</td>\n      <td>0.0022</td>\n      <td>1</td>\n      <td>0</td>\n      <td>0.540</td>\n      <td>1.362</td>\n      <td>800.07</td>\n      <td>23.51</td>\n      <td>85.62</td>\n      <td>0.00</td>\n      <td>NaN</td>\n      <td>0.0</td>\n      <td>0.0</td>\n      <td>0.05</td>\n      <td>0</td>\n      <td>0</td>\n      <td>0</td>\n      <td>1</td>\n      <td>Imaging</td>\n      <td>2008.00</td>\n    </tr>\n    <tr>\n      <th>1</th>\n      <td>1SWASP J1407 b</td>\n      <td>NaN</td>\n      <td>NaN</td>\n      <td>Cold</td>\n      <td>Jovian</td>\n      <td>gas</td>\n      <td>hydrogen-rich</td>\n      <td>non-habitable</td>\n      <td>6358.80</td>\n      <td>6358.80</td>\n      <td>NaN</td>\n      <td>10.94</td>\n      <td>4.86</td>\n      <td>53.12</td>\n      <td>24.11</td>\n      <td>0.02166914</td>\n      <td>0.02166914</td>\n      <td>0.02166914</td>\n      <td>97.7</td>\n      <td>97.7</td>\n      <td>97.7</td>\n      <td>NaN</td>\n      <td>NaN</td>\n      <td>NaN</td>\n      <td>30873.8</td>\n      <td>-18.21</td>\n      <td>20.91</td>\n      <td>3725.0</td>\n      <td>3.9</td>\n      <td>0.0</td>\n      <td>3.9</td>\n      <td>NaN</td>\n      <td>0.0</td>\n      <td>1SWASP J1407</td>\n      <td>NaN</td>\n      <td>NaN</td>\n      <td>Cen</td>\n      <td>K</td>\n      <td>0.90</td>\n      <td>0.99</td>\n      <td>4400.0</td>\n      <td>0.329588</td>\n      <td>NaN</td>\n      <td>0.016</td>\n      <td>12.4</td>\n      <td>133.0</td>\n      <td>14.1300</td>\n      <td>-39.7619</td>\n      <td>-22.5</td>\n      <td>0.1353</td>\n      <td>1</td>\n      <td>0</td>\n      <td>0.461</td>\n      <td>1.143</td>\n      <td>9.07</td>\n      <td>15.30</td>\n      <td>45.41</td>\n      <td>0.02</td>\n      <td>NaN</td>\n      <td>0.0</td>\n      <td>0.0</td>\n      <td>0.07</td>\n      <td>0</td>\n      <td>0</td>\n      <td>0</td>\n      <td>1</td>\n      <td>Primary Transit</td>\n      <td>2012.00</td>\n    </tr>\n    <tr>\n      <th>2</th>\n      <td>2M 0103-55(AB) b</td>\n      <td>NaN</td>\n      <td>NaN</td>\n      <td>Cold</td>\n      <td>Jovian</td>\n      <td>gas</td>\n      <td>hydrogen-rich</td>\n      <td>non-habitable</td>\n      <td>4133.22</td>\n      <td>4133.22</td>\n      <td>NaN</td>\n      <td>11.40</td>\n      <td>2.79</td>\n      <td>31.79</td>\n      <td>19.04</td>\n      <td>3.961934e-06</td>\n      <td>3.961934e-06</td>\n      <td>3.961935e-06</td>\n      <td>11.4</td>\n      <td>11.4</td>\n      <td>11.4</td>\n      <td>NaN</td>\n      <td>NaN</td>\n      <td>NaN</td>\n      <td>11520.8</td>\n      <td>-8.91</td>\n      <td>21.80</td>\n      <td>NaN</td>\n      <td>84.0</td>\n      <td>0.0</td>\n      <td>84.0</td>\n      <td>NaN</td>\n      <td>0.0</td>\n      <td>2M 0103-55(AB)</td>\n      <td>NaN</td>\n      <td>NaN</td>\n      <td>Phe</td>\n      <td>M</td>\n      <td>0.40</td>\n      <td>0.38</td>\n      <td>3840.0</td>\n      <td>0.027955</td>\n      <td>NaN</td>\n      <td>0.030</td>\n      <td>NaN</td>\n      <td>47.2</td>\n      <td>1.0600</td>\n      <td>-55.2656</td>\n      <td>-13.2</td>\n      <td>0.0024</td>\n      <td>1</td>\n      <td>0</td>\n      <td>0.136</td>\n      <td>0.347</td>\n      <td>793.67</td>\n      <td>12.57</td>\n      <td>107.44</td>\n      <td>0.00</td>\n      <td>NaN</td>\n      <td>0.0</td>\n      <td>0.0</td>\n      <td>0.06</td>\n      <td>0</td>\n      <td>0</td>\n      <td>0</td>\n      <td>1</td>\n      <td>Imaging</td>\n      <td>2013.00</td>\n    </tr>\n    <tr>\n      <th>3</th>\n      <td>2M 0122-24 b</td>\n      <td>NaN</td>\n      <td>NaN</td>\n      <td>Cold</td>\n      <td>Jovian</td>\n      <td>gas</td>\n      <td>hydrogen-rich</td>\n      <td>non-habitable</td>\n      <td>NaN</td>\n      <td>6358.80</td>\n      <td>NaN</td>\n      <td>11.20</td>\n      <td>4.53</td>\n      <td>50.69</td>\n      <td>23.83</td>\n      <td>1.033854e-05</td>\n      <td>1.033854e-05</td>\n      <td>1.033854e-05</td>\n      <td>14.4</td>\n      <td>14.4</td>\n      <td>14.4</td>\n      <td>NaN</td>\n      <td>NaN</td>\n      <td>NaN</td>\n      <td>28780.4</td>\n      <td>-9.92</td>\n      <td>21.41</td>\n      <td>NaN</td>\n      <td>52.0</td>\n      <td>0.0</td>\n      <td>52.0</td>\n      <td>NaN</td>\n      <td>0.0</td>\n      <td>2M 0122-24</td>\n      <td>NaN</td>\n      <td>NaN</td>\n      <td>Cet</td>\n      <td>M3.5</td>\n      <td>0.40</td>\n      <td>0.38</td>\n      <td>3840.0</td>\n      <td>0.027955</td>\n      <td>NaN</td>\n      <td>0.120</td>\n      <td>NaN</td>\n      <td>36.0</td>\n      <td>1.3808</td>\n      <td>-24.6142</td>\n      <td>-14.2</td>\n      <td>0.0039</td>\n      <td>1</td>\n      <td>0</td>\n      <td>0.136</td>\n      <td>0.347</td>\n      <td>490.45</td>\n      <td>15.72</td>\n      <td>119.46</td>\n      <td>0.00</td>\n      <td>NaN</td>\n      <td>0.0</td>\n      <td>0.0</td>\n      <td>0.08</td>\n      <td>0</td>\n      <td>0</td>\n      <td>0</td>\n      <td>1</td>\n      <td>Imaging</td>\n      <td>2013.00</td>\n    </tr>\n    <tr>\n      <th>4</th>\n      <td>2M 0219-39 b</td>\n      <td>NaN</td>\n      <td>NaN</td>\n      <td>Cold</td>\n      <td>Jovian</td>\n      <td>gas</td>\n      <td>hydrogen-rich</td>\n      <td>non-habitable</td>\n      <td>NaN</td>\n      <td>4419.37</td>\n      <td>NaN</td>\n      <td>16.13</td>\n      <td>1.05</td>\n      <td>16.99</td>\n      <td>16.55</td>\n      <td>2.368772e-07</td>\n      <td>2.368772e-07</td>\n      <td>2.368773e-07</td>\n      <td>5.6</td>\n      <td>5.6</td>\n      <td>5.6</td>\n      <td>NaN</td>\n      <td>NaN</td>\n      <td>NaN</td>\n      <td>4655.6</td>\n      <td>-6.60</td>\n      <td>31.03</td>\n      <td>NaN</td>\n      <td>156.0</td>\n      <td>0.0</td>\n      <td>156.0</td>\n      <td>NaN</td>\n      <td>0.0</td>\n      <td>2M 0219-39</td>\n      <td>NaN</td>\n      <td>NaN</td>\n      <td>For</td>\n      <td>M6</td>\n      <td>0.11</td>\n      <td>0.27</td>\n      <td>3064.0</td>\n      <td>0.005765</td>\n      <td>NaN</td>\n      <td>NaN</td>\n      <td>NaN</td>\n      <td>39.4</td>\n      <td>2.3228</td>\n      <td>-39.4231</td>\n      <td>-10.1</td>\n      <td>0.0009</td>\n      <td>1</td>\n      <td>0</td>\n      <td>0.062</td>\n      <td>0.165</td>\n      <td>3028.82</td>\n      <td>19.46</td>\n      <td>133.25</td>\n      <td>0.00</td>\n      <td>NaN</td>\n      <td>0.0</td>\n      <td>0.0</td>\n      <td>0.06</td>\n      <td>0</td>\n      <td>0</td>\n      <td>0</td>\n      <td>1</td>\n      <td>Imaging</td>\n      <td>2015.00</td>\n    </tr>\n  </tbody>\n</table>\n</div>"
     },
     "metadata": {},
     "execution_count": 107
    }
   ],
   "source": [
    "csv_path = '../datasets/phl.csv'\n",
    "\n",
    "# Importing data\n",
    "df = pd.read_csv(csv_path, error_bad_lines=False)\n",
    "df.head()"
   ]
  },
  {
   "cell_type": "code",
   "execution_count": 108,
   "metadata": {},
   "outputs": [
    {
     "output_type": "execute_result",
     "data": {
      "text/plain": "        P. Name P. Name Kepler  P. Name KOI P. Zone Class P. Mass Class  \\\n3868  YBP1194 b            NaN          NaN           Hot        Jovian   \n3869  YBP1514 b            NaN          NaN           Hot        Jovian   \n3870   YZ Cet b            NaN          NaN           Hot        Terran   \n3871   YZ Cet c            NaN          NaN           Hot        Terran   \n3872   YZ Cet d            NaN          NaN           Hot        Terran   \n\n     P. Composition Class P. Atmosphere Class P. Habitable Class  \\\n3868                  gas         metals-rich      non-habitable   \n3869                  gas         metals-rich      non-habitable   \n3870           rocky-iron         metals-rich      non-habitable   \n3871           rocky-iron         metals-rich      non-habitable   \n3872           rocky-iron         metals-rich      non-habitable   \n\n      P. Min Mass (EU)  P. Mass (EU)  P. Max Mass (EU)  P. Radius (EU)  \\\n3868            108.10        108.10               NaN            7.97   \n3869            127.18        127.18               NaN            8.34   \n3870              0.76          0.76               NaN            0.96   \n3871              0.99          0.99               NaN            1.04   \n3872              1.14          1.14               NaN            1.09   \n\n      P. Density (EU)  P. Gravity (EU)  P. Esc Vel (EU) P. SFlux Min (EU)  \\\n3868             0.21             1.70             3.68          124.7097   \n3869             0.22             1.83             3.91          120.2813   \n3870             0.86             0.83             0.89          9.110547   \n3871             0.88             0.91             0.97          4.674975   \n3872             0.89             0.97             1.03          2.268338   \n\n     P. SFlux Mean (EU) P. SFlux Max (EU)  P. Teq Min (K)  P. Teq Mean (K)  \\\n3868           197.4886          331.9188           851.4            944.5   \n3869           252.3098          624.3745           843.7            984.8   \n3870           9.110548          9.110549           442.6            442.6   \n3871           5.060307          5.486390           374.6            382.0   \n3872           2.915344          3.810740           312.7            331.9   \n\n      P. Teq Max (K)  P. Ts Min (K)  P. Ts Mean (K)  P. Ts Max (K)  \\\n3868          1087.4            NaN             NaN            NaN   \n3869          1273.5            NaN             NaN            NaN   \n3870           442.6          474.8           474.8          474.8   \n3871           389.9          408.0           415.4          423.3   \n3872           356.0          346.7           365.9          390.0   \n\n      P. Surf Press (EU)  P. Mag  P. Appar Size (deg)  P. Period (days)  \\\n3868                23.1  -27.50                15.19              6.96   \n3869                27.9  -27.92                15.90              5.12   \n3870                 0.7  -19.50                 1.83              1.97   \n3871                 0.9  -19.03                 1.97              3.06   \n3872                 1.0  -18.53                 2.06              4.66   \n\n      P. Sem Major Axis (AU)  P. Eccentricity  P. Mean Distance (AU)  \\\n3868                  0.0715             0.24                   0.07   \n3869                  0.0573             0.39                   0.05   \n3870                  0.0156             0.00                   0.02   \n3871                  0.0209             0.04                   0.02   \n3872                  0.0276             0.13                   0.03   \n\n      P. Inclination (deg)  P. Omega (deg)  S. Name S. Name HD S. Name HIP  \\\n3868                   NaN            98.6  YBP1194        NaN         NaN   \n3869                   NaN           327.5  YBP1514        NaN         NaN   \n3870                   NaN             0.0   YZ Cet        NaN         NaN   \n3871                   NaN             0.0   YZ Cet        NaN         NaN   \n3872                   NaN             0.0   YZ Cet        NaN         NaN   \n\n     S. Constellation S. Type  S. Mass (SU)  S. Radius (SU)  S. Teff (K)  \\\n3868              Cnc     G5V          1.01            0.99       5780.0   \n3869              Cnc     G5V          0.96            0.89       5725.0   \n3870              Cet    M4.5          0.13            0.17       3056.0   \n3871              Cet    M4.5          0.13            0.17       3056.0   \n3872              Cet    M4.5          0.13            0.17       3056.0   \n\n      S. Luminosity (SU)  S. [Fe/H]  S. Age (Gyrs)  S. Appar Mag  \\\n3868            0.981458      0.023            NaN          14.6   \n3869            0.763435      0.030            NaN          14.8   \n3870            0.002209     -0.260            4.0          12.1   \n3871            0.002209     -0.260            4.0          12.1   \n3872            0.002209     -0.260            4.0          12.1   \n\n      S. Distance (pc)  S. RA (hrs)  S. DEC (deg)  S. Mag from Planet  \\\n3868               NaN       8.8503       11.8147               -32.5   \n3869               NaN       8.8503       11.8867               -32.9   \n3870               3.6       1.2085      -16.9989               -29.1   \n3871               3.6       1.2085      -16.9989               -28.5   \n3872               3.6       1.2085      -16.9989               -27.9   \n\n      S. Size from Planet (deg)  S. No. Planets  S. No. Planets HZ  \\\n3868                     7.6013               1                  0   \n3869                     8.9947               1                  0   \n3870                     5.7526               3                  0   \n3871                     4.2882               3                  0   \n3872                     3.2669               3                  0   \n\n      S. Hab Zone Min (AU)  S. Hab Zone Max (AU)  P. HZD  P. HZC  P. HZA  \\\n3868                 0.743                 1.751   -2.33    5.02    0.57   \n3869                 0.658                 1.552   -2.34    5.23    0.62   \n3870                 0.039                 0.102   -1.72   -0.17   -0.91   \n3871                 0.039                 0.102   -1.56   -0.17   -0.77   \n3872                 0.039                 0.102   -1.34   -0.17   -0.64   \n\n      P. HZI  P. SPH  P. Int ESI  P. Surf ESI  P. ESI  S. HabCat  \\\n3868    0.15     NaN         0.0          0.0    0.16          0   \n3869    0.15     NaN         0.0          0.0    0.15          0   \n3870    0.34     0.0         0.0          0.0    0.43          0   \n3871    0.36     0.0         0.0          0.0    0.53          0   \n3872    0.40     0.0         0.0          0.0    0.65          0   \n\n      P. Habitable  P. Hab Moon  P. Confirmed  P. Disc. Method  P. Disc. Year  \n3868             0            0             1  Radial Velocity        2014.00  \n3869             0            0             1  Radial Velocity        2014.00  \n3870             0            0             1  Radial Velocity        2017.00  \n3871             0            0             1  Radial Velocity        2017.00  \n3872             0            0             1  Radial Velocity        2017.00  ",
      "text/html": "<div>\n<style scoped>\n    .dataframe tbody tr th:only-of-type {\n        vertical-align: middle;\n    }\n\n    .dataframe tbody tr th {\n        vertical-align: top;\n    }\n\n    .dataframe thead th {\n        text-align: right;\n    }\n</style>\n<table border=\"1\" class=\"dataframe\">\n  <thead>\n    <tr style=\"text-align: right;\">\n      <th></th>\n      <th>P. Name</th>\n      <th>P. Name Kepler</th>\n      <th>P. Name KOI</th>\n      <th>P. Zone Class</th>\n      <th>P. Mass Class</th>\n      <th>P. Composition Class</th>\n      <th>P. Atmosphere Class</th>\n      <th>P. Habitable Class</th>\n      <th>P. Min Mass (EU)</th>\n      <th>P. Mass (EU)</th>\n      <th>P. Max Mass (EU)</th>\n      <th>P. Radius (EU)</th>\n      <th>P. Density (EU)</th>\n      <th>P. Gravity (EU)</th>\n      <th>P. Esc Vel (EU)</th>\n      <th>P. SFlux Min (EU)</th>\n      <th>P. SFlux Mean (EU)</th>\n      <th>P. SFlux Max (EU)</th>\n      <th>P. Teq Min (K)</th>\n      <th>P. Teq Mean (K)</th>\n      <th>P. Teq Max (K)</th>\n      <th>P. Ts Min (K)</th>\n      <th>P. Ts Mean (K)</th>\n      <th>P. Ts Max (K)</th>\n      <th>P. Surf Press (EU)</th>\n      <th>P. Mag</th>\n      <th>P. Appar Size (deg)</th>\n      <th>P. Period (days)</th>\n      <th>P. Sem Major Axis (AU)</th>\n      <th>P. Eccentricity</th>\n      <th>P. Mean Distance (AU)</th>\n      <th>P. Inclination (deg)</th>\n      <th>P. Omega (deg)</th>\n      <th>S. Name</th>\n      <th>S. Name HD</th>\n      <th>S. Name HIP</th>\n      <th>S. Constellation</th>\n      <th>S. Type</th>\n      <th>S. Mass (SU)</th>\n      <th>S. Radius (SU)</th>\n      <th>S. Teff (K)</th>\n      <th>S. Luminosity (SU)</th>\n      <th>S. [Fe/H]</th>\n      <th>S. Age (Gyrs)</th>\n      <th>S. Appar Mag</th>\n      <th>S. Distance (pc)</th>\n      <th>S. RA (hrs)</th>\n      <th>S. DEC (deg)</th>\n      <th>S. Mag from Planet</th>\n      <th>S. Size from Planet (deg)</th>\n      <th>S. No. Planets</th>\n      <th>S. No. Planets HZ</th>\n      <th>S. Hab Zone Min (AU)</th>\n      <th>S. Hab Zone Max (AU)</th>\n      <th>P. HZD</th>\n      <th>P. HZC</th>\n      <th>P. HZA</th>\n      <th>P. HZI</th>\n      <th>P. SPH</th>\n      <th>P. Int ESI</th>\n      <th>P. Surf ESI</th>\n      <th>P. ESI</th>\n      <th>S. HabCat</th>\n      <th>P. Habitable</th>\n      <th>P. Hab Moon</th>\n      <th>P. Confirmed</th>\n      <th>P. Disc. Method</th>\n      <th>P. Disc. Year</th>\n    </tr>\n  </thead>\n  <tbody>\n    <tr>\n      <th>3868</th>\n      <td>YBP1194 b</td>\n      <td>NaN</td>\n      <td>NaN</td>\n      <td>Hot</td>\n      <td>Jovian</td>\n      <td>gas</td>\n      <td>metals-rich</td>\n      <td>non-habitable</td>\n      <td>108.10</td>\n      <td>108.10</td>\n      <td>NaN</td>\n      <td>7.97</td>\n      <td>0.21</td>\n      <td>1.70</td>\n      <td>3.68</td>\n      <td>124.7097</td>\n      <td>197.4886</td>\n      <td>331.9188</td>\n      <td>851.4</td>\n      <td>944.5</td>\n      <td>1087.4</td>\n      <td>NaN</td>\n      <td>NaN</td>\n      <td>NaN</td>\n      <td>23.1</td>\n      <td>-27.50</td>\n      <td>15.19</td>\n      <td>6.96</td>\n      <td>0.0715</td>\n      <td>0.24</td>\n      <td>0.07</td>\n      <td>NaN</td>\n      <td>98.6</td>\n      <td>YBP1194</td>\n      <td>NaN</td>\n      <td>NaN</td>\n      <td>Cnc</td>\n      <td>G5V</td>\n      <td>1.01</td>\n      <td>0.99</td>\n      <td>5780.0</td>\n      <td>0.981458</td>\n      <td>0.023</td>\n      <td>NaN</td>\n      <td>14.6</td>\n      <td>NaN</td>\n      <td>8.8503</td>\n      <td>11.8147</td>\n      <td>-32.5</td>\n      <td>7.6013</td>\n      <td>1</td>\n      <td>0</td>\n      <td>0.743</td>\n      <td>1.751</td>\n      <td>-2.33</td>\n      <td>5.02</td>\n      <td>0.57</td>\n      <td>0.15</td>\n      <td>NaN</td>\n      <td>0.0</td>\n      <td>0.0</td>\n      <td>0.16</td>\n      <td>0</td>\n      <td>0</td>\n      <td>0</td>\n      <td>1</td>\n      <td>Radial Velocity</td>\n      <td>2014.00</td>\n    </tr>\n    <tr>\n      <th>3869</th>\n      <td>YBP1514 b</td>\n      <td>NaN</td>\n      <td>NaN</td>\n      <td>Hot</td>\n      <td>Jovian</td>\n      <td>gas</td>\n      <td>metals-rich</td>\n      <td>non-habitable</td>\n      <td>127.18</td>\n      <td>127.18</td>\n      <td>NaN</td>\n      <td>8.34</td>\n      <td>0.22</td>\n      <td>1.83</td>\n      <td>3.91</td>\n      <td>120.2813</td>\n      <td>252.3098</td>\n      <td>624.3745</td>\n      <td>843.7</td>\n      <td>984.8</td>\n      <td>1273.5</td>\n      <td>NaN</td>\n      <td>NaN</td>\n      <td>NaN</td>\n      <td>27.9</td>\n      <td>-27.92</td>\n      <td>15.90</td>\n      <td>5.12</td>\n      <td>0.0573</td>\n      <td>0.39</td>\n      <td>0.05</td>\n      <td>NaN</td>\n      <td>327.5</td>\n      <td>YBP1514</td>\n      <td>NaN</td>\n      <td>NaN</td>\n      <td>Cnc</td>\n      <td>G5V</td>\n      <td>0.96</td>\n      <td>0.89</td>\n      <td>5725.0</td>\n      <td>0.763435</td>\n      <td>0.030</td>\n      <td>NaN</td>\n      <td>14.8</td>\n      <td>NaN</td>\n      <td>8.8503</td>\n      <td>11.8867</td>\n      <td>-32.9</td>\n      <td>8.9947</td>\n      <td>1</td>\n      <td>0</td>\n      <td>0.658</td>\n      <td>1.552</td>\n      <td>-2.34</td>\n      <td>5.23</td>\n      <td>0.62</td>\n      <td>0.15</td>\n      <td>NaN</td>\n      <td>0.0</td>\n      <td>0.0</td>\n      <td>0.15</td>\n      <td>0</td>\n      <td>0</td>\n      <td>0</td>\n      <td>1</td>\n      <td>Radial Velocity</td>\n      <td>2014.00</td>\n    </tr>\n    <tr>\n      <th>3870</th>\n      <td>YZ Cet b</td>\n      <td>NaN</td>\n      <td>NaN</td>\n      <td>Hot</td>\n      <td>Terran</td>\n      <td>rocky-iron</td>\n      <td>metals-rich</td>\n      <td>non-habitable</td>\n      <td>0.76</td>\n      <td>0.76</td>\n      <td>NaN</td>\n      <td>0.96</td>\n      <td>0.86</td>\n      <td>0.83</td>\n      <td>0.89</td>\n      <td>9.110547</td>\n      <td>9.110548</td>\n      <td>9.110549</td>\n      <td>442.6</td>\n      <td>442.6</td>\n      <td>442.6</td>\n      <td>474.8</td>\n      <td>474.8</td>\n      <td>474.8</td>\n      <td>0.7</td>\n      <td>-19.50</td>\n      <td>1.83</td>\n      <td>1.97</td>\n      <td>0.0156</td>\n      <td>0.00</td>\n      <td>0.02</td>\n      <td>NaN</td>\n      <td>0.0</td>\n      <td>YZ Cet</td>\n      <td>NaN</td>\n      <td>NaN</td>\n      <td>Cet</td>\n      <td>M4.5</td>\n      <td>0.13</td>\n      <td>0.17</td>\n      <td>3056.0</td>\n      <td>0.002209</td>\n      <td>-0.260</td>\n      <td>4.0</td>\n      <td>12.1</td>\n      <td>3.6</td>\n      <td>1.2085</td>\n      <td>-16.9989</td>\n      <td>-29.1</td>\n      <td>5.7526</td>\n      <td>3</td>\n      <td>0</td>\n      <td>0.039</td>\n      <td>0.102</td>\n      <td>-1.72</td>\n      <td>-0.17</td>\n      <td>-0.91</td>\n      <td>0.34</td>\n      <td>0.0</td>\n      <td>0.0</td>\n      <td>0.0</td>\n      <td>0.43</td>\n      <td>0</td>\n      <td>0</td>\n      <td>0</td>\n      <td>1</td>\n      <td>Radial Velocity</td>\n      <td>2017.00</td>\n    </tr>\n    <tr>\n      <th>3871</th>\n      <td>YZ Cet c</td>\n      <td>NaN</td>\n      <td>NaN</td>\n      <td>Hot</td>\n      <td>Terran</td>\n      <td>rocky-iron</td>\n      <td>metals-rich</td>\n      <td>non-habitable</td>\n      <td>0.99</td>\n      <td>0.99</td>\n      <td>NaN</td>\n      <td>1.04</td>\n      <td>0.88</td>\n      <td>0.91</td>\n      <td>0.97</td>\n      <td>4.674975</td>\n      <td>5.060307</td>\n      <td>5.486390</td>\n      <td>374.6</td>\n      <td>382.0</td>\n      <td>389.9</td>\n      <td>408.0</td>\n      <td>415.4</td>\n      <td>423.3</td>\n      <td>0.9</td>\n      <td>-19.03</td>\n      <td>1.97</td>\n      <td>3.06</td>\n      <td>0.0209</td>\n      <td>0.04</td>\n      <td>0.02</td>\n      <td>NaN</td>\n      <td>0.0</td>\n      <td>YZ Cet</td>\n      <td>NaN</td>\n      <td>NaN</td>\n      <td>Cet</td>\n      <td>M4.5</td>\n      <td>0.13</td>\n      <td>0.17</td>\n      <td>3056.0</td>\n      <td>0.002209</td>\n      <td>-0.260</td>\n      <td>4.0</td>\n      <td>12.1</td>\n      <td>3.6</td>\n      <td>1.2085</td>\n      <td>-16.9989</td>\n      <td>-28.5</td>\n      <td>4.2882</td>\n      <td>3</td>\n      <td>0</td>\n      <td>0.039</td>\n      <td>0.102</td>\n      <td>-1.56</td>\n      <td>-0.17</td>\n      <td>-0.77</td>\n      <td>0.36</td>\n      <td>0.0</td>\n      <td>0.0</td>\n      <td>0.0</td>\n      <td>0.53</td>\n      <td>0</td>\n      <td>0</td>\n      <td>0</td>\n      <td>1</td>\n      <td>Radial Velocity</td>\n      <td>2017.00</td>\n    </tr>\n    <tr>\n      <th>3872</th>\n      <td>YZ Cet d</td>\n      <td>NaN</td>\n      <td>NaN</td>\n      <td>Hot</td>\n      <td>Terran</td>\n      <td>rocky-iron</td>\n      <td>metals-rich</td>\n      <td>non-habitable</td>\n      <td>1.14</td>\n      <td>1.14</td>\n      <td>NaN</td>\n      <td>1.09</td>\n      <td>0.89</td>\n      <td>0.97</td>\n      <td>1.03</td>\n      <td>2.268338</td>\n      <td>2.915344</td>\n      <td>3.810740</td>\n      <td>312.7</td>\n      <td>331.9</td>\n      <td>356.0</td>\n      <td>346.7</td>\n      <td>365.9</td>\n      <td>390.0</td>\n      <td>1.0</td>\n      <td>-18.53</td>\n      <td>2.06</td>\n      <td>4.66</td>\n      <td>0.0276</td>\n      <td>0.13</td>\n      <td>0.03</td>\n      <td>NaN</td>\n      <td>0.0</td>\n      <td>YZ Cet</td>\n      <td>NaN</td>\n      <td>NaN</td>\n      <td>Cet</td>\n      <td>M4.5</td>\n      <td>0.13</td>\n      <td>0.17</td>\n      <td>3056.0</td>\n      <td>0.002209</td>\n      <td>-0.260</td>\n      <td>4.0</td>\n      <td>12.1</td>\n      <td>3.6</td>\n      <td>1.2085</td>\n      <td>-16.9989</td>\n      <td>-27.9</td>\n      <td>3.2669</td>\n      <td>3</td>\n      <td>0</td>\n      <td>0.039</td>\n      <td>0.102</td>\n      <td>-1.34</td>\n      <td>-0.17</td>\n      <td>-0.64</td>\n      <td>0.40</td>\n      <td>0.0</td>\n      <td>0.0</td>\n      <td>0.0</td>\n      <td>0.65</td>\n      <td>0</td>\n      <td>0</td>\n      <td>0</td>\n      <td>1</td>\n      <td>Radial Velocity</td>\n      <td>2017.00</td>\n    </tr>\n  </tbody>\n</table>\n</div>"
     },
     "metadata": {},
     "execution_count": 108
    }
   ],
   "source": [
    "df.tail()"
   ]
  },
  {
   "cell_type": "code",
   "execution_count": 109,
   "metadata": {},
   "outputs": [
    {
     "output_type": "execute_result",
     "data": {
      "text/plain": "(3873, 68)"
     },
     "metadata": {},
     "execution_count": 109
    }
   ],
   "source": [
    "original_shape = df.shape\n",
    "original_shape"
   ]
  },
  {
   "cell_type": "markdown",
   "metadata": {},
   "source": [
    "# Columns"
   ],
   "execution_count": null,
   "outputs": []
  },
  {
   "cell_type": "code",
   "execution_count": 110,
   "metadata": {},
   "outputs": [
    {
     "output_type": "execute_result",
     "data": {
      "text/plain": "          P. Name P. Name Kepler  P. Name KOI P. Zone Class P. Mass Class  \\\n0     1RXS 1609 b            NaN          NaN          Cold        Jovian   \n1  1SWASP J1407 b            NaN          NaN          Cold        Jovian   \n\n  P. Composition Class P. Atmosphere Class P. Habitable Class  \\\n0                  gas       hydrogen-rich      non-habitable   \n1                  gas       hydrogen-rich      non-habitable   \n\n   P. Min Mass (EU)  P. Mass (EU)  P. Max Mass (EU)  P. Radius (EU)  \\\n0               NaN       4451.16               NaN           19.04   \n1            6358.8       6358.80               NaN           10.94   \n\n   P. Density (EU)  P. Gravity (EU)  P. Esc Vel (EU) P. SFlux Min (EU)  \\\n0             0.64            12.28            15.29      4.079750e-06   \n1             4.86            53.12            24.11        0.02166914   \n\n  P. SFlux Mean (EU) P. SFlux Max (EU)  P. Teq Min (K)  P. Teq Mean (K)  \\\n0       4.079751e-06      4.079751e-06            11.4             11.4   \n1         0.02166914        0.02166914            97.7             97.7   \n\n   P. Teq Max (K)  P. Ts Min (K)  P. Ts Mean (K)  P. Ts Max (K)  \\\n0            11.4            NaN             NaN            NaN   \n1            97.7            NaN             NaN            NaN   \n\n   P. Surf Press (EU)  P. Mag  P. Appar Size (deg)  P. Period (days)  \\\n0              2870.4  -10.06                36.81               NaN   \n1             30873.8  -18.21                20.91            3725.0   \n\n   P. Sem Major Axis (AU)  P. Eccentricity  P. Mean Distance (AU)  \\\n0                   330.0              0.0                  330.0   \n1                     3.9              0.0                    3.9   \n\n   P. Inclination (deg)  P. Omega (deg)       S. Name S. Name HD S. Name HIP  \\\n0                   NaN             0.0     1RXS 1609        NaN         NaN   \n1                   NaN             0.0  1SWASP J1407        NaN         NaN   \n\n  S. Constellation S. Type  S. Mass (SU)  S. Radius (SU)  S. Teff (K)  \\\n0              Sco     K7V          0.73            1.35       4060.0   \n1              Cen       K          0.90            0.99       4400.0   \n\n   S. Luminosity (SU)  S. [Fe/H]  S. Age (Gyrs)  S. Appar Mag  \\\n0            0.444285        NaN          0.011           NaN   \n1            0.329588        NaN          0.016          12.4   \n\n   S. Distance (pc)  S. RA (hrs)  S. DEC (deg)  S. Mag from Planet  \\\n0             145.0      16.1583      -21.0828               -13.2   \n1             133.0      14.1300      -39.7619               -22.5   \n\n   S. Size from Planet (deg)  S. No. Planets  S. No. Planets HZ  \\\n0                     0.0022               1                  0   \n1                     0.1353               1                  0   \n\n   S. Hab Zone Min (AU)  S. Hab Zone Max (AU)  P. HZD  P. HZC  P. HZA  P. HZI  \\\n0                 0.540                 1.362  800.07   23.51   85.62    0.00   \n1                 0.461                 1.143    9.07   15.30   45.41    0.02   \n\n   P. SPH  P. Int ESI  P. Surf ESI  P. ESI  S. HabCat  P. Habitable  \\\n0     NaN         0.0          0.0    0.05          0             0   \n1     NaN         0.0          0.0    0.07          0             0   \n\n   P. Hab Moon  P. Confirmed  P. Disc. Method  P. Disc. Year  \n0            0             1          Imaging        2008.00  \n1            0             1  Primary Transit        2012.00  ",
      "text/html": "<div>\n<style scoped>\n    .dataframe tbody tr th:only-of-type {\n        vertical-align: middle;\n    }\n\n    .dataframe tbody tr th {\n        vertical-align: top;\n    }\n\n    .dataframe thead th {\n        text-align: right;\n    }\n</style>\n<table border=\"1\" class=\"dataframe\">\n  <thead>\n    <tr style=\"text-align: right;\">\n      <th></th>\n      <th>P. Name</th>\n      <th>P. Name Kepler</th>\n      <th>P. Name KOI</th>\n      <th>P. Zone Class</th>\n      <th>P. Mass Class</th>\n      <th>P. Composition Class</th>\n      <th>P. Atmosphere Class</th>\n      <th>P. Habitable Class</th>\n      <th>P. Min Mass (EU)</th>\n      <th>P. Mass (EU)</th>\n      <th>P. Max Mass (EU)</th>\n      <th>P. Radius (EU)</th>\n      <th>P. Density (EU)</th>\n      <th>P. Gravity (EU)</th>\n      <th>P. Esc Vel (EU)</th>\n      <th>P. SFlux Min (EU)</th>\n      <th>P. SFlux Mean (EU)</th>\n      <th>P. SFlux Max (EU)</th>\n      <th>P. Teq Min (K)</th>\n      <th>P. Teq Mean (K)</th>\n      <th>P. Teq Max (K)</th>\n      <th>P. Ts Min (K)</th>\n      <th>P. Ts Mean (K)</th>\n      <th>P. Ts Max (K)</th>\n      <th>P. Surf Press (EU)</th>\n      <th>P. Mag</th>\n      <th>P. Appar Size (deg)</th>\n      <th>P. Period (days)</th>\n      <th>P. Sem Major Axis (AU)</th>\n      <th>P. Eccentricity</th>\n      <th>P. Mean Distance (AU)</th>\n      <th>P. Inclination (deg)</th>\n      <th>P. Omega (deg)</th>\n      <th>S. Name</th>\n      <th>S. Name HD</th>\n      <th>S. Name HIP</th>\n      <th>S. Constellation</th>\n      <th>S. Type</th>\n      <th>S. Mass (SU)</th>\n      <th>S. Radius (SU)</th>\n      <th>S. Teff (K)</th>\n      <th>S. Luminosity (SU)</th>\n      <th>S. [Fe/H]</th>\n      <th>S. Age (Gyrs)</th>\n      <th>S. Appar Mag</th>\n      <th>S. Distance (pc)</th>\n      <th>S. RA (hrs)</th>\n      <th>S. DEC (deg)</th>\n      <th>S. Mag from Planet</th>\n      <th>S. Size from Planet (deg)</th>\n      <th>S. No. Planets</th>\n      <th>S. No. Planets HZ</th>\n      <th>S. Hab Zone Min (AU)</th>\n      <th>S. Hab Zone Max (AU)</th>\n      <th>P. HZD</th>\n      <th>P. HZC</th>\n      <th>P. HZA</th>\n      <th>P. HZI</th>\n      <th>P. SPH</th>\n      <th>P. Int ESI</th>\n      <th>P. Surf ESI</th>\n      <th>P. ESI</th>\n      <th>S. HabCat</th>\n      <th>P. Habitable</th>\n      <th>P. Hab Moon</th>\n      <th>P. Confirmed</th>\n      <th>P. Disc. Method</th>\n      <th>P. Disc. Year</th>\n    </tr>\n  </thead>\n  <tbody>\n    <tr>\n      <th>0</th>\n      <td>1RXS 1609 b</td>\n      <td>NaN</td>\n      <td>NaN</td>\n      <td>Cold</td>\n      <td>Jovian</td>\n      <td>gas</td>\n      <td>hydrogen-rich</td>\n      <td>non-habitable</td>\n      <td>NaN</td>\n      <td>4451.16</td>\n      <td>NaN</td>\n      <td>19.04</td>\n      <td>0.64</td>\n      <td>12.28</td>\n      <td>15.29</td>\n      <td>4.079750e-06</td>\n      <td>4.079751e-06</td>\n      <td>4.079751e-06</td>\n      <td>11.4</td>\n      <td>11.4</td>\n      <td>11.4</td>\n      <td>NaN</td>\n      <td>NaN</td>\n      <td>NaN</td>\n      <td>2870.4</td>\n      <td>-10.06</td>\n      <td>36.81</td>\n      <td>NaN</td>\n      <td>330.0</td>\n      <td>0.0</td>\n      <td>330.0</td>\n      <td>NaN</td>\n      <td>0.0</td>\n      <td>1RXS 1609</td>\n      <td>NaN</td>\n      <td>NaN</td>\n      <td>Sco</td>\n      <td>K7V</td>\n      <td>0.73</td>\n      <td>1.35</td>\n      <td>4060.0</td>\n      <td>0.444285</td>\n      <td>NaN</td>\n      <td>0.011</td>\n      <td>NaN</td>\n      <td>145.0</td>\n      <td>16.1583</td>\n      <td>-21.0828</td>\n      <td>-13.2</td>\n      <td>0.0022</td>\n      <td>1</td>\n      <td>0</td>\n      <td>0.540</td>\n      <td>1.362</td>\n      <td>800.07</td>\n      <td>23.51</td>\n      <td>85.62</td>\n      <td>0.00</td>\n      <td>NaN</td>\n      <td>0.0</td>\n      <td>0.0</td>\n      <td>0.05</td>\n      <td>0</td>\n      <td>0</td>\n      <td>0</td>\n      <td>1</td>\n      <td>Imaging</td>\n      <td>2008.00</td>\n    </tr>\n    <tr>\n      <th>1</th>\n      <td>1SWASP J1407 b</td>\n      <td>NaN</td>\n      <td>NaN</td>\n      <td>Cold</td>\n      <td>Jovian</td>\n      <td>gas</td>\n      <td>hydrogen-rich</td>\n      <td>non-habitable</td>\n      <td>6358.8</td>\n      <td>6358.80</td>\n      <td>NaN</td>\n      <td>10.94</td>\n      <td>4.86</td>\n      <td>53.12</td>\n      <td>24.11</td>\n      <td>0.02166914</td>\n      <td>0.02166914</td>\n      <td>0.02166914</td>\n      <td>97.7</td>\n      <td>97.7</td>\n      <td>97.7</td>\n      <td>NaN</td>\n      <td>NaN</td>\n      <td>NaN</td>\n      <td>30873.8</td>\n      <td>-18.21</td>\n      <td>20.91</td>\n      <td>3725.0</td>\n      <td>3.9</td>\n      <td>0.0</td>\n      <td>3.9</td>\n      <td>NaN</td>\n      <td>0.0</td>\n      <td>1SWASP J1407</td>\n      <td>NaN</td>\n      <td>NaN</td>\n      <td>Cen</td>\n      <td>K</td>\n      <td>0.90</td>\n      <td>0.99</td>\n      <td>4400.0</td>\n      <td>0.329588</td>\n      <td>NaN</td>\n      <td>0.016</td>\n      <td>12.4</td>\n      <td>133.0</td>\n      <td>14.1300</td>\n      <td>-39.7619</td>\n      <td>-22.5</td>\n      <td>0.1353</td>\n      <td>1</td>\n      <td>0</td>\n      <td>0.461</td>\n      <td>1.143</td>\n      <td>9.07</td>\n      <td>15.30</td>\n      <td>45.41</td>\n      <td>0.02</td>\n      <td>NaN</td>\n      <td>0.0</td>\n      <td>0.0</td>\n      <td>0.07</td>\n      <td>0</td>\n      <td>0</td>\n      <td>0</td>\n      <td>1</td>\n      <td>Primary Transit</td>\n      <td>2012.00</td>\n    </tr>\n  </tbody>\n</table>\n</div>"
     },
     "metadata": {},
     "execution_count": 110
    }
   ],
   "source": [
    "df.head(2)"
   ]
  },
  {
   "cell_type": "code",
   "execution_count": 111,
   "metadata": {},
   "outputs": [],
   "source": [
    "# Drop columns we don't want\n",
    "to_drop = ['P. Name', 'P. Name Kepler', 'P. Name KOI', 'S. Name', 'S. Name HD', 'S. Name HIP', 'S. Constellation', 'S. Type', 'P. Disc. Method', 'P. Disc. Year']\n",
    "df.drop(to_drop, axis=1, inplace=True)"
   ]
  },
  {
   "cell_type": "code",
   "execution_count": 112,
   "metadata": {},
   "outputs": [],
   "source": [
    "# Dropping columns with pattern in the name\n",
    "to_drop = [col for col in df.columns if ('Min ' in col) | ('Max ' in col)]\n",
    "df.drop(to_drop, axis=1, inplace=True)"
   ]
  },
  {
   "cell_type": "code",
   "execution_count": 113,
   "metadata": {},
   "outputs": [
    {
     "output_type": "execute_result",
     "data": {
      "text/plain": "  P. Zone Class P. Mass Class P. Composition Class P. Atmosphere Class  \\\n0          Cold        Jovian                  gas       hydrogen-rich   \n1          Cold        Jovian                  gas       hydrogen-rich   \n\n  P. Habitable Class  P. Mass (EU)  P. Radius (EU)  P. Density (EU)  \\\n0      non-habitable       4451.16           19.04             0.64   \n1      non-habitable       6358.80           10.94             4.86   \n\n   P. Gravity (EU)  P. Esc Vel (EU) P. SFlux Mean (EU)  P. Teq Mean (K)  \\\n0            12.28            15.29       4.079751e-06             11.4   \n1            53.12            24.11         0.02166914             97.7   \n\n   P. Ts Mean (K)  P. Surf Press (EU)  P. Mag  P. Appar Size (deg)  \\\n0             NaN              2870.4  -10.06                36.81   \n1             NaN             30873.8  -18.21                20.91   \n\n   P. Period (days)  P. Sem Major Axis (AU)  P. Eccentricity  \\\n0               NaN                   330.0              0.0   \n1            3725.0                     3.9              0.0   \n\n   P. Mean Distance (AU)  P. Inclination (deg)  P. Omega (deg)  S. Mass (SU)  \\\n0                  330.0                   NaN             0.0          0.73   \n1                    3.9                   NaN             0.0          0.90   \n\n   S. Radius (SU)  S. Teff (K)  S. Luminosity (SU)  S. [Fe/H]  S. Age (Gyrs)  \\\n0            1.35       4060.0            0.444285        NaN          0.011   \n1            0.99       4400.0            0.329588        NaN          0.016   \n\n   S. Appar Mag  S. Distance (pc)  S. RA (hrs)  S. DEC (deg)  \\\n0           NaN             145.0      16.1583      -21.0828   \n1          12.4             133.0      14.1300      -39.7619   \n\n   S. Mag from Planet  S. Size from Planet (deg)  S. No. Planets  \\\n0               -13.2                     0.0022               1   \n1               -22.5                     0.1353               1   \n\n   S. No. Planets HZ  P. HZD  P. HZC  P. HZA  P. HZI  P. SPH  P. Int ESI  \\\n0                  0  800.07   23.51   85.62    0.00     NaN         0.0   \n1                  0    9.07   15.30   45.41    0.02     NaN         0.0   \n\n   P. Surf ESI  P. ESI  S. HabCat  P. Habitable  P. Hab Moon  P. Confirmed  \n0          0.0    0.05          0             0            0             1  \n1          0.0    0.07          0             0            0             1  ",
      "text/html": "<div>\n<style scoped>\n    .dataframe tbody tr th:only-of-type {\n        vertical-align: middle;\n    }\n\n    .dataframe tbody tr th {\n        vertical-align: top;\n    }\n\n    .dataframe thead th {\n        text-align: right;\n    }\n</style>\n<table border=\"1\" class=\"dataframe\">\n  <thead>\n    <tr style=\"text-align: right;\">\n      <th></th>\n      <th>P. Zone Class</th>\n      <th>P. Mass Class</th>\n      <th>P. Composition Class</th>\n      <th>P. Atmosphere Class</th>\n      <th>P. Habitable Class</th>\n      <th>P. Mass (EU)</th>\n      <th>P. Radius (EU)</th>\n      <th>P. Density (EU)</th>\n      <th>P. Gravity (EU)</th>\n      <th>P. Esc Vel (EU)</th>\n      <th>P. SFlux Mean (EU)</th>\n      <th>P. Teq Mean (K)</th>\n      <th>P. Ts Mean (K)</th>\n      <th>P. Surf Press (EU)</th>\n      <th>P. Mag</th>\n      <th>P. Appar Size (deg)</th>\n      <th>P. Period (days)</th>\n      <th>P. Sem Major Axis (AU)</th>\n      <th>P. Eccentricity</th>\n      <th>P. Mean Distance (AU)</th>\n      <th>P. Inclination (deg)</th>\n      <th>P. Omega (deg)</th>\n      <th>S. Mass (SU)</th>\n      <th>S. Radius (SU)</th>\n      <th>S. Teff (K)</th>\n      <th>S. Luminosity (SU)</th>\n      <th>S. [Fe/H]</th>\n      <th>S. Age (Gyrs)</th>\n      <th>S. Appar Mag</th>\n      <th>S. Distance (pc)</th>\n      <th>S. RA (hrs)</th>\n      <th>S. DEC (deg)</th>\n      <th>S. Mag from Planet</th>\n      <th>S. Size from Planet (deg)</th>\n      <th>S. No. Planets</th>\n      <th>S. No. Planets HZ</th>\n      <th>P. HZD</th>\n      <th>P. HZC</th>\n      <th>P. HZA</th>\n      <th>P. HZI</th>\n      <th>P. SPH</th>\n      <th>P. Int ESI</th>\n      <th>P. Surf ESI</th>\n      <th>P. ESI</th>\n      <th>S. HabCat</th>\n      <th>P. Habitable</th>\n      <th>P. Hab Moon</th>\n      <th>P. Confirmed</th>\n    </tr>\n  </thead>\n  <tbody>\n    <tr>\n      <th>0</th>\n      <td>Cold</td>\n      <td>Jovian</td>\n      <td>gas</td>\n      <td>hydrogen-rich</td>\n      <td>non-habitable</td>\n      <td>4451.16</td>\n      <td>19.04</td>\n      <td>0.64</td>\n      <td>12.28</td>\n      <td>15.29</td>\n      <td>4.079751e-06</td>\n      <td>11.4</td>\n      <td>NaN</td>\n      <td>2870.4</td>\n      <td>-10.06</td>\n      <td>36.81</td>\n      <td>NaN</td>\n      <td>330.0</td>\n      <td>0.0</td>\n      <td>330.0</td>\n      <td>NaN</td>\n      <td>0.0</td>\n      <td>0.73</td>\n      <td>1.35</td>\n      <td>4060.0</td>\n      <td>0.444285</td>\n      <td>NaN</td>\n      <td>0.011</td>\n      <td>NaN</td>\n      <td>145.0</td>\n      <td>16.1583</td>\n      <td>-21.0828</td>\n      <td>-13.2</td>\n      <td>0.0022</td>\n      <td>1</td>\n      <td>0</td>\n      <td>800.07</td>\n      <td>23.51</td>\n      <td>85.62</td>\n      <td>0.00</td>\n      <td>NaN</td>\n      <td>0.0</td>\n      <td>0.0</td>\n      <td>0.05</td>\n      <td>0</td>\n      <td>0</td>\n      <td>0</td>\n      <td>1</td>\n    </tr>\n    <tr>\n      <th>1</th>\n      <td>Cold</td>\n      <td>Jovian</td>\n      <td>gas</td>\n      <td>hydrogen-rich</td>\n      <td>non-habitable</td>\n      <td>6358.80</td>\n      <td>10.94</td>\n      <td>4.86</td>\n      <td>53.12</td>\n      <td>24.11</td>\n      <td>0.02166914</td>\n      <td>97.7</td>\n      <td>NaN</td>\n      <td>30873.8</td>\n      <td>-18.21</td>\n      <td>20.91</td>\n      <td>3725.0</td>\n      <td>3.9</td>\n      <td>0.0</td>\n      <td>3.9</td>\n      <td>NaN</td>\n      <td>0.0</td>\n      <td>0.90</td>\n      <td>0.99</td>\n      <td>4400.0</td>\n      <td>0.329588</td>\n      <td>NaN</td>\n      <td>0.016</td>\n      <td>12.4</td>\n      <td>133.0</td>\n      <td>14.1300</td>\n      <td>-39.7619</td>\n      <td>-22.5</td>\n      <td>0.1353</td>\n      <td>1</td>\n      <td>0</td>\n      <td>9.07</td>\n      <td>15.30</td>\n      <td>45.41</td>\n      <td>0.02</td>\n      <td>NaN</td>\n      <td>0.0</td>\n      <td>0.0</td>\n      <td>0.07</td>\n      <td>0</td>\n      <td>0</td>\n      <td>0</td>\n      <td>1</td>\n    </tr>\n  </tbody>\n</table>\n</div>"
     },
     "metadata": {},
     "execution_count": 113
    }
   ],
   "source": [
    "df.head(2)"
   ]
  },
  {
   "cell_type": "code",
   "execution_count": 114,
   "metadata": {},
   "outputs": [
    {
     "output_type": "execute_result",
     "data": {
      "text/plain": "Index(['p. zone class', 'p. mass class', 'p. composition class',\n       'p. atmosphere class', 'p. habitable class', 'p. mass (eu)',\n       'p. radius (eu)', 'p. density (eu)', 'p. gravity (eu)',\n       'p. esc vel (eu)', 'p. sflux mean (eu)', 'p. teq mean (k)',\n       'p. ts mean (k)', 'p. surf press (eu)', 'p. mag', 'p. appar size (deg)',\n       'p. period (days)', 'p. sem major axis (au)', 'p. eccentricity',\n       'p. mean distance (au)', 'p. inclination (deg)', 'p. omega (deg)',\n       's. mass (su)', 's. radius (su)', 's. teff (k)', 's. luminosity (su)',\n       's. [fe/h]', 's. age (gyrs)', 's. appar mag', 's. distance (pc)',\n       's. ra (hrs)', 's. dec (deg)', 's. mag from planet',\n       's. size from planet (deg)', 's. no. planets', 's. no. planets hz',\n       'p. hzd', 'p. hzc', 'p. hza', 'p. hzi', 'p. sph', 'p. int esi',\n       'p. surf esi', 'p. esi', 's. habcat', 'p. habitable', 'p. hab moon',\n       'p. confirmed'],\n      dtype='object')"
     },
     "metadata": {},
     "execution_count": 114
    }
   ],
   "source": [
    "# Cleaning column names\n",
    "df.columns = [x.lower().strip() for x in df.columns]\n",
    "\n",
    "# Checking if there's columns we don't want\n",
    "df.columns"
   ]
  },
  {
   "cell_type": "code",
   "execution_count": 115,
   "metadata": {},
   "outputs": [
    {
     "output_type": "execute_result",
     "data": {
      "text/plain": "Index(['p_zone_class', 'p_mass_class', 'p_composition_class',\n       'p_atmosphere_class', 'p_habitable_class', 'p_mass_(eu)',\n       'p_radius_(eu)', 'p_density_(eu)', 'p_gravity_(eu)', 'p_esc_vel_(eu)',\n       'p_sflux_mean_(eu)', 'p_teq_mean_(k)', 'p_ts_mean_(k)',\n       'p_surf_press_(eu)', 'p_mag', 'p_appar_size_(deg)', 'p_period_(days)',\n       'p_sem_major_axis_(au)', 'p_eccentricity', 'p_mean_distance_(au)',\n       'p_inclination_(deg)', 'p_omega_(deg)', 's_mass_(su)', 's_radius_(su)',\n       's_teff_(k)', 's_luminosity_(su)', 's_[fe/h]', 's_age_(gyrs)',\n       's_appar_mag', 's_distance_(pc)', 's_ra_(hrs)', 's_dec_(deg)',\n       's_mag_from_planet', 's_size_from_planet_(deg)', 's_no_planets',\n       's_no_planets_hz', 'p_hzd', 'p_hzc', 'p_hza', 'p_hzi', 'p_sph',\n       'p_int_esi', 'p_surf_esi', 'p_esi', 's_habcat', 'p_habitable',\n       'p_hab_moon', 'p_confirmed'],\n      dtype='object')"
     },
     "metadata": {},
     "execution_count": 115
    }
   ],
   "source": [
    "# Replacing patterns\n",
    "df.columns = df.columns.str.replace(' ', '_').str.replace('.','').str.replace('p. ', 'p_').str.replace('s. ', 's_')\n",
    "df.columns"
   ]
  },
  {
   "cell_type": "code",
   "execution_count": 116,
   "metadata": {},
   "outputs": [
    {
     "output_type": "stream",
     "name": "stdout",
     "text": "Original shape: (3873, 68)\nNew shape:      (3873, 48)\n"
    }
   ],
   "source": [
    "print(f'Original shape: {original_shape}')\n",
    "print(f'New shape:      {df.shape}')"
   ]
  },
  {
   "cell_type": "markdown",
   "metadata": {},
   "source": [
    "# Nans"
   ],
   "execution_count": null,
   "outputs": []
  },
  {
   "cell_type": "code",
   "execution_count": 117,
   "metadata": {},
   "outputs": [],
   "source": [
    "# Dropping columns where all values are Nan\n",
    "df.dropna(axis=1, how='all', inplace=True)"
   ]
  },
  {
   "cell_type": "code",
   "execution_count": 118,
   "metadata": {},
   "outputs": [
    {
     "output_type": "stream",
     "name": "stdout",
     "text": "Original shape: (3873, 68)\nNew shape:      (3873, 48)\n"
    }
   ],
   "source": [
    "print(f'Original shape: {original_shape}')\n",
    "print(f'New shape:      {df.shape}')"
   ]
  },
  {
   "cell_type": "code",
   "execution_count": 119,
   "metadata": {},
   "outputs": [],
   "source": [
    "# plt.figure(figsize=(10,7))\n",
    "# sns.heatmap(df.isnull(), cbar=False, cmap='viridis');"
   ]
  },
  {
   "cell_type": "code",
   "execution_count": 120,
   "metadata": {},
   "outputs": [
    {
     "output_type": "execute_result",
     "data": {
      "text/plain": "                                  0\np_inclination_(deg)       81.358120\np_ts_mean_(k)             54.867028\np_sph                     53.524400\ns_[fe/h]                  44.874774\ns_age_(gyrs)              40.046476\ns_distance_(pc)           30.648076\ns_appar_mag               23.986574\np_period_(days)            3.872967\ns_size_from_planet_(deg)   3.304932\ns_radius_(su)              2.891815\ns_teff_(k)                 2.556158\np_hzi                      2.194681\np_atmosphere_class         2.194681\np_hza                      2.194681\np_mag                      1.445908\np_esi                      1.239349\ns_mass_(su)                1.213530\np_teq_mean_(k)             1.187710\np_zone_class               1.187710\ns_mag_from_planet          1.187710\np_hzd                      1.187710\np_gravity_(eu)             1.058611\np_esc_vel_(eu)             1.058611\np_density_(eu)             1.058611\np_surf_press_(eu)          1.058611\np_composition_class        1.058611\np_hzc                      1.058611\np_sem_major_axis_(au)      0.903692\np_mean_distance_(au)       0.903692\np_mass_(eu)                0.852053\ns_luminosity_(su)          0.722954\np_appar_size_(deg)         0.309837\np_radius_(eu)              0.309837\np_mass_class               0.154919",
      "text/html": "<div>\n<style scoped>\n    .dataframe tbody tr th:only-of-type {\n        vertical-align: middle;\n    }\n\n    .dataframe tbody tr th {\n        vertical-align: top;\n    }\n\n    .dataframe thead th {\n        text-align: right;\n    }\n</style>\n<table border=\"1\" class=\"dataframe\">\n  <thead>\n    <tr style=\"text-align: right;\">\n      <th></th>\n      <th>0</th>\n    </tr>\n  </thead>\n  <tbody>\n    <tr>\n      <th>p_inclination_(deg)</th>\n      <td>81.358120</td>\n    </tr>\n    <tr>\n      <th>p_ts_mean_(k)</th>\n      <td>54.867028</td>\n    </tr>\n    <tr>\n      <th>p_sph</th>\n      <td>53.524400</td>\n    </tr>\n    <tr>\n      <th>s_[fe/h]</th>\n      <td>44.874774</td>\n    </tr>\n    <tr>\n      <th>s_age_(gyrs)</th>\n      <td>40.046476</td>\n    </tr>\n    <tr>\n      <th>s_distance_(pc)</th>\n      <td>30.648076</td>\n    </tr>\n    <tr>\n      <th>s_appar_mag</th>\n      <td>23.986574</td>\n    </tr>\n    <tr>\n      <th>p_period_(days)</th>\n      <td>3.872967</td>\n    </tr>\n    <tr>\n      <th>s_size_from_planet_(deg)</th>\n      <td>3.304932</td>\n    </tr>\n    <tr>\n      <th>s_radius_(su)</th>\n      <td>2.891815</td>\n    </tr>\n    <tr>\n      <th>s_teff_(k)</th>\n      <td>2.556158</td>\n    </tr>\n    <tr>\n      <th>p_hzi</th>\n      <td>2.194681</td>\n    </tr>\n    <tr>\n      <th>p_atmosphere_class</th>\n      <td>2.194681</td>\n    </tr>\n    <tr>\n      <th>p_hza</th>\n      <td>2.194681</td>\n    </tr>\n    <tr>\n      <th>p_mag</th>\n      <td>1.445908</td>\n    </tr>\n    <tr>\n      <th>p_esi</th>\n      <td>1.239349</td>\n    </tr>\n    <tr>\n      <th>s_mass_(su)</th>\n      <td>1.213530</td>\n    </tr>\n    <tr>\n      <th>p_teq_mean_(k)</th>\n      <td>1.187710</td>\n    </tr>\n    <tr>\n      <th>p_zone_class</th>\n      <td>1.187710</td>\n    </tr>\n    <tr>\n      <th>s_mag_from_planet</th>\n      <td>1.187710</td>\n    </tr>\n    <tr>\n      <th>p_hzd</th>\n      <td>1.187710</td>\n    </tr>\n    <tr>\n      <th>p_gravity_(eu)</th>\n      <td>1.058611</td>\n    </tr>\n    <tr>\n      <th>p_esc_vel_(eu)</th>\n      <td>1.058611</td>\n    </tr>\n    <tr>\n      <th>p_density_(eu)</th>\n      <td>1.058611</td>\n    </tr>\n    <tr>\n      <th>p_surf_press_(eu)</th>\n      <td>1.058611</td>\n    </tr>\n    <tr>\n      <th>p_composition_class</th>\n      <td>1.058611</td>\n    </tr>\n    <tr>\n      <th>p_hzc</th>\n      <td>1.058611</td>\n    </tr>\n    <tr>\n      <th>p_sem_major_axis_(au)</th>\n      <td>0.903692</td>\n    </tr>\n    <tr>\n      <th>p_mean_distance_(au)</th>\n      <td>0.903692</td>\n    </tr>\n    <tr>\n      <th>p_mass_(eu)</th>\n      <td>0.852053</td>\n    </tr>\n    <tr>\n      <th>s_luminosity_(su)</th>\n      <td>0.722954</td>\n    </tr>\n    <tr>\n      <th>p_appar_size_(deg)</th>\n      <td>0.309837</td>\n    </tr>\n    <tr>\n      <th>p_radius_(eu)</th>\n      <td>0.309837</td>\n    </tr>\n    <tr>\n      <th>p_mass_class</th>\n      <td>0.154919</td>\n    </tr>\n  </tbody>\n</table>\n</div>"
     },
     "metadata": {},
     "execution_count": 120
    }
   ],
   "source": [
    "# Percentage of NaN values per column\n",
    "nan_values = pd.DataFrame(((df.isnull().sum()) / df.shape[0]*100).sort_values(ascending=False))\n",
    "nan_values[nan_values[0] > 0]"
   ]
  },
  {
   "cell_type": "code",
   "execution_count": 121,
   "metadata": {},
   "outputs": [],
   "source": [
    "# Dropping columns with Nans over X %\n",
    "df = df.loc[:, df.isnull().sum() < 0.05 * df.shape[0]]"
   ]
  },
  {
   "cell_type": "code",
   "execution_count": 122,
   "metadata": {},
   "outputs": [],
   "source": [
    "# from pandas_profiling import ProfileReport\n",
    "# profile.to_widgets()\n",
    "# profile.to_notebook_iframe()"
   ]
  },
  {
   "cell_type": "markdown",
   "metadata": {},
   "source": [
    "## Renaming"
   ],
   "execution_count": null,
   "outputs": []
  },
  {
   "cell_type": "code",
   "execution_count": 123,
   "metadata": {},
   "outputs": [],
   "source": [
    "# df.columns"
   ]
  },
  {
   "cell_type": "code",
   "execution_count": 124,
   "metadata": {},
   "outputs": [],
   "source": [
    "# kepler.rename(columns={'ra': 'right_ascension', 'dec': 'declination', 'koi_period': 'orb_period',\n",
    "#                       'pdisposition':'pre_disposition', 'prad':'planet_radius', 'teq':'planet_temp',\n",
    "#                       'insol':'insolation_flux', 'srad':'star_radius', 'steff':'star_temp', 'slogg':'star_grav'}, inplace=True)"
   ]
  },
  {
   "cell_type": "markdown",
   "metadata": {},
   "source": [
    "## Types"
   ],
   "execution_count": null,
   "outputs": []
  },
  {
   "cell_type": "code",
   "execution_count": 125,
   "metadata": {},
   "outputs": [
    {
     "output_type": "execute_result",
     "data": {
      "text/plain": "     p_zone_class p_mass_class p_composition_class p_atmosphere_class  \\\n3868          Hot       Jovian                 gas        metals-rich   \n3869          Hot       Jovian                 gas        metals-rich   \n3870          Hot       Terran          rocky-iron        metals-rich   \n3871          Hot       Terran          rocky-iron        metals-rich   \n3872          Hot       Terran          rocky-iron        metals-rich   \n\n     p_habitable_class  p_mass_(eu)  p_radius_(eu)  p_density_(eu)  \\\n3868     non-habitable       108.10           7.97            0.21   \n3869     non-habitable       127.18           8.34            0.22   \n3870     non-habitable         0.76           0.96            0.86   \n3871     non-habitable         0.99           1.04            0.88   \n3872     non-habitable         1.14           1.09            0.89   \n\n      p_gravity_(eu)  p_esc_vel_(eu) p_sflux_mean_(eu)  p_teq_mean_(k)  \\\n3868            1.70            3.68          197.4886           944.5   \n3869            1.83            3.91          252.3098           984.8   \n3870            0.83            0.89          9.110548           442.6   \n3871            0.91            0.97          5.060307           382.0   \n3872            0.97            1.03          2.915344           331.9   \n\n      p_surf_press_(eu)  p_mag  p_appar_size_(deg)  p_period_(days)  \\\n3868               23.1 -27.50               15.19             6.96   \n3869               27.9 -27.92               15.90             5.12   \n3870                0.7 -19.50                1.83             1.97   \n3871                0.9 -19.03                1.97             3.06   \n3872                1.0 -18.53                2.06             4.66   \n\n      p_sem_major_axis_(au)  p_eccentricity  p_mean_distance_(au)  \\\n3868                 0.0715            0.24                  0.07   \n3869                 0.0573            0.39                  0.05   \n3870                 0.0156            0.00                  0.02   \n3871                 0.0209            0.04                  0.02   \n3872                 0.0276            0.13                  0.03   \n\n      p_omega_(deg)  s_mass_(su)  s_radius_(su)  s_teff_(k)  \\\n3868           98.6         1.01           0.99      5780.0   \n3869          327.5         0.96           0.89      5725.0   \n3870            0.0         0.13           0.17      3056.0   \n3871            0.0         0.13           0.17      3056.0   \n3872            0.0         0.13           0.17      3056.0   \n\n      s_luminosity_(su)  s_ra_(hrs)  s_dec_(deg)  s_mag_from_planet  \\\n3868           0.981458      8.8503      11.8147              -32.5   \n3869           0.763435      8.8503      11.8867              -32.9   \n3870           0.002209      1.2085     -16.9989              -29.1   \n3871           0.002209      1.2085     -16.9989              -28.5   \n3872           0.002209      1.2085     -16.9989              -27.9   \n\n      s_size_from_planet_(deg)  s_no_planets  s_no_planets_hz  p_hzd  p_hzc  \\\n3868                    7.6013             1                0  -2.33   5.02   \n3869                    8.9947             1                0  -2.34   5.23   \n3870                    5.7526             3                0  -1.72  -0.17   \n3871                    4.2882             3                0  -1.56  -0.17   \n3872                    3.2669             3                0  -1.34  -0.17   \n\n      p_hza  p_hzi  p_int_esi  p_surf_esi  p_esi  s_habcat  p_habitable  \\\n3868   0.57   0.15        0.0         0.0   0.16         0            0   \n3869   0.62   0.15        0.0         0.0   0.15         0            0   \n3870  -0.91   0.34        0.0         0.0   0.43         0            0   \n3871  -0.77   0.36        0.0         0.0   0.53         0            0   \n3872  -0.64   0.40        0.0         0.0   0.65         0            0   \n\n      p_hab_moon  p_confirmed  \n3868           0            1  \n3869           0            1  \n3870           0            1  \n3871           0            1  \n3872           0            1  ",
      "text/html": "<div>\n<style scoped>\n    .dataframe tbody tr th:only-of-type {\n        vertical-align: middle;\n    }\n\n    .dataframe tbody tr th {\n        vertical-align: top;\n    }\n\n    .dataframe thead th {\n        text-align: right;\n    }\n</style>\n<table border=\"1\" class=\"dataframe\">\n  <thead>\n    <tr style=\"text-align: right;\">\n      <th></th>\n      <th>p_zone_class</th>\n      <th>p_mass_class</th>\n      <th>p_composition_class</th>\n      <th>p_atmosphere_class</th>\n      <th>p_habitable_class</th>\n      <th>p_mass_(eu)</th>\n      <th>p_radius_(eu)</th>\n      <th>p_density_(eu)</th>\n      <th>p_gravity_(eu)</th>\n      <th>p_esc_vel_(eu)</th>\n      <th>p_sflux_mean_(eu)</th>\n      <th>p_teq_mean_(k)</th>\n      <th>p_surf_press_(eu)</th>\n      <th>p_mag</th>\n      <th>p_appar_size_(deg)</th>\n      <th>p_period_(days)</th>\n      <th>p_sem_major_axis_(au)</th>\n      <th>p_eccentricity</th>\n      <th>p_mean_distance_(au)</th>\n      <th>p_omega_(deg)</th>\n      <th>s_mass_(su)</th>\n      <th>s_radius_(su)</th>\n      <th>s_teff_(k)</th>\n      <th>s_luminosity_(su)</th>\n      <th>s_ra_(hrs)</th>\n      <th>s_dec_(deg)</th>\n      <th>s_mag_from_planet</th>\n      <th>s_size_from_planet_(deg)</th>\n      <th>s_no_planets</th>\n      <th>s_no_planets_hz</th>\n      <th>p_hzd</th>\n      <th>p_hzc</th>\n      <th>p_hza</th>\n      <th>p_hzi</th>\n      <th>p_int_esi</th>\n      <th>p_surf_esi</th>\n      <th>p_esi</th>\n      <th>s_habcat</th>\n      <th>p_habitable</th>\n      <th>p_hab_moon</th>\n      <th>p_confirmed</th>\n    </tr>\n  </thead>\n  <tbody>\n    <tr>\n      <th>3868</th>\n      <td>Hot</td>\n      <td>Jovian</td>\n      <td>gas</td>\n      <td>metals-rich</td>\n      <td>non-habitable</td>\n      <td>108.10</td>\n      <td>7.97</td>\n      <td>0.21</td>\n      <td>1.70</td>\n      <td>3.68</td>\n      <td>197.4886</td>\n      <td>944.5</td>\n      <td>23.1</td>\n      <td>-27.50</td>\n      <td>15.19</td>\n      <td>6.96</td>\n      <td>0.0715</td>\n      <td>0.24</td>\n      <td>0.07</td>\n      <td>98.6</td>\n      <td>1.01</td>\n      <td>0.99</td>\n      <td>5780.0</td>\n      <td>0.981458</td>\n      <td>8.8503</td>\n      <td>11.8147</td>\n      <td>-32.5</td>\n      <td>7.6013</td>\n      <td>1</td>\n      <td>0</td>\n      <td>-2.33</td>\n      <td>5.02</td>\n      <td>0.57</td>\n      <td>0.15</td>\n      <td>0.0</td>\n      <td>0.0</td>\n      <td>0.16</td>\n      <td>0</td>\n      <td>0</td>\n      <td>0</td>\n      <td>1</td>\n    </tr>\n    <tr>\n      <th>3869</th>\n      <td>Hot</td>\n      <td>Jovian</td>\n      <td>gas</td>\n      <td>metals-rich</td>\n      <td>non-habitable</td>\n      <td>127.18</td>\n      <td>8.34</td>\n      <td>0.22</td>\n      <td>1.83</td>\n      <td>3.91</td>\n      <td>252.3098</td>\n      <td>984.8</td>\n      <td>27.9</td>\n      <td>-27.92</td>\n      <td>15.90</td>\n      <td>5.12</td>\n      <td>0.0573</td>\n      <td>0.39</td>\n      <td>0.05</td>\n      <td>327.5</td>\n      <td>0.96</td>\n      <td>0.89</td>\n      <td>5725.0</td>\n      <td>0.763435</td>\n      <td>8.8503</td>\n      <td>11.8867</td>\n      <td>-32.9</td>\n      <td>8.9947</td>\n      <td>1</td>\n      <td>0</td>\n      <td>-2.34</td>\n      <td>5.23</td>\n      <td>0.62</td>\n      <td>0.15</td>\n      <td>0.0</td>\n      <td>0.0</td>\n      <td>0.15</td>\n      <td>0</td>\n      <td>0</td>\n      <td>0</td>\n      <td>1</td>\n    </tr>\n    <tr>\n      <th>3870</th>\n      <td>Hot</td>\n      <td>Terran</td>\n      <td>rocky-iron</td>\n      <td>metals-rich</td>\n      <td>non-habitable</td>\n      <td>0.76</td>\n      <td>0.96</td>\n      <td>0.86</td>\n      <td>0.83</td>\n      <td>0.89</td>\n      <td>9.110548</td>\n      <td>442.6</td>\n      <td>0.7</td>\n      <td>-19.50</td>\n      <td>1.83</td>\n      <td>1.97</td>\n      <td>0.0156</td>\n      <td>0.00</td>\n      <td>0.02</td>\n      <td>0.0</td>\n      <td>0.13</td>\n      <td>0.17</td>\n      <td>3056.0</td>\n      <td>0.002209</td>\n      <td>1.2085</td>\n      <td>-16.9989</td>\n      <td>-29.1</td>\n      <td>5.7526</td>\n      <td>3</td>\n      <td>0</td>\n      <td>-1.72</td>\n      <td>-0.17</td>\n      <td>-0.91</td>\n      <td>0.34</td>\n      <td>0.0</td>\n      <td>0.0</td>\n      <td>0.43</td>\n      <td>0</td>\n      <td>0</td>\n      <td>0</td>\n      <td>1</td>\n    </tr>\n    <tr>\n      <th>3871</th>\n      <td>Hot</td>\n      <td>Terran</td>\n      <td>rocky-iron</td>\n      <td>metals-rich</td>\n      <td>non-habitable</td>\n      <td>0.99</td>\n      <td>1.04</td>\n      <td>0.88</td>\n      <td>0.91</td>\n      <td>0.97</td>\n      <td>5.060307</td>\n      <td>382.0</td>\n      <td>0.9</td>\n      <td>-19.03</td>\n      <td>1.97</td>\n      <td>3.06</td>\n      <td>0.0209</td>\n      <td>0.04</td>\n      <td>0.02</td>\n      <td>0.0</td>\n      <td>0.13</td>\n      <td>0.17</td>\n      <td>3056.0</td>\n      <td>0.002209</td>\n      <td>1.2085</td>\n      <td>-16.9989</td>\n      <td>-28.5</td>\n      <td>4.2882</td>\n      <td>3</td>\n      <td>0</td>\n      <td>-1.56</td>\n      <td>-0.17</td>\n      <td>-0.77</td>\n      <td>0.36</td>\n      <td>0.0</td>\n      <td>0.0</td>\n      <td>0.53</td>\n      <td>0</td>\n      <td>0</td>\n      <td>0</td>\n      <td>1</td>\n    </tr>\n    <tr>\n      <th>3872</th>\n      <td>Hot</td>\n      <td>Terran</td>\n      <td>rocky-iron</td>\n      <td>metals-rich</td>\n      <td>non-habitable</td>\n      <td>1.14</td>\n      <td>1.09</td>\n      <td>0.89</td>\n      <td>0.97</td>\n      <td>1.03</td>\n      <td>2.915344</td>\n      <td>331.9</td>\n      <td>1.0</td>\n      <td>-18.53</td>\n      <td>2.06</td>\n      <td>4.66</td>\n      <td>0.0276</td>\n      <td>0.13</td>\n      <td>0.03</td>\n      <td>0.0</td>\n      <td>0.13</td>\n      <td>0.17</td>\n      <td>3056.0</td>\n      <td>0.002209</td>\n      <td>1.2085</td>\n      <td>-16.9989</td>\n      <td>-27.9</td>\n      <td>3.2669</td>\n      <td>3</td>\n      <td>0</td>\n      <td>-1.34</td>\n      <td>-0.17</td>\n      <td>-0.64</td>\n      <td>0.40</td>\n      <td>0.0</td>\n      <td>0.0</td>\n      <td>0.65</td>\n      <td>0</td>\n      <td>0</td>\n      <td>0</td>\n      <td>1</td>\n    </tr>\n  </tbody>\n</table>\n</div>"
     },
     "metadata": {},
     "execution_count": 125
    }
   ],
   "source": [
    "df.tail()"
   ]
  },
  {
   "cell_type": "code",
   "execution_count": 126,
   "metadata": {},
   "outputs": [
    {
     "output_type": "stream",
     "name": "stdout",
     "text": "<class 'pandas.core.frame.DataFrame'>\nRangeIndex: 3873 entries, 0 to 3872\nData columns (total 41 columns):\np_zone_class                3827 non-null object\np_mass_class                3867 non-null object\np_composition_class         3832 non-null object\np_atmosphere_class          3788 non-null object\np_habitable_class           3873 non-null object\np_mass_(eu)                 3840 non-null float64\np_radius_(eu)               3861 non-null float64\np_density_(eu)              3832 non-null float64\np_gravity_(eu)              3832 non-null float64\np_esc_vel_(eu)              3832 non-null float64\np_sflux_mean_(eu)           3873 non-null object\np_teq_mean_(k)              3827 non-null float64\np_surf_press_(eu)           3832 non-null float64\np_mag                       3817 non-null float64\np_appar_size_(deg)          3861 non-null float64\np_period_(days)             3723 non-null float64\np_sem_major_axis_(au)       3838 non-null float64\np_eccentricity              3873 non-null float64\np_mean_distance_(au)        3838 non-null float64\np_omega_(deg)               3873 non-null float64\ns_mass_(su)                 3826 non-null float64\ns_radius_(su)               3761 non-null float64\ns_teff_(k)                  3774 non-null float64\ns_luminosity_(su)           3845 non-null float64\ns_ra_(hrs)                  3873 non-null float64\ns_dec_(deg)                 3873 non-null float64\ns_mag_from_planet           3827 non-null float64\ns_size_from_planet_(deg)    3745 non-null float64\ns_no_planets                3873 non-null int64\ns_no_planets_hz             3873 non-null int64\np_hzd                       3827 non-null float64\np_hzc                       3832 non-null float64\np_hza                       3788 non-null float64\np_hzi                       3788 non-null float64\np_int_esi                   3873 non-null float64\np_surf_esi                  3873 non-null float64\np_esi                       3825 non-null float64\ns_habcat                    3873 non-null int64\np_habitable                 3873 non-null int64\np_hab_moon                  3873 non-null int64\np_confirmed                 3873 non-null int64\ndtypes: float64(29), int64(6), object(6)\nmemory usage: 1.2+ MB\n"
    }
   ],
   "source": [
    "df.info()"
   ]
  },
  {
   "cell_type": "markdown",
   "metadata": {},
   "source": [
    "## Numerical data"
   ],
   "execution_count": null,
   "outputs": []
  },
  {
   "cell_type": "code",
   "execution_count": 127,
   "metadata": {},
   "outputs": [
    {
     "output_type": "execute_result",
     "data": {
      "text/plain": "   p_mass_(eu)  p_radius_(eu)  p_density_(eu)  p_gravity_(eu)  p_esc_vel_(eu)  \\\n0      4451.16          19.04            0.64           12.28           15.29   \n1      6358.80          10.94            4.86           53.12           24.11   \n2      4133.22          11.40            2.79           31.79           19.04   \n3      6358.80          11.20            4.53           50.69           23.83   \n4      4419.37          16.13            1.05           16.99           16.55   \n\n   p_teq_mean_(k)  p_surf_press_(eu)  p_mag  p_appar_size_(deg)  \\\n0            11.4             2870.4 -10.06               36.81   \n1            97.7            30873.8 -18.21               20.91   \n2            11.4            11520.8  -8.91               21.80   \n3            14.4            28780.4  -9.92               21.41   \n4             5.6             4655.6  -6.60               31.03   \n\n   p_period_(days)  p_sem_major_axis_(au)  p_eccentricity  \\\n0              NaN                  330.0             0.0   \n1           3725.0                    3.9             0.0   \n2              NaN                   84.0             0.0   \n3              NaN                   52.0             0.0   \n4              NaN                  156.0             0.0   \n\n   p_mean_distance_(au)  p_omega_(deg)  s_mass_(su)  s_radius_(su)  \\\n0                 330.0            0.0         0.73           1.35   \n1                   3.9            0.0         0.90           0.99   \n2                  84.0            0.0         0.40           0.38   \n3                  52.0            0.0         0.40           0.38   \n4                 156.0            0.0         0.11           0.27   \n\n   s_teff_(k)  s_luminosity_(su)  s_ra_(hrs)  s_dec_(deg)  s_mag_from_planet  \\\n0      4060.0           0.444285     16.1583     -21.0828              -13.2   \n1      4400.0           0.329588     14.1300     -39.7619              -22.5   \n2      3840.0           0.027955      1.0600     -55.2656              -13.2   \n3      3840.0           0.027955      1.3808     -24.6142              -14.2   \n4      3064.0           0.005765      2.3228     -39.4231              -10.1   \n\n   s_size_from_planet_(deg)  s_no_planets  s_no_planets_hz    p_hzd  p_hzc  \\\n0                    0.0022             1                0   800.07  23.51   \n1                    0.1353             1                0     9.07  15.30   \n2                    0.0024             1                0   793.67  12.57   \n3                    0.0039             1                0   490.45  15.72   \n4                    0.0009             1                0  3028.82  19.46   \n\n    p_hza  p_hzi  p_int_esi  p_surf_esi  p_esi  s_habcat  p_habitable  \\\n0   85.62   0.00        0.0         0.0   0.05         0            0   \n1   45.41   0.02        0.0         0.0   0.07         0            0   \n2  107.44   0.00        0.0         0.0   0.06         0            0   \n3  119.46   0.00        0.0         0.0   0.08         0            0   \n4  133.25   0.00        0.0         0.0   0.06         0            0   \n\n   p_hab_moon  p_confirmed  \n0           0            1  \n1           0            1  \n2           0            1  \n3           0            1  \n4           0            1  ",
      "text/html": "<div>\n<style scoped>\n    .dataframe tbody tr th:only-of-type {\n        vertical-align: middle;\n    }\n\n    .dataframe tbody tr th {\n        vertical-align: top;\n    }\n\n    .dataframe thead th {\n        text-align: right;\n    }\n</style>\n<table border=\"1\" class=\"dataframe\">\n  <thead>\n    <tr style=\"text-align: right;\">\n      <th></th>\n      <th>p_mass_(eu)</th>\n      <th>p_radius_(eu)</th>\n      <th>p_density_(eu)</th>\n      <th>p_gravity_(eu)</th>\n      <th>p_esc_vel_(eu)</th>\n      <th>p_teq_mean_(k)</th>\n      <th>p_surf_press_(eu)</th>\n      <th>p_mag</th>\n      <th>p_appar_size_(deg)</th>\n      <th>p_period_(days)</th>\n      <th>p_sem_major_axis_(au)</th>\n      <th>p_eccentricity</th>\n      <th>p_mean_distance_(au)</th>\n      <th>p_omega_(deg)</th>\n      <th>s_mass_(su)</th>\n      <th>s_radius_(su)</th>\n      <th>s_teff_(k)</th>\n      <th>s_luminosity_(su)</th>\n      <th>s_ra_(hrs)</th>\n      <th>s_dec_(deg)</th>\n      <th>s_mag_from_planet</th>\n      <th>s_size_from_planet_(deg)</th>\n      <th>s_no_planets</th>\n      <th>s_no_planets_hz</th>\n      <th>p_hzd</th>\n      <th>p_hzc</th>\n      <th>p_hza</th>\n      <th>p_hzi</th>\n      <th>p_int_esi</th>\n      <th>p_surf_esi</th>\n      <th>p_esi</th>\n      <th>s_habcat</th>\n      <th>p_habitable</th>\n      <th>p_hab_moon</th>\n      <th>p_confirmed</th>\n    </tr>\n  </thead>\n  <tbody>\n    <tr>\n      <th>0</th>\n      <td>4451.16</td>\n      <td>19.04</td>\n      <td>0.64</td>\n      <td>12.28</td>\n      <td>15.29</td>\n      <td>11.4</td>\n      <td>2870.4</td>\n      <td>-10.06</td>\n      <td>36.81</td>\n      <td>NaN</td>\n      <td>330.0</td>\n      <td>0.0</td>\n      <td>330.0</td>\n      <td>0.0</td>\n      <td>0.73</td>\n      <td>1.35</td>\n      <td>4060.0</td>\n      <td>0.444285</td>\n      <td>16.1583</td>\n      <td>-21.0828</td>\n      <td>-13.2</td>\n      <td>0.0022</td>\n      <td>1</td>\n      <td>0</td>\n      <td>800.07</td>\n      <td>23.51</td>\n      <td>85.62</td>\n      <td>0.00</td>\n      <td>0.0</td>\n      <td>0.0</td>\n      <td>0.05</td>\n      <td>0</td>\n      <td>0</td>\n      <td>0</td>\n      <td>1</td>\n    </tr>\n    <tr>\n      <th>1</th>\n      <td>6358.80</td>\n      <td>10.94</td>\n      <td>4.86</td>\n      <td>53.12</td>\n      <td>24.11</td>\n      <td>97.7</td>\n      <td>30873.8</td>\n      <td>-18.21</td>\n      <td>20.91</td>\n      <td>3725.0</td>\n      <td>3.9</td>\n      <td>0.0</td>\n      <td>3.9</td>\n      <td>0.0</td>\n      <td>0.90</td>\n      <td>0.99</td>\n      <td>4400.0</td>\n      <td>0.329588</td>\n      <td>14.1300</td>\n      <td>-39.7619</td>\n      <td>-22.5</td>\n      <td>0.1353</td>\n      <td>1</td>\n      <td>0</td>\n      <td>9.07</td>\n      <td>15.30</td>\n      <td>45.41</td>\n      <td>0.02</td>\n      <td>0.0</td>\n      <td>0.0</td>\n      <td>0.07</td>\n      <td>0</td>\n      <td>0</td>\n      <td>0</td>\n      <td>1</td>\n    </tr>\n    <tr>\n      <th>2</th>\n      <td>4133.22</td>\n      <td>11.40</td>\n      <td>2.79</td>\n      <td>31.79</td>\n      <td>19.04</td>\n      <td>11.4</td>\n      <td>11520.8</td>\n      <td>-8.91</td>\n      <td>21.80</td>\n      <td>NaN</td>\n      <td>84.0</td>\n      <td>0.0</td>\n      <td>84.0</td>\n      <td>0.0</td>\n      <td>0.40</td>\n      <td>0.38</td>\n      <td>3840.0</td>\n      <td>0.027955</td>\n      <td>1.0600</td>\n      <td>-55.2656</td>\n      <td>-13.2</td>\n      <td>0.0024</td>\n      <td>1</td>\n      <td>0</td>\n      <td>793.67</td>\n      <td>12.57</td>\n      <td>107.44</td>\n      <td>0.00</td>\n      <td>0.0</td>\n      <td>0.0</td>\n      <td>0.06</td>\n      <td>0</td>\n      <td>0</td>\n      <td>0</td>\n      <td>1</td>\n    </tr>\n    <tr>\n      <th>3</th>\n      <td>6358.80</td>\n      <td>11.20</td>\n      <td>4.53</td>\n      <td>50.69</td>\n      <td>23.83</td>\n      <td>14.4</td>\n      <td>28780.4</td>\n      <td>-9.92</td>\n      <td>21.41</td>\n      <td>NaN</td>\n      <td>52.0</td>\n      <td>0.0</td>\n      <td>52.0</td>\n      <td>0.0</td>\n      <td>0.40</td>\n      <td>0.38</td>\n      <td>3840.0</td>\n      <td>0.027955</td>\n      <td>1.3808</td>\n      <td>-24.6142</td>\n      <td>-14.2</td>\n      <td>0.0039</td>\n      <td>1</td>\n      <td>0</td>\n      <td>490.45</td>\n      <td>15.72</td>\n      <td>119.46</td>\n      <td>0.00</td>\n      <td>0.0</td>\n      <td>0.0</td>\n      <td>0.08</td>\n      <td>0</td>\n      <td>0</td>\n      <td>0</td>\n      <td>1</td>\n    </tr>\n    <tr>\n      <th>4</th>\n      <td>4419.37</td>\n      <td>16.13</td>\n      <td>1.05</td>\n      <td>16.99</td>\n      <td>16.55</td>\n      <td>5.6</td>\n      <td>4655.6</td>\n      <td>-6.60</td>\n      <td>31.03</td>\n      <td>NaN</td>\n      <td>156.0</td>\n      <td>0.0</td>\n      <td>156.0</td>\n      <td>0.0</td>\n      <td>0.11</td>\n      <td>0.27</td>\n      <td>3064.0</td>\n      <td>0.005765</td>\n      <td>2.3228</td>\n      <td>-39.4231</td>\n      <td>-10.1</td>\n      <td>0.0009</td>\n      <td>1</td>\n      <td>0</td>\n      <td>3028.82</td>\n      <td>19.46</td>\n      <td>133.25</td>\n      <td>0.00</td>\n      <td>0.0</td>\n      <td>0.0</td>\n      <td>0.06</td>\n      <td>0</td>\n      <td>0</td>\n      <td>0</td>\n      <td>1</td>\n    </tr>\n  </tbody>\n</table>\n</div>"
     },
     "metadata": {},
     "execution_count": 127
    }
   ],
   "source": [
    "df_numeric = df.select_dtypes(exclude=['object'])\n",
    "df_numeric.head()"
   ]
  },
  {
   "cell_type": "code",
   "execution_count": 128,
   "metadata": {},
   "outputs": [],
   "source": [
    "# Visualizing the outliers with boxplots\n",
    "# f = plt.figure(figsize=(18, 14))\n",
    "# i=1\n",
    "# import math\n",
    "# for col in df_numeric.columns:\n",
    "#     subplot = f.add_subplot(math.ceil(df_numeric.shape[1]/3),3,i)\n",
    "#     sns.boxplot(x=df_numeric[col].dropna(),whis=10)\n",
    "#     i=i+1\n",
    "# plt.subplots_adjust(hspace=0.4);"
   ]
  },
  {
   "cell_type": "markdown",
   "metadata": {},
   "source": [
    "## Categorical data"
   ],
   "execution_count": null,
   "outputs": []
  },
  {
   "cell_type": "code",
   "execution_count": 129,
   "metadata": {},
   "outputs": [
    {
     "output_type": "execute_result",
     "data": {
      "text/plain": "  p_zone_class p_mass_class p_composition_class p_atmosphere_class  \\\n0         Cold       Jovian                 gas      hydrogen-rich   \n1         Cold       Jovian                 gas      hydrogen-rich   \n2         Cold       Jovian                 gas      hydrogen-rich   \n3         Cold       Jovian                 gas      hydrogen-rich   \n4         Cold       Jovian                 gas      hydrogen-rich   \n\n  p_habitable_class p_sflux_mean_(eu)  \n0     non-habitable      4.079751e-06  \n1     non-habitable        0.02166914  \n2     non-habitable      3.961934e-06  \n3     non-habitable      1.033854e-05  \n4     non-habitable      2.368772e-07  ",
      "text/html": "<div>\n<style scoped>\n    .dataframe tbody tr th:only-of-type {\n        vertical-align: middle;\n    }\n\n    .dataframe tbody tr th {\n        vertical-align: top;\n    }\n\n    .dataframe thead th {\n        text-align: right;\n    }\n</style>\n<table border=\"1\" class=\"dataframe\">\n  <thead>\n    <tr style=\"text-align: right;\">\n      <th></th>\n      <th>p_zone_class</th>\n      <th>p_mass_class</th>\n      <th>p_composition_class</th>\n      <th>p_atmosphere_class</th>\n      <th>p_habitable_class</th>\n      <th>p_sflux_mean_(eu)</th>\n    </tr>\n  </thead>\n  <tbody>\n    <tr>\n      <th>0</th>\n      <td>Cold</td>\n      <td>Jovian</td>\n      <td>gas</td>\n      <td>hydrogen-rich</td>\n      <td>non-habitable</td>\n      <td>4.079751e-06</td>\n    </tr>\n    <tr>\n      <th>1</th>\n      <td>Cold</td>\n      <td>Jovian</td>\n      <td>gas</td>\n      <td>hydrogen-rich</td>\n      <td>non-habitable</td>\n      <td>0.02166914</td>\n    </tr>\n    <tr>\n      <th>2</th>\n      <td>Cold</td>\n      <td>Jovian</td>\n      <td>gas</td>\n      <td>hydrogen-rich</td>\n      <td>non-habitable</td>\n      <td>3.961934e-06</td>\n    </tr>\n    <tr>\n      <th>3</th>\n      <td>Cold</td>\n      <td>Jovian</td>\n      <td>gas</td>\n      <td>hydrogen-rich</td>\n      <td>non-habitable</td>\n      <td>1.033854e-05</td>\n    </tr>\n    <tr>\n      <th>4</th>\n      <td>Cold</td>\n      <td>Jovian</td>\n      <td>gas</td>\n      <td>hydrogen-rich</td>\n      <td>non-habitable</td>\n      <td>2.368772e-07</td>\n    </tr>\n  </tbody>\n</table>\n</div>"
     },
     "metadata": {},
     "execution_count": 129
    }
   ],
   "source": [
    "df.select_dtypes(include=['object']).head()"
   ]
  },
  {
   "cell_type": "code",
   "execution_count": 130,
   "metadata": {},
   "outputs": [],
   "source": [
    "df['p_sflux_mean_(eu)'] = df['p_sflux_mean_(eu)'].str.strip()\n",
    "df = df.replace('', np.nan)\n",
    "df['p_sflux_mean_(eu)'] = df['p_sflux_mean_(eu)'].astype('float64')"
   ]
  },
  {
   "cell_type": "markdown",
   "metadata": {},
   "source": [
    " # By column"
   ]
  },
  {
   "cell_type": "markdown",
   "metadata": {},
   "source": [
    "# Save"
   ]
  },
  {
   "cell_type": "code",
   "execution_count": 131,
   "metadata": {},
   "outputs": [],
   "source": [
    "df.to_csv('../datasets/phl_again_processed.csv', index=False)"
   ]
  },
  {
   "cell_type": "code",
   "execution_count": null,
   "metadata": {},
   "outputs": [],
   "source": []
  }
 ]
}